{
 "cells": [
  {
   "cell_type": "markdown",
   "metadata": {},
   "source": [
    "___\n",
    "\n",
    "<a href='https://www.udemy.com/user/joseportilla/'><img src='../Pierian_Data_Logo.png'/></a>\n",
    "___\n",
    "<center><em>Content Copyright by Pierian Data</em></center>"
   ]
  },
  {
   "cell_type": "markdown",
   "metadata": {},
   "source": [
    "# Opening and Reading Files\n",
    "\n",
    "##### So far we've discussed how to open files manually, one by one. Let's explore how we can open files programatically. \n",
    "##### We have seen how to open individual files manually. However we dont know how to work with every file in a directory (specially if it contains subdirectories) and how to move file between directories. <br> The Python os and shutil modules allow us to navigate files and directories on computer and then perform actions on them Ex: moving, deleting \n"
   ]
  },
  {
   "cell_type": "markdown",
   "metadata": {
    "collapsed": true
   },
   "source": [
    "_____"
   ]
  },
  {
   "cell_type": "markdown",
   "metadata": {},
   "source": [
    "### Review: Understanding File Paths"
   ]
  },
  {
   "cell_type": "code",
   "execution_count": 2,
   "metadata": {},
   "outputs": [
    {
     "data": {
      "text/plain": [
       "'C:\\\\Users\\\\G703147\\\\Desktop\\\\udemycourses\\\\Complete-Python-3-Bootcamp-master\\\\12-Advanced Python Modules'"
      ]
     },
     "execution_count": 2,
     "metadata": {},
     "output_type": "execute_result"
    }
   ],
   "source": [
    "pwd"
   ]
  },
  {
   "cell_type": "markdown",
   "metadata": {},
   "source": [
    "##### Note that jupyter allows us to execute shell commands right from the cell. Ex: ls,pwd <br> Also note that in case of Windows the path contains '\\\\'. This is actually used to escape \\ in windows paths. (On Linux path separator is /)"
   ]
  },
  {
   "cell_type": "markdown",
   "metadata": {},
   "source": [
    "### Create Practice File\n",
    "\n",
    "We will begin by creating a practice text file that we will be using for demonstration."
   ]
  },
  {
   "cell_type": "code",
   "execution_count": 9,
   "metadata": {},
   "outputs": [],
   "source": [
    "f = open('practice.txt','w+')"
   ]
  },
  {
   "cell_type": "code",
   "execution_count": 10,
   "metadata": {},
   "outputs": [],
   "source": [
    "f.write('test')\n",
    "f.close()"
   ]
  },
  {
   "cell_type": "code",
   "execution_count": 12,
   "metadata": {},
   "outputs": [
    {
     "name": "stdout",
     "output_type": "stream",
     "text": [
      " Volume in drive C is OSDisk\n",
      " Volume Serial Number is E243-1059\n",
      "\n",
      " Directory of C:\\Users\\G703147\\Desktop\\udemycourses\\Complete-Python-3-Bootcamp-master\\12-Advanced Python Modules\n",
      "\n",
      "06/30/2020  11:11 PM                 4 practice.txt\n",
      "               1 File(s)              4 bytes\n",
      "               0 Dir(s)  38,412,341,248 bytes free\n"
     ]
    }
   ],
   "source": [
    "ls practice.txt "
   ]
  },
  {
   "cell_type": "markdown",
   "metadata": {},
   "source": [
    "### Getting Directories\n",
    "\n",
    "Python has a built-in [os module](https://docs.python.org/3/library/os.html) that allows us to use operating system dependent functionality.\n",
    "\n",
    "You can get the current directory:"
   ]
  },
  {
   "cell_type": "code",
   "execution_count": 13,
   "metadata": {},
   "outputs": [],
   "source": [
    "import os"
   ]
  },
  {
   "cell_type": "code",
   "execution_count": 6,
   "metadata": {},
   "outputs": [
    {
     "data": {
      "text/plain": [
       "'C:\\\\Users\\\\Marcial\\\\Pierian-Data-Courses\\\\Complete-Python-3-Bootcamp\\\\12-Advanced Python Modules'"
      ]
     },
     "execution_count": 6,
     "metadata": {},
     "output_type": "execute_result"
    }
   ],
   "source": [
    "os.getcwd() #Return a unicode string representing the current working directory."
   ]
  },
  {
   "cell_type": "markdown",
   "metadata": {},
   "source": [
    "### Listing Files in a Directory\n",
    "\n",
    "You can also use the os module to list directories."
   ]
  },
  {
   "cell_type": "code",
   "execution_count": 7,
   "metadata": {},
   "outputs": [
    {
     "data": {
      "text/plain": [
       "['.ipynb_checkpoints',\n",
       " '00-Collections-Module.ipynb',\n",
       " '01-Datetime-Module.ipynb',\n",
       " '01-Opening-and-Reading-Files.ipynb',\n",
       " '02-Math-and-Random-Module.ipynb',\n",
       " '03-Python Debugger (pdb).ipynb',\n",
       " '04-Timing your code - timeit.ipynb',\n",
       " '05-Overview-of-Regular-Expressions.ipynb',\n",
       " '06-Unzipping-and-Zipping-Files.ipynb',\n",
       " '07-OS-Module.ipynb',\n",
       " '08-Advanced-Python-Module-Exercise',\n",
       " 'comp_file.zip',\n",
       " 'Example_Top_Level',\n",
       " 'extracted_content',\n",
       " 'new_file.txt',\n",
       " 'new_file2.txt',\n",
       " 'practice.txt']"
      ]
     },
     "execution_count": 7,
     "metadata": {},
     "output_type": "execute_result"
    }
   ],
   "source": [
    "# In your current directory\n",
    "os.listdir() #Return a list containing the names of the files in the directory. By Default it shows files from current directory"
   ]
  },
  {
   "cell_type": "code",
   "execution_count": 18,
   "metadata": {},
   "outputs": [
    {
     "data": {
      "text/plain": [
       "['AccountPictures',\n",
       " 'Desktop',\n",
       " 'desktop.ini',\n",
       " 'Documents',\n",
       " 'Downloads',\n",
       " 'Juniper Networks',\n",
       " 'Libraries',\n",
       " 'Music',\n",
       " 'Pictures',\n",
       " 'PSAppDeployToolkit',\n",
       " 'Videos']"
      ]
     },
     "execution_count": 18,
     "metadata": {},
     "output_type": "execute_result"
    }
   ],
   "source": [
    "# In any directory you pass\n",
    "os.listdir(\"C://Users/Public/\") # We can explicitly pass a directory whose contents we would like to have in a list.\n",
    "#In Jupyter notebook, path names also provide the Tab completion feature."
   ]
  },
  {
   "cell_type": "markdown",
   "metadata": {
    "collapsed": true
   },
   "source": [
    "### Moving Files \n",
    "\n",
    "You can use the built-in **shutil** module to to move files to different locations. Keep in mind, there are permission restrictions, for example if you are logged in a User A, you won't be able to make changes to the top level Users folder without the proper permissions, [more info](https://stackoverflow.com/questions/23253439/shutil-movescr-dst-gets-me-ioerror-errno-13-permission-denied-and-3-more-e)"
   ]
  },
  {
   "cell_type": "code",
   "execution_count": 20,
   "metadata": {},
   "outputs": [],
   "source": [
    "import shutil  #Shell utilities"
   ]
  },
  {
   "cell_type": "code",
   "execution_count": 22,
   "metadata": {},
   "outputs": [
    {
     "data": {
      "text/plain": [
       "'C:\\\\Users\\\\Public\\\\practice.txt'"
      ]
     },
     "execution_count": 22,
     "metadata": {},
     "output_type": "execute_result"
    }
   ],
   "source": [
    "shutil.move('practice.txt','C:\\\\Users\\\\Public')\n",
    "#Recursively move a file or directory to another location. \n",
    "#This is similar to the Unix \"mv\" command. Return the file or directory's destination.\n",
    "#We need to have permissions to make sure these commands work."
   ]
  },
  {
   "cell_type": "code",
   "execution_count": 24,
   "metadata": {},
   "outputs": [
    {
     "data": {
      "text/plain": [
       "['AccountPictures',\n",
       " 'Desktop',\n",
       " 'desktop.ini',\n",
       " 'Documents',\n",
       " 'Downloads',\n",
       " 'Juniper Networks',\n",
       " 'Libraries',\n",
       " 'Music',\n",
       " 'Pictures',\n",
       " 'practice.txt',\n",
       " 'PSAppDeployToolkit',\n",
       " 'Videos']"
      ]
     },
     "execution_count": 24,
     "metadata": {},
     "output_type": "execute_result"
    }
   ],
   "source": [
    "os.listdir('C:\\\\Users\\\\Public')"
   ]
  },
  {
   "cell_type": "code",
   "execution_count": 25,
   "metadata": {},
   "outputs": [
    {
     "data": {
      "text/plain": [
       "'C:\\\\Users\\\\G703147\\\\Desktop\\\\udemycourses\\\\Complete-Python-3-Bootcamp-master\\\\12-Advanced Python Modules\\\\practice.txt'"
      ]
     },
     "execution_count": 25,
     "metadata": {},
     "output_type": "execute_result"
    }
   ],
   "source": [
    "shutil.move('C:\\\\Users\\\\Public\\practice.txt',os.getcwd())"
   ]
  },
  {
   "cell_type": "code",
   "execution_count": 26,
   "metadata": {},
   "outputs": [
    {
     "data": {
      "text/plain": [
       "['.ipynb_checkpoints',\n",
       " '00-Collections-Module.ipynb',\n",
       " '01-Opening-and-Reading-Files-Folders.ipynb',\n",
       " '02-Datetime-Module.ipynb',\n",
       " '03-Math-and-Random-Module.ipynb',\n",
       " '04-Python Debugger (pdb).ipynb',\n",
       " '05-Overview-of-Regular-Expressions.ipynb',\n",
       " '06-Timing your code - timeit.ipynb',\n",
       " '07-Unzipping-and-Zipping-Files.ipynb',\n",
       " '08-Advanced-Python-Module-Exercise',\n",
       " 'Example_Top_Level',\n",
       " 'practice.txt']"
      ]
     },
     "execution_count": 26,
     "metadata": {},
     "output_type": "execute_result"
    }
   ],
   "source": [
    "os.listdir()"
   ]
  },
  {
   "cell_type": "markdown",
   "metadata": {},
   "source": [
    "### Deleting Files\n",
    "____\n",
    "**NOTE: The os module provides 3 methods for deleting files:**\n",
    "* os.unlink(path) which deletes a file at the path your provide\n",
    "* os.rmdir(path) which deletes a folder (folder must be empty) at the path your provide\n",
    "* shutil.rmtree(path) this is the most dangerous, as it will remove all files and folders contained in the path.\n",
    "**All of these methods can not be reversed! Which means if you make a mistake you won't be able to recover the file. Instead we will use the send2trash module. A safer alternative that sends deleted files to the trash bin instead of permanent removal.**\n",
    "___\n",
    "\n",
    "Install the send2trash module with:\n",
    "\n",
    "    pip install send2trash\n",
    "    \n",
    "at your command line."
   ]
  },
  {
   "cell_type": "code",
   "execution_count": 27,
   "metadata": {},
   "outputs": [
    {
     "name": "stdout",
     "output_type": "stream",
     "text": [
      "Requirement already satisfied: send2trash in c:\\users\\g703147\\appdata\\local\\continuum\\anaconda3\\lib\\site-packages (1.5.0)\n",
      "Note: you may need to restart the kernel to use updated packages.\n"
     ]
    }
   ],
   "source": [
    "pip install send2trash"
   ]
  },
  {
   "cell_type": "code",
   "execution_count": 28,
   "metadata": {},
   "outputs": [],
   "source": [
    "import send2trash"
   ]
  },
  {
   "cell_type": "code",
   "execution_count": 29,
   "metadata": {},
   "outputs": [
    {
     "data": {
      "text/plain": [
       "['.ipynb_checkpoints',\n",
       " '00-Collections-Module.ipynb',\n",
       " '01-Opening-and-Reading-Files-Folders.ipynb',\n",
       " '02-Datetime-Module.ipynb',\n",
       " '03-Math-and-Random-Module.ipynb',\n",
       " '04-Python Debugger (pdb).ipynb',\n",
       " '05-Overview-of-Regular-Expressions.ipynb',\n",
       " '06-Timing your code - timeit.ipynb',\n",
       " '07-Unzipping-and-Zipping-Files.ipynb',\n",
       " '08-Advanced-Python-Module-Exercise',\n",
       " 'Example_Top_Level',\n",
       " 'practice.txt']"
      ]
     },
     "execution_count": 29,
     "metadata": {},
     "output_type": "execute_result"
    }
   ],
   "source": [
    "os.listdir()"
   ]
  },
  {
   "cell_type": "code",
   "execution_count": 30,
   "metadata": {},
   "outputs": [],
   "source": [
    "send2trash.send2trash('practice.txt')"
   ]
  },
  {
   "cell_type": "code",
   "execution_count": 31,
   "metadata": {},
   "outputs": [
    {
     "data": {
      "text/plain": [
       "['.ipynb_checkpoints',\n",
       " '00-Collections-Module.ipynb',\n",
       " '01-Opening-and-Reading-Files-Folders.ipynb',\n",
       " '02-Datetime-Module.ipynb',\n",
       " '03-Math-and-Random-Module.ipynb',\n",
       " '04-Python Debugger (pdb).ipynb',\n",
       " '05-Overview-of-Regular-Expressions.ipynb',\n",
       " '06-Timing your code - timeit.ipynb',\n",
       " '07-Unzipping-and-Zipping-Files.ipynb',\n",
       " '08-Advanced-Python-Module-Exercise',\n",
       " 'Example_Top_Level']"
      ]
     },
     "execution_count": 31,
     "metadata": {},
     "output_type": "execute_result"
    }
   ],
   "source": [
    "os.listdir()"
   ]
  },
  {
   "cell_type": "markdown",
   "metadata": {},
   "source": [
    "### Walking through a directory\n",
    "\n",
    "Often you will just need to \"walk\" through a directory, that is visit every file or folder and check to see if a file is in the directory, and then perhaps do something with that file. Usually recursively walking through every file and folder in a directory would be quite tricky to program, but luckily the os module has a direct method call for this called os.walk(). Let's explore how it works."
   ]
  },
  {
   "cell_type": "code",
   "execution_count": 32,
   "metadata": {},
   "outputs": [
    {
     "data": {
      "text/plain": [
       "'C:\\\\Users\\\\G703147\\\\Desktop\\\\udemycourses\\\\Complete-Python-3-Bootcamp-master\\\\12-Advanced Python Modules'"
      ]
     },
     "execution_count": 32,
     "metadata": {},
     "output_type": "execute_result"
    }
   ],
   "source": [
    "os.getcwd()"
   ]
  },
  {
   "cell_type": "code",
   "execution_count": 33,
   "metadata": {},
   "outputs": [
    {
     "data": {
      "text/plain": [
       "['.ipynb_checkpoints',\n",
       " '00-Collections-Module.ipynb',\n",
       " '01-Opening-and-Reading-Files-Folders.ipynb',\n",
       " '02-Datetime-Module.ipynb',\n",
       " '03-Math-and-Random-Module.ipynb',\n",
       " '04-Python Debugger (pdb).ipynb',\n",
       " '05-Overview-of-Regular-Expressions.ipynb',\n",
       " '06-Timing your code - timeit.ipynb',\n",
       " '07-Unzipping-and-Zipping-Files.ipynb',\n",
       " '08-Advanced-Python-Module-Exercise',\n",
       " 'Example_Top_Level']"
      ]
     },
     "execution_count": 33,
     "metadata": {},
     "output_type": "execute_result"
    }
   ],
   "source": [
    "os.listdir()"
   ]
  },
  {
   "cell_type": "markdown",
   "metadata": {},
   "source": [
    "##### Following is the signature of the os.walk method\n",
    "Signature: os.walk(top, topdown=True, onerror=None, followlinks=False)\n",
    "\n",
    "Directory tree generator.\n",
    "\n",
    "For each directory in the directory tree rooted at top (including top itself, but excluding '.' and '..'), yields a 3 element tuple - (dirpath, dirnames, filenames)\n",
    "\n",
    "dirpath is a string, the path to the directory.  dirnames is a list of the names of the subdirectories in dirpath (excluding '.' and '..').\n",
    "filenames is a list of the names of the non-directory files in dirpath.\n",
    "Note that the names in the lists are just names, with no path components.\n",
    "\n",
    "To get a full path (which begins with top) to a file or directory indirpath, do os.path.join(dirpath, name)."
   ]
  },
  {
   "cell_type": "code",
   "execution_count": 34,
   "metadata": {},
   "outputs": [
    {
     "name": "stdout",
     "output_type": "stream",
     "text": [
      "Currently looking at folder: Example_Top_Level\n",
      "\n",
      "\n",
      "THE SUBFOLDERS ARE: \n",
      "\t Subfolder: Mid-Example-One\n",
      "\n",
      "\n",
      "THE FILES ARE: \n",
      "\t File: Mid-Example.txt\n",
      "\n",
      "\n",
      "Currently looking at folder: Example_Top_Level\\Mid-Example-One\n",
      "\n",
      "\n",
      "THE SUBFOLDERS ARE: \n",
      "\t Subfolder: Bottom-Level-One\n",
      "\t Subfolder: Bottom-Level-Two\n",
      "\n",
      "\n",
      "THE FILES ARE: \n",
      "\t File: Mid-Level-Doc.txt\n",
      "\n",
      "\n",
      "Currently looking at folder: Example_Top_Level\\Mid-Example-One\\Bottom-Level-One\n",
      "\n",
      "\n",
      "THE SUBFOLDERS ARE: \n",
      "\n",
      "\n",
      "THE FILES ARE: \n",
      "\t File: One_Text.txt\n",
      "\n",
      "\n",
      "Currently looking at folder: Example_Top_Level\\Mid-Example-One\\Bottom-Level-Two\n",
      "\n",
      "\n",
      "THE SUBFOLDERS ARE: \n",
      "\n",
      "\n",
      "THE FILES ARE: \n",
      "\t File: Bottom-Text-Two.txt\n",
      "\n",
      "\n"
     ]
    }
   ],
   "source": [
    "for folder , sub_folders , files in os.walk(\"Example_Top_Level\"):\n",
    "    \n",
    "    print(\"Currently looking at folder: \"+ folder)\n",
    "    print('\\n')\n",
    "    print(\"THE SUBFOLDERS ARE: \")\n",
    "    for sub_fold in sub_folders:\n",
    "        print(\"\\t Subfolder: \"+sub_fold )\n",
    "    \n",
    "    print('\\n')\n",
    "    \n",
    "    print(\"THE FILES ARE: \")\n",
    "    for f in files:\n",
    "        print(\"\\t File: \"+f)\n",
    "    print('\\n')\n",
    "    \n",
    "    # Now look at subfolders"
   ]
  },
  {
   "cell_type": "markdown",
   "metadata": {
    "collapsed": true
   },
   "source": [
    "___\n",
    "Excellent, you should now be aware of how to work with a computer's files and folders in whichever directory they are in. Remember that the os module works for any oeprating system that supports Python, which means these commands will work across Linux,MacOs, or Windows without need for adjustment."
   ]
  }
 ],
 "metadata": {
  "anaconda-cloud": {},
  "kernelspec": {
   "display_name": "Python 3",
   "language": "python",
   "name": "python3"
  },
  "language_info": {
   "codemirror_mode": {
    "name": "ipython",
    "version": 3
   },
   "file_extension": ".py",
   "mimetype": "text/x-python",
   "name": "python",
   "nbconvert_exporter": "python",
   "pygments_lexer": "ipython3",
   "version": "3.7.3"
  }
 },
 "nbformat": 4,
 "nbformat_minor": 2
}
