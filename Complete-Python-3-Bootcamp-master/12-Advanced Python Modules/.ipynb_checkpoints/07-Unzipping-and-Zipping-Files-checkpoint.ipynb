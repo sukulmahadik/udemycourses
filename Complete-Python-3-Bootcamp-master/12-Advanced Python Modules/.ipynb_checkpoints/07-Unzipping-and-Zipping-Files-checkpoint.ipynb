{
 "cells": [
  {
   "cell_type": "markdown",
   "metadata": {},
   "source": [
    "___\n",
    "\n",
    "<a href='https://www.udemy.com/user/joseportilla/'><img src='../Pierian_Data_Logo.png'/></a>\n",
    "___\n",
    "<center><em>Content Copyright by Pierian Data</em></center>"
   ]
  },
  {
   "cell_type": "markdown",
   "metadata": {},
   "source": [
    "# Unzipping and Zipping Files\n",
    "\n",
    "As you are probably aware, files can be compressed to a zip format. Often people use special programs on their computer to unzip these files, luckily for us, Python can do the same task with just a few simple lines of code."
   ]
  },
  {
   "cell_type": "markdown",
   "metadata": {},
   "source": [
    "## Create Files to Compress"
   ]
  },
  {
   "cell_type": "code",
   "execution_count": 1,
   "metadata": {},
   "outputs": [],
   "source": [
    "# slashes may need to change for MacOS or Linux\n",
    "f = open(\"new_file.txt\",'w+')\n",
    "f.write(\"Here is some text\")\n",
    "f.close()"
   ]
  },
  {
   "cell_type": "code",
   "execution_count": 2,
   "metadata": {},
   "outputs": [],
   "source": [
    "# slashes may need to change for MacOS or Linux\n",
    "f = open(\"new_file2.txt\",'w+')\n",
    "f.write(\"Here is some text\")\n",
    "f.close()"
   ]
  },
  {
   "cell_type": "code",
   "execution_count": 4,
   "metadata": {},
   "outputs": [
    {
     "name": "stdout",
     "output_type": "stream",
     "text": [
      " Volume in drive C is OSDisk\n",
      " Volume Serial Number is E243-1059\n",
      "\n",
      " Directory of C:\\Users\\G703147\\Desktop\\udemycourses\\Complete-Python-3-Bootcamp-master\\12-Advanced Python Modules\n",
      "\n",
      "07/01/2020  12:40 AM                17 new_file.txt\n",
      "07/01/2020  12:40 AM                17 new_file2.txt\n",
      "               2 File(s)             34 bytes\n",
      "               0 Dir(s)  38,380,212,224 bytes free\n"
     ]
    }
   ],
   "source": [
    "ls *file*.txt\n"
   ]
  },
  {
   "cell_type": "markdown",
   "metadata": {},
   "source": [
    "## Zipping Files\n",
    "\n",
    "The [zipfile library](https://docs.python.org/3/library/zipfile.html) is built in to Python, we can use it to compress folders or files. To compress all files in a folder, just use the os.walk() method to iterate this process for all the files in a directory."
   ]
  },
  {
   "cell_type": "code",
   "execution_count": 6,
   "metadata": {},
   "outputs": [],
   "source": [
    "import zipfile"
   ]
  },
  {
   "cell_type": "markdown",
   "metadata": {},
   "source": [
    " Create Zip file first , then write to it (the write step compresses the files.)"
   ]
  },
  {
   "cell_type": "code",
   "execution_count": 9,
   "metadata": {},
   "outputs": [],
   "source": [
    "comp_file = zipfile.ZipFile('comp_file.zip','w')\n",
    "#zipfile.ZipFile is a Class.\n",
    "#So here we are creating an instance of this class on which we shll invoke other functions\n",
    "#Init signature: zipfile.ZipFile(file,mode='r',compression=0,allowZip64=True,compresslevel=None,)\n",
    "#Docstring: Class with methods to open, read, write, close, list zip files."
   ]
  },
  {
   "cell_type": "code",
   "execution_count": 10,
   "metadata": {
    "scrolled": true
   },
   "outputs": [
    {
     "name": "stdout",
     "output_type": "stream",
     "text": [
      " Volume in drive C is OSDisk\n",
      " Volume Serial Number is E243-1059\n",
      "\n",
      " Directory of C:\\Users\\G703147\\Desktop\\udemycourses\\Complete-Python-3-Bootcamp-master\\12-Advanced Python Modules\n",
      "\n",
      "07/01/2020  01:21 AM                22 comp_file.zip\n",
      "               1 File(s)             22 bytes\n",
      "               0 Dir(s)  38,418,333,696 bytes free\n"
     ]
    }
   ],
   "source": [
    "ls comp_file.zip"
   ]
  },
  {
   "cell_type": "markdown",
   "metadata": {},
   "source": [
    "Note that once we execute the zipfile.ZipFile(...), it creates a empty zip file. We can see here that the size is 0.\n",
    "Below write method invocations will compress individual files and add to the zip file"
   ]
  },
  {
   "cell_type": "code",
   "execution_count": 11,
   "metadata": {},
   "outputs": [],
   "source": [
    "comp_file.write(\"new_file.txt\",compress_type=zipfile.ZIP_DEFLATED)\n",
    "#comp_file.write(\n",
    "#    filename,\n",
    "#    arcname=None,\n",
    "#    compress_type=None,\n",
    "#    compresslevel=None,\n",
    "#)\n",
    "#Docstring:\n",
    "#Put the bytes from filename into the archive under the name arcname."
   ]
  },
  {
   "cell_type": "code",
   "execution_count": 12,
   "metadata": {},
   "outputs": [],
   "source": [
    "comp_file.write('new_file2.txt',compress_type=zipfile.ZIP_DEFLATED)"
   ]
  },
  {
   "cell_type": "code",
   "execution_count": 13,
   "metadata": {},
   "outputs": [],
   "source": [
    "comp_file.close() # Note we should close the zipfile."
   ]
  },
  {
   "cell_type": "markdown",
   "metadata": {},
   "source": [
    "Note that now the size of the zipped file is not 0 anymore."
   ]
  },
  {
   "cell_type": "code",
   "execution_count": 15,
   "metadata": {},
   "outputs": [
    {
     "name": "stdout",
     "output_type": "stream",
     "text": [
      " Volume in drive C is OSDisk\n",
      " Volume Serial Number is E243-1059\n",
      "\n",
      " Directory of C:\\Users\\G703147\\Desktop\\udemycourses\\Complete-Python-3-Bootcamp-master\\12-Advanced Python Modules\n",
      "\n",
      "07/01/2020  01:25 AM               262 comp_file.zip\n",
      "               1 File(s)            262 bytes\n",
      "               0 Dir(s)  38,434,476,032 bytes free\n"
     ]
    }
   ],
   "source": [
    "ls comp_file.zip"
   ]
  },
  {
   "cell_type": "markdown",
   "metadata": {},
   "source": [
    "## Extracting from Zip Files\n",
    "\n",
    "We can easily extract files with either the extractall() method to get all the files, or just using the extract() method to only grab individual files."
   ]
  },
  {
   "cell_type": "code",
   "execution_count": 16,
   "metadata": {},
   "outputs": [],
   "source": [
    "zip_obj = zipfile.ZipFile('comp_file.zip','r') #We now create an instance of ZipFile and this time we pass mode as read."
   ]
  },
  {
   "cell_type": "code",
   "execution_count": 17,
   "metadata": {},
   "outputs": [],
   "source": [
    "zip_obj.extractall(\"extracted_content\") # We specify the folder to extact to\n",
    "# To extract we have two options - 'extract' method to extract specific files. and 'extractall' method to extract all the files in the zip file.\n",
    "\n",
    "#The extractall method:\n",
    "#Signature: zip_obj.extractall(path=None, members=None, pwd=None)\n",
    "#Docstring: Extract all members from the archive to the current working directory. `path' specifies a different directory to extract to.\n",
    "#`members' is optional and must be a subset of the list returned by namelist().\n",
    "\n",
    "#The extract method:\n",
    "#Signature: zip_obj.extract(member, path=None, pwd=None)\n",
    "#Docstring: Extract a member from the archive to the current working directory, using its full name. \n",
    "#Its file information is extracted as accurately as possible. `member' may be a filename or a ZipInfo object. You can specify a different directory using `path'."
   ]
  },
  {
   "cell_type": "markdown",
   "metadata": {},
   "source": [
    "________"
   ]
  },
  {
   "cell_type": "markdown",
   "metadata": {},
   "source": [
    "# Using shutil library -- To Create/Unpack Archives - zip,tar,etc\n",
    "\n",
    "Often you don't want to extract or archive individual files from a .zip, but instead archive everything at once. The shutil library that is built in to python has easy to use commands for this:"
   ]
  },
  {
   "cell_type": "code",
   "execution_count": 18,
   "metadata": {},
   "outputs": [],
   "source": [
    "import shutil"
   ]
  },
  {
   "cell_type": "markdown",
   "metadata": {},
   "source": [
    "**The shutil library can accept a format parameter, `format` is the archive format: one of \"zip\", \"tar\", \"gztar\", \"bztar\", or \"xztar\".**"
   ]
  },
  {
   "cell_type": "code",
   "execution_count": 23,
   "metadata": {},
   "outputs": [
    {
     "data": {
      "text/plain": [
       "'C:\\\\Users\\\\G703147\\\\Desktop\\\\udemycourses\\\\Complete-Python-3-Bootcamp-master\\\\12-Advanced Python Modules'"
      ]
     },
     "execution_count": 23,
     "metadata": {},
     "output_type": "execute_result"
    }
   ],
   "source": [
    "pwd"
   ]
  },
  {
   "cell_type": "code",
   "execution_count": 24,
   "metadata": {},
   "outputs": [],
   "source": [
    "directory_to_zip='C:\\\\Users\\\\G703147\\\\Desktop\\\\udemycourses\\\\Complete-Python-3-Bootcamp-master\\\\12-Advanced Python Modules\\\\extracted_content'"
   ]
  },
  {
   "cell_type": "code",
   "execution_count": 25,
   "metadata": {},
   "outputs": [
    {
     "data": {
      "text/plain": [
       "'C:\\\\Users\\\\G703147\\\\Desktop\\\\udemycourses\\\\Complete-Python-3-Bootcamp-master\\\\12-Advanced Python Modules\\\\example.zip'"
      ]
     },
     "execution_count": 25,
     "metadata": {},
     "output_type": "execute_result"
    }
   ],
   "source": [
    "# Creating a zip archive\n",
    "output_filename = 'example'\n",
    "# Just fill in the output_filename and the directory to zip\n",
    "# Note this won't run as is because the variable are undefined\n",
    "shutil.make_archive(output_filename,'zip',directory_to_zip)"
   ]
  },
  {
   "cell_type": "code",
   "execution_count": null,
   "metadata": {
    "collapsed": true
   },
   "outputs": [],
   "source": [
    "# Extracting a zip archive\n",
    "# Notice how the parameter/argument order is slightly different here\n",
    "shutil.unpack_archive(output_filename,dir_for_extract_result,'zip')"
   ]
  }
 ],
 "metadata": {
  "kernelspec": {
   "display_name": "Python 3",
   "language": "python",
   "name": "python3"
  },
  "language_info": {
   "codemirror_mode": {
    "name": "ipython",
    "version": 3
   },
   "file_extension": ".py",
   "mimetype": "text/x-python",
   "name": "python",
   "nbconvert_exporter": "python",
   "pygments_lexer": "ipython3",
   "version": "3.7.3"
  }
 },
 "nbformat": 4,
 "nbformat_minor": 2
}
