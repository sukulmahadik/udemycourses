{
 "cells": [
  {
   "cell_type": "code",
   "execution_count": 2,
   "metadata": {},
   "outputs": [],
   "source": [
    "import pandas as pd"
   ]
  },
  {
   "cell_type": "markdown",
   "metadata": {},
   "source": [
    "## Create A `Series` Object from A Python List"
   ]
  },
  {
   "cell_type": "markdown",
   "metadata": {},
   "source": [
    "##### Series has a dtype , indicating the datatype of the elements in the Series.\n",
    "##### In below example, the elements are of String type. When Elements are of String type, Pandas shows dtype as 'Object'\n",
    "##### By Default, if we dont provide an Index, Pandas provides a numeric index starting with 0. Index is displayed below on the left.\n",
    "##### Unlike other data structures in Python, in Pandas index labels can be non numeric as well. Ex: String, Datetime etc\n",
    "\n",
    "##### pd.Series is the constructor method that creates a Series object from python datatypes like lists"
   ]
  },
  {
   "cell_type": "code",
   "execution_count": 2,
   "metadata": {
    "collapsed": false,
    "jupyter": {
     "outputs_hidden": false
    }
   },
   "outputs": [
    {
     "data": {
      "text/plain": [
       "0     Chocolate\n",
       "1       Vanilla\n",
       "2    Strawberry\n",
       "3    Rum Raisin\n",
       "dtype: object"
      ]
     },
     "execution_count": 2,
     "metadata": {},
     "output_type": "execute_result"
    }
   ],
   "source": [
    "ice_cream = [\"Chocolate\", \"Vanilla\", \"Strawberry\", \"Rum Raisin\"]\n",
    "\n",
    "pd.Series(ice_cream)"
   ]
  },
  {
   "cell_type": "markdown",
   "metadata": {},
   "source": [
    "##### A Series containing Integers. Note that the dtype is int64\n",
    "##### dtypes refers to the type of the values in the Series and not index"
   ]
  },
  {
   "cell_type": "code",
   "execution_count": 7,
   "metadata": {
    "collapsed": false,
    "jupyter": {
     "outputs_hidden": false
    }
   },
   "outputs": [
    {
     "data": {
      "text/plain": [
       "0     4\n",
       "1     8\n",
       "2    15\n",
       "3    16\n",
       "4    23\n",
       "5    42\n",
       "dtype: int64"
      ]
     },
     "execution_count": 7,
     "metadata": {},
     "output_type": "execute_result"
    }
   ],
   "source": [
    "lottery = [4, 8, 15, 16, 23, 42]\n",
    "\n",
    "pd.Series(lottery)"
   ]
  },
  {
   "cell_type": "markdown",
   "metadata": {},
   "source": [
    "##### A Series containing Booleans. Note that the dtype is bool"
   ]
  },
  {
   "cell_type": "code",
   "execution_count": 6,
   "metadata": {
    "collapsed": false,
    "jupyter": {
     "outputs_hidden": false
    }
   },
   "outputs": [
    {
     "data": {
      "text/plain": [
       "0     True\n",
       "1    False\n",
       "2    False\n",
       "3    False\n",
       "4     True\n",
       "dtype: bool"
      ]
     },
     "execution_count": 6,
     "metadata": {},
     "output_type": "execute_result"
    }
   ],
   "source": [
    "registrations = [True, False, False, False, True]\n",
    "\n",
    "pd.Series(registrations)"
   ]
  },
  {
   "cell_type": "code",
   "execution_count": null,
   "metadata": {},
   "outputs": [],
   "source": []
  },
  {
   "cell_type": "code",
   "execution_count": null,
   "metadata": {
    "collapsed": true,
    "jupyter": {
     "outputs_hidden": true
    }
   },
   "outputs": [],
   "source": []
  },
  {
   "cell_type": "code",
   "execution_count": null,
   "metadata": {
    "collapsed": true,
    "jupyter": {
     "outputs_hidden": true
    }
   },
   "outputs": [],
   "source": []
  },
  {
   "cell_type": "code",
   "execution_count": null,
   "metadata": {
    "collapsed": true,
    "jupyter": {
     "outputs_hidden": true
    }
   },
   "outputs": [],
   "source": []
  },
  {
   "cell_type": "code",
   "execution_count": null,
   "metadata": {
    "collapsed": true,
    "jupyter": {
     "outputs_hidden": true
    }
   },
   "outputs": [],
   "source": []
  },
  {
   "cell_type": "code",
   "execution_count": null,
   "metadata": {
    "collapsed": true,
    "jupyter": {
     "outputs_hidden": true
    }
   },
   "outputs": [],
   "source": []
  },
  {
   "cell_type": "code",
   "execution_count": null,
   "metadata": {
    "collapsed": true,
    "jupyter": {
     "outputs_hidden": true
    }
   },
   "outputs": [],
   "source": []
  },
  {
   "cell_type": "markdown",
   "metadata": {},
   "source": [
    "## Create A `Series` Object from a Dictionary"
   ]
  },
  {
   "cell_type": "markdown",
   "metadata": {},
   "source": [
    "##### We recollect that when we dont provide an explicit index, default pandas behaviour is to provide a numeric index starting at 0. However as discussed before, index does not need to be numeric. It can be any datatype. This is the advantage Series has over lists.\n",
    "\n",
    "##### When we create a Series from a dictionary, the keys in the dictionary become index labels, and values in dictionary become values in Series. Advantage of Series over Dict is that index labels need not be unique. We can have duplicate index labels.\n",
    "\n",
    "##### So the key takeaway here is that again a series is kind of like a mishmash of a python list and a python dictionary. It combines the best features of both of them and adds a whole slew of available functionalities on top."
   ]
  },
  {
   "cell_type": "code",
   "execution_count": 5,
   "metadata": {
    "collapsed": false,
    "jupyter": {
     "outputs_hidden": false
    }
   },
   "outputs": [
    {
     "data": {
      "text/plain": [
       "Aardvark            An animal\n",
       "Banana      A delicious fruit\n",
       "Cyan                  A color\n",
       "dtype: object"
      ]
     },
     "execution_count": 5,
     "metadata": {},
     "output_type": "execute_result"
    }
   ],
   "source": [
    "webster = {\"Aardvark\" : \"An animal\",\n",
    "           \"Banana\" : \"A delicious fruit\",\n",
    "           \"Cyan\" : \"A color\"}\n",
    "\n",
    "pd.Series(webster)"
   ]
  },
  {
   "cell_type": "markdown",
   "metadata": {},
   "source": [
    "## Intro to Attributes"
   ]
  },
  {
   "cell_type": "markdown",
   "metadata": {},
   "source": [
    "##### Objects in Python have attributes and methods.Attributes return information about the object. Attributes do not modify an object.So they don't actually manipulate it in any way or destroy it or edit it. In comparison , methods operate upon an object,  they do perform some kind of manipulation or operation or calculation.\n"
   ]
  },
  {
   "cell_type": "code",
   "execution_count": 3,
   "metadata": {
    "collapsed": false,
    "jupyter": {
     "outputs_hidden": false
    }
   },
   "outputs": [
    {
     "data": {
      "text/plain": [
       "0        Smart\n",
       "1     Handsome\n",
       "2     Charming\n",
       "3    Brilliant\n",
       "4       Humble\n",
       "dtype: object"
      ]
     },
     "execution_count": 3,
     "metadata": {},
     "output_type": "execute_result"
    }
   ],
   "source": [
    "about_me = [\"Smart\", \"Handsome\", \"Charming\", \"Brilliant\", \"Humble\"]\n",
    "s = pd.Series(about_me)\n",
    "s"
   ]
  },
  {
   "cell_type": "markdown",
   "metadata": {},
   "source": [
    "##### **s.values**: Return Series as ndarray or ndarray-like depending on the dtype.\n",
    "##### **s.index**: Returns an Index object for the Series. RangeIndex is an Immutable Index implementing a monotonic integer range. This is the default index type used by DataFrame and Series when no explicit index is provided by the user.\n",
    "##### **s.dtype**: Return the dtype object of the underlying data. This indicates the type of elements in the Series"
   ]
  },
  {
   "cell_type": "code",
   "execution_count": 4,
   "metadata": {
    "collapsed": false,
    "jupyter": {
     "outputs_hidden": false
    }
   },
   "outputs": [
    {
     "data": {
      "text/plain": [
       "array(['Smart', 'Handsome', 'Charming', 'Brilliant', 'Humble'],\n",
       "      dtype=object)"
      ]
     },
     "execution_count": 4,
     "metadata": {},
     "output_type": "execute_result"
    }
   ],
   "source": [
    "s.values"
   ]
  },
  {
   "cell_type": "code",
   "execution_count": 5,
   "metadata": {
    "collapsed": false,
    "jupyter": {
     "outputs_hidden": false
    }
   },
   "outputs": [
    {
     "data": {
      "text/plain": [
       "RangeIndex(start=0, stop=5, step=1)"
      ]
     },
     "execution_count": 5,
     "metadata": {},
     "output_type": "execute_result"
    }
   ],
   "source": [
    "s.index"
   ]
  },
  {
   "cell_type": "code",
   "execution_count": 6,
   "metadata": {
    "collapsed": false,
    "jupyter": {
     "outputs_hidden": false
    }
   },
   "outputs": [
    {
     "data": {
      "text/plain": [
       "dtype('O')"
      ]
     },
     "execution_count": 6,
     "metadata": {},
     "output_type": "execute_result"
    }
   ],
   "source": [
    "s.dtype"
   ]
  },
  {
   "cell_type": "markdown",
   "metadata": {},
   "source": [
    "## Intro to Methods"
   ]
  },
  {
   "cell_type": "code",
   "execution_count": 8,
   "metadata": {
    "collapsed": false,
    "jupyter": {
     "outputs_hidden": false
    }
   },
   "outputs": [
    {
     "data": {
      "text/plain": [
       "0    2.99\n",
       "1    4.45\n",
       "2    1.36\n",
       "dtype: float64"
      ]
     },
     "execution_count": 8,
     "metadata": {},
     "output_type": "execute_result"
    }
   ],
   "source": [
    "prices = [2.99, 4.45, 1.36]\n",
    "s = pd.Series(prices)\n",
    "s"
   ]
  },
  {
   "cell_type": "markdown",
   "metadata": {},
   "source": [
    "**The sum() method on a Series object**: Return the sum of the values for the requested axis.\n",
    "\n",
    "**Signature**:\n",
    "`s.sum(\n",
    "    axis=None,\n",
    "    skipna=None,\n",
    "    level=None,\n",
    "    numeric_only=None,\n",
    "    min_count=0,\n",
    "    **kwargs,\n",
    ")`\n",
    "\n",
    "\n",
    "`\n",
    "axis : {index (0)}\n",
    "    Axis for the function to be applied on.\n",
    "skipna : bool, default True\n",
    "    Exclude NA/null values when computing the result.\n",
    "level : int or level name, default None\n",
    "    If the axis is a MultiIndex (hierarchical), count along a\n",
    "    particular level, collapsing into a scalar.\n",
    "numeric_only : bool, default None\n",
    "    Include only float, int, boolean columns. If None, will attempt to use\n",
    "    everything, then use only numeric data. Not implemented for Series.\n",
    "min_count : int, default 0\n",
    "    The required number of valid values to perform the operation. If fewer than\n",
    "    ``min_count`` non-NA values are present the result will be NA.`\n",
    "    \n",
    "--------\n"
   ]
  },
  {
   "cell_type": "code",
   "execution_count": 9,
   "metadata": {
    "collapsed": false,
    "jupyter": {
     "outputs_hidden": false
    }
   },
   "outputs": [
    {
     "data": {
      "text/plain": [
       "8.8"
      ]
     },
     "execution_count": 9,
     "metadata": {},
     "output_type": "execute_result"
    }
   ],
   "source": [
    "s.sum()"
   ]
  },
  {
   "cell_type": "markdown",
   "metadata": {},
   "source": [
    "**The product() method on Series object**: Return the product of the values for the requested axis\n",
    "\n",
    "**Signature**:\n",
    "`s.product(\n",
    "    axis=None,\n",
    "    skipna=None,\n",
    "    level=None,\n",
    "    numeric_only=None,\n",
    "    min_count=0,\n",
    "    **kwargs,\n",
    ")`\n",
    "\n",
    "`\n",
    "axis : {index (0)}\n",
    "    Axis for the function to be applied on.\n",
    "skipna : bool, default True\n",
    "    Exclude NA/null values when computing the result.\n",
    "level : int or level name, default None\n",
    "    If the axis is a MultiIndex (hierarchical), count along a\n",
    "    particular level, collapsing into a scalar.\n",
    "numeric_only : bool, default None\n",
    "    Include only float, int, boolean columns. If None, will attempt to use\n",
    "    everything, then use only numeric data. Not implemented for Series.\n",
    "min_count : int, default 0\n",
    "    The required number of valid values to perform the operation. If fewer than\n",
    "    ``min_count`` non-NA values are present the result will be NA.`"
   ]
  },
  {
   "cell_type": "code",
   "execution_count": 10,
   "metadata": {
    "collapsed": false,
    "jupyter": {
     "outputs_hidden": false
    }
   },
   "outputs": [
    {
     "data": {
      "text/plain": [
       "18.095480000000006"
      ]
     },
     "execution_count": 10,
     "metadata": {},
     "output_type": "execute_result"
    }
   ],
   "source": [
    "s.product()"
   ]
  },
  {
   "cell_type": "markdown",
   "metadata": {},
   "source": [
    "**The mean() method on a Series object:**Return the mean of the values for the requested axis.\n",
    "\n",
    "**Signature:** `s.mean(axis=None, skipna=None, level=None, numeric_only=None, **kwargs)`\n",
    "\n",
    "\n",
    "`axis : {index (0)}\n",
    "    Axis for the function to be applied on.\n",
    "skipna : bool, default True\n",
    "    Exclude NA/null values when computing the result.\n",
    "level : int or level name, default None\n",
    "    If the axis is a MultiIndex (hierarchical), count along a\n",
    "    particular level, collapsing into a scalar.\n",
    "numeric_only : bool, default None\n",
    "    Include only float, int, boolean columns. If None, will attempt to use\n",
    "    everything, then use only numeric data. Not implemented for Series.\n",
    "**kwargs\n",
    "    Additional keyword arguments to be passed to the function.`\n"
   ]
  },
  {
   "cell_type": "code",
   "execution_count": 11,
   "metadata": {
    "collapsed": false,
    "jupyter": {
     "outputs_hidden": false
    }
   },
   "outputs": [
    {
     "data": {
      "text/plain": [
       "2.9333333333333336"
      ]
     },
     "execution_count": 11,
     "metadata": {},
     "output_type": "execute_result"
    }
   ],
   "source": [
    "s.mean()"
   ]
  },
  {
   "cell_type": "markdown",
   "metadata": {},
   "source": [
    "## Parameters and Arguments"
   ]
  },
  {
   "cell_type": "code",
   "execution_count": null,
   "metadata": {
    "collapsed": true,
    "jupyter": {
     "outputs_hidden": true
    }
   },
   "outputs": [],
   "source": [
    "# Difficulty - Easy, Medium, Hard\n",
    "# Volume - 1 through 10\n",
    "# Subtitles - True / False"
   ]
  },
  {
   "cell_type": "markdown",
   "metadata": {},
   "source": [
    "##### The pd.Series() method has many positional parameters. The first one is `data` and 2nd one is `index`.\n",
    "##### Thus we can provide iterables to be used as data and index. The length of both data and index should be same or we would get an error."
   ]
  },
  {
   "cell_type": "markdown",
   "metadata": {},
   "source": [
    "**The pd.Series() method:** \n",
    "##### One-dimensional ndarray with axis labels (including time series).\n",
    "##### Labels need not be unique but must be a hashable type. The object supports both integer- and label-based indexing and provides a host of methods for performing operations involving the index. Statistical methods from ndarray have been overridden to automatically exclude missing data (currently represented as NaN).\n",
    "##### Operations between Series (+, -, /, *, ** ) align values based on their associated index values-- they need not be the same length. The result index will be the sorted union of the two indexes.\n",
    "\n",
    "`Init signature:\n",
    "pd.Series(\n",
    "    data=None,\n",
    "    index=None,\n",
    "    dtype=None,\n",
    "    name=None,\n",
    "    copy=False,\n",
    "    fastpath=False,\n",
    ")`\n",
    "\n",
    "\n",
    "`\n",
    "data : array-like, Iterable, dict, or scalar value\n",
    "    Contains data stored in Series.\n",
    "index : array-like or Index (1d)\n",
    "    Values must be hashable and have the same length as `data`.\n",
    "    Non-unique index values are allowed. Will default to RangeIndex (0, 1, 2, ..., n) if not provided. If both a dict and index\n",
    "    sequence are used, the index will override the keys found in the dict.    \n",
    "dtype : str, numpy.dtype, or ExtensionDtype, optional\n",
    "    Data type for the output Series. If not specified, this will be inferred from `data`.\n",
    "name : str, optional\n",
    "    The name to give to the Series.\n",
    "copy : bool, default False\n",
    "    Copy input data.`"
   ]
  },
  {
   "cell_type": "code",
   "execution_count": 21,
   "metadata": {
    "collapsed": false,
    "jupyter": {
     "outputs_hidden": false
    }
   },
   "outputs": [
    {
     "data": {
      "text/plain": [
       "Monday           Apple\n",
       "Tuesday         Orange\n",
       "Wednesday         Plum\n",
       "Thursday         Grape\n",
       "Friday       Blueberry\n",
       "dtype: object"
      ]
     },
     "execution_count": 21,
     "metadata": {},
     "output_type": "execute_result"
    }
   ],
   "source": [
    "fruits = [\"Apple\", \"Orange\", \"Plum\", \"Grape\", \"Blueberry\"]\n",
    "weekdays = [\"Monday\", \"Tuesday\", \"Wednesday\", \"Thursday\", \"Friday\"]\n",
    "\n",
    "pd.Series(fruits, weekdays)\n",
    "pd.Series(data = fruits, index = weekdays)\n",
    "pd.Series(fruits, index = weekdays)"
   ]
  },
  {
   "cell_type": "markdown",
   "metadata": {},
   "source": [
    "##### Below shows that its okay to have duplicate index labels. When there are duplicates in the index labels, some data operations may not be possible. However point to remember is that index labels need not be unique."
   ]
  },
  {
   "cell_type": "code",
   "execution_count": 22,
   "metadata": {
    "collapsed": false,
    "jupyter": {
     "outputs_hidden": false
    }
   },
   "outputs": [
    {
     "data": {
      "text/plain": [
       "Monday            Apple\n",
       "Tuesday          Orange\n",
       "Wednesday          Plum\n",
       "Thursday          Grape\n",
       "Friday        Blueberry\n",
       "Monday       Watermelon\n",
       "dtype: object"
      ]
     },
     "execution_count": 22,
     "metadata": {},
     "output_type": "execute_result"
    }
   ],
   "source": [
    "fruits = [\"Apple\", \"Orange\", \"Plum\", \"Grape\", \"Blueberry\", \"Watermelon\"]\n",
    "weekdays = [\"Monday\", \"Tuesday\", \"Wednesday\", \"Thursday\", \"Friday\", \"Monday\"]\n",
    "\n",
    "pd.Series(data = fruits, index = weekdays)"
   ]
  },
  {
   "cell_type": "markdown",
   "metadata": {},
   "source": [
    "## Import `Series` with the `read_csv` Method"
   ]
  },
  {
   "cell_type": "markdown",
   "metadata": {},
   "source": [
    "**The pd.read_csv() method** : Read a comma-separated values (csv) file into DataFrame. Also supports optionally iterating or breaking of the file into chunks.\n",
    "\n",
    "**Signature:**\n",
    "`pd.read_csv(\n",
    "    filepath_or_buffer: Union[str, pathlib.Path, IO[~AnyStr]],\n",
    "    sep=',',\n",
    "    delimiter=None,\n",
    "    header='infer',\n",
    "    names=None,\n",
    "    index_col=None,\n",
    "    usecols=None,\n",
    "    squeeze=False,\n",
    "    prefix=None,\n",
    "    mangle_dupe_cols=True,\n",
    "    dtype=None,\n",
    "    engine=None,\n",
    "    converters=None,\n",
    "    true_values=None,\n",
    "    false_values=None,\n",
    "    skipinitialspace=False,\n",
    "    skiprows=None,\n",
    "    skipfooter=0,\n",
    "    nrows=None,\n",
    "    na_values=None,\n",
    "    keep_default_na=True,\n",
    "    na_filter=True,\n",
    "    verbose=False,\n",
    "    skip_blank_lines=True,\n",
    "    parse_dates=False,\n",
    "    infer_datetime_format=False,\n",
    "    keep_date_col=False,\n",
    "    date_parser=None,\n",
    "    dayfirst=False,\n",
    "    cache_dates=True,\n",
    "    iterator=False,\n",
    "    chunksize=None,\n",
    "    compression='infer',\n",
    "    thousands=None,\n",
    "    decimal: str = '.',\n",
    "    lineterminator=None,\n",
    "    quotechar='\"',\n",
    "    quoting=0,\n",
    "    doublequote=True,\n",
    "    escapechar=None,\n",
    "    comment=None,\n",
    "    encoding=None,\n",
    "    dialect=None,\n",
    "    error_bad_lines=True,\n",
    "    warn_bad_lines=True,\n",
    "    delim_whitespace=False,\n",
    "    low_memory=True,\n",
    "    memory_map=False,\n",
    "    float_precision=None,\n",
    ")`\n"
   ]
  },
  {
   "cell_type": "markdown",
   "metadata": {},
   "source": [
    "##### There are many more read_* methods available in python. Intresting ones include read_excel,read_clipboard,read_json,read_orc,read_pickle, read_sql, read_sql_query,read_sql_table, read_table etc"
   ]
  },
  {
   "attachments": {
    "4d06a079-24a2-4c00-aa86-a8c0ae9b33fd.png": {
     "image/png": "[encoded data removed]"
    },
    "b179e945-fd87-4ed4-9064-1e557d2c129c.png": {
     "image/png": "[encoded data removed]"
    }
   },
   "cell_type": "markdown",
   "metadata": {},
   "source": [
    "![image.png](attachment:4d06a079-24a2-4c00-aa86-a8c0ae9b33fd.png)\n",
    "![image.png](attachment:b179e945-fd87-4ed4-9064-1e557d2c129c.png)"
   ]
  },
  {
   "cell_type": "markdown",
   "metadata": {},
   "source": [
    "**filepath_or_buffer: str, path object or file-like object**\n",
    "    `Any valid string path is acceptable. The string could be a URL. Valid URL schemes include http, ftp, s3, and file. For file URLs, a host is expected. A local file could be: file://localhost/path/to/table.csv.\n",
    "    If you want to pass in a path object, pandas accepts any ``os.PathLike``.\n",
    "    By file-like object, we refer to objects with a ``read()`` method, such as a file handler (e.g. via builtin ``open`` function) or ``StringIO``.`\n",
    "    \n",
    "**usecols: list-like or callable, optional**\n",
    "    `Return a subset of the columns. If list-like, all elements must either be positional (i.e. integer indices into the document columns) or strings that correspond to column names provided either by the user in `names` or inferred from the document header row(s). \n",
    "For example, a valid list-like `usecols` parameter would be ``[0, 1, 2]`` or ``['foo', 'bar', 'baz']``.\n",
    "Element order is ignored, so ``usecols=[0, 1]`` is the same as ``[1, 0]``. To instantiate a DataFrame from ``data`` with element order preserved use ``pd.read_csv(data, usecols=['foo', 'bar'])[['foo', 'bar']]`` for columns in ``['foo', 'bar']`` order or ``pd.read_csv(data, usecols=['foo', 'bar'])[['bar', 'foo']]`` for ``['bar', 'foo']`` order.\n",
    "If callable, the callable function will be evaluated against the column names, returning names where the callable function evaluates to True. An example of a valid callable argument would be ``lambda x: x.upper() in ['AAA', 'BBB', 'DDD']``. Using this parameter results in much faster parsing time and lower memory usage.`\n",
    "\n",
    "**squeeze: bool, default False**\n",
    "    `If the parsed data only contains one column then return a Series. By Default, read_csv returns a Dataframe`"
   ]
  },
  {
   "cell_type": "code",
   "execution_count": 12,
   "metadata": {
    "collapsed": false,
    "jupyter": {
     "outputs_hidden": false
    }
   },
   "outputs": [
    {
     "data": {
      "text/plain": [
       "0       Bulbasaur\n",
       "1         Ivysaur\n",
       "2        Venusaur\n",
       "3      Charmander\n",
       "4      Charmeleon\n",
       "          ...    \n",
       "716       Yveltal\n",
       "717       Zygarde\n",
       "718       Diancie\n",
       "719         Hoopa\n",
       "720     Volcanion\n",
       "Name: Pokemon, Length: 721, dtype: object"
      ]
     },
     "execution_count": 12,
     "metadata": {},
     "output_type": "execute_result"
    }
   ],
   "source": [
    "pokemon = pd.read_csv(\"pokemon.csv\", usecols = [\"Pokemon\"], squeeze = True)\n",
    "pokemon"
   ]
  },
  {
   "cell_type": "markdown",
   "metadata": {},
   "source": [
    "##### Pandas by default shows top 5 and bottom 5 rows from our dataframe. The ... indicates that middle part is not displayed."
   ]
  },
  {
   "cell_type": "code",
   "execution_count": 13,
   "metadata": {
    "collapsed": false,
    "jupyter": {
     "outputs_hidden": false
    }
   },
   "outputs": [
    {
     "data": {
      "text/plain": [
       "0        50.12\n",
       "1        54.10\n",
       "2        54.65\n",
       "3        52.38\n",
       "4        52.95\n",
       "         ...  \n",
       "3007    772.88\n",
       "3008    771.07\n",
       "3009    773.18\n",
       "3010    771.61\n",
       "3011    782.22\n",
       "Name: Stock Price, Length: 3012, dtype: float64"
      ]
     },
     "execution_count": 13,
     "metadata": {},
     "output_type": "execute_result"
    }
   ],
   "source": [
    "# Tab completion also works for file names\n",
    "google = pd.read_csv(\"google_stock_price.csv\", squeeze = True)\n",
    "google"
   ]
  },
  {
   "cell_type": "markdown",
   "metadata": {},
   "source": [
    "## The `.head()` and `.tail()` Methods"
   ]
  },
  {
   "cell_type": "code",
   "execution_count": 31,
   "metadata": {
    "collapsed": true,
    "jupyter": {
     "outputs_hidden": true
    }
   },
   "outputs": [],
   "source": [
    "pokemon = pd.read_csv(\"pokemon.csv\", usecols = [\"Pokemon\"], squeeze = True)\n",
    "google = pd.read_csv(\"google_stock_price.csv\", squeeze = True)"
   ]
  },
  {
   "cell_type": "markdown",
   "metadata": {},
   "source": [
    "#### **The head() method**:  Return the first `n` rows.This function returns the first `n` rows for the object based on position. It is useful for quickly testing if your object has the right type of data in it.\n",
    "#### For negative values of `n`, this function returns all rows except the last `n` rows, equivalent to ``df[:-n]``.\n",
    "\n",
    "#### Note that return type is FrameOrSeries, indicating that methods head() and tail() work for both dataframes and Series.\n",
    "`\n",
    "Signature: pokemon.head(n: int = 5) -> ~FrameOrSeries.\n",
    "Parameters:\n",
    "n : int, default 5\n",
    "    Number of rows to select.\n",
    "Returns:\n",
    "same type as caller\n",
    "    The first `n` rows of the caller object.`"
   ]
  },
  {
   "cell_type": "code",
   "execution_count": 36,
   "metadata": {
    "collapsed": false,
    "jupyter": {
     "outputs_hidden": false
    }
   },
   "outputs": [
    {
     "data": {
      "text/plain": [
       "0    Bulbasaur\n",
       "Name: Pokemon, dtype: object"
      ]
     },
     "execution_count": 36,
     "metadata": {},
     "output_type": "execute_result"
    }
   ],
   "source": [
    "pokemon.head(1)"
   ]
  },
  {
   "cell_type": "markdown",
   "metadata": {},
   "source": [
    "#### **The tail() method**: Return the last `n` rows. This function returns last `n` rows from the object based on position. It is useful for quickly verifying data, for example, after sorting or appending rows.\n",
    "#### For negative values of `n`, this function returns all rows except the first `n` rows, equivalent to ``df[n:]``.\n",
    "\n",
    "`Signature: google.tail(n: int = 5) -> ~FrameOrSeries\n",
    "Parameters\n",
    "n : int, default 5\n",
    "    Number of rows to select.\n",
    "Returns\n",
    "type of caller\n",
    "    The last `n` rows of the caller object.`"
   ]
  },
  {
   "cell_type": "code",
   "execution_count": 40,
   "metadata": {
    "collapsed": false,
    "jupyter": {
     "outputs_hidden": false
    }
   },
   "outputs": [
    {
     "data": {
      "text/plain": [
       "3011    782.22\n",
       "Name: Stock Price, dtype: float64"
      ]
     },
     "execution_count": 40,
     "metadata": {},
     "output_type": "execute_result"
    }
   ],
   "source": [
    "google.tail(1)"
   ]
  },
  {
   "cell_type": "markdown",
   "metadata": {},
   "source": [
    "## Python Built-In Functions"
   ]
  },
  {
   "cell_type": "code",
   "execution_count": 54,
   "metadata": {
    "collapsed": true,
    "jupyter": {
     "outputs_hidden": true
    }
   },
   "outputs": [],
   "source": [
    "pokemon = pd.read_csv(\"pokemon.csv\", usecols = [\"Pokemon\"], squeeze = True)\n",
    "google = pd.read_csv(\"google_stock_price.csv\", squeeze = True)"
   ]
  },
  {
   "cell_type": "markdown",
   "metadata": {},
   "source": [
    "#### The Series object plays really well with Python builtin functions. Here we are just passing our Series to pythons in-built functions to see how they work. Do note that pandas itself has its own methods that can do the same thing.\n",
    "\n",
    "#### The len() function when pass a Series, gives us the number of elements in the Series.\n",
    "#### We can also pass a Series to type() function to know exact type. Note that we get pandas.core.series.Series\n",
    "#### Passing a Series to a dir() function gives us a list of all attributes and methods available on the Series object. We can also see the dunder methods.\n",
    "#### We can also pass a Series to sorted() function to get a sorted list of elements.\n",
    "#### We can use list() and dict() constructors with Series object to convert it to a list of dict respectively. These operations are kind of reverse of using pd.Series(listobject) and pd.Series(dictobject).\n",
    "#### We can also use min/max python builtin functions on a Series to get the minimum and maximum values.\n",
    "\n",
    "\n",
    "#### Summary: Pandas plays friendly with existing python built in functions."
   ]
  },
  {
   "cell_type": "code",
   "execution_count": 56,
   "metadata": {
    "collapsed": false,
    "jupyter": {
     "outputs_hidden": false
    }
   },
   "outputs": [
    {
     "data": {
      "text/plain": [
       "3012"
      ]
     },
     "execution_count": 56,
     "metadata": {},
     "output_type": "execute_result"
    }
   ],
   "source": [
    "len(pokemon)\n",
    "len(google)"
   ]
  },
  {
   "cell_type": "code",
   "execution_count": 57,
   "metadata": {
    "collapsed": false,
    "jupyter": {
     "outputs_hidden": false
    }
   },
   "outputs": [
    {
     "data": {
      "text/plain": [
       "pandas.core.series.Series"
      ]
     },
     "execution_count": 57,
     "metadata": {},
     "output_type": "execute_result"
    }
   ],
   "source": [
    "type(pokemon)"
   ]
  },
  {
   "cell_type": "code",
   "execution_count": 14,
   "metadata": {
    "collapsed": true,
    "jupyter": {
     "outputs_hidden": true
    }
   },
   "outputs": [
    {
     "data": {
      "text/plain": [
       "['T',\n",
       " '_AXIS_ALIASES',\n",
       " '_AXIS_IALIASES',\n",
       " '_AXIS_LEN',\n",
       " '_AXIS_NAMES',\n",
       " '_AXIS_NUMBERS',\n",
       " '_AXIS_ORDERS',\n",
       " '_AXIS_REVERSED',\n",
       " '_HANDLED_TYPES',\n",
       " '__abs__',\n",
       " '__add__',\n",
       " '__and__',\n",
       " '__annotations__',\n",
       " '__array__',\n",
       " '__array_priority__',\n",
       " '__array_ufunc__',\n",
       " '__array_wrap__',\n",
       " '__bool__',\n",
       " '__class__',\n",
       " '__contains__',\n",
       " '__copy__',\n",
       " '__deepcopy__',\n",
       " '__delattr__',\n",
       " '__delitem__',\n",
       " '__dict__',\n",
       " '__dir__',\n",
       " '__div__',\n",
       " '__divmod__',\n",
       " '__doc__',\n",
       " '__eq__',\n",
       " '__finalize__',\n",
       " '__float__',\n",
       " '__floordiv__',\n",
       " '__format__',\n",
       " '__ge__',\n",
       " '__getattr__',\n",
       " '__getattribute__',\n",
       " '__getitem__',\n",
       " '__getstate__',\n",
       " '__gt__',\n",
       " '__hash__',\n",
       " '__iadd__',\n",
       " '__iand__',\n",
       " '__ifloordiv__',\n",
       " '__imod__',\n",
       " '__imul__',\n",
       " '__init__',\n",
       " '__init_subclass__',\n",
       " '__int__',\n",
       " '__invert__',\n",
       " '__ior__',\n",
       " '__ipow__',\n",
       " '__isub__',\n",
       " '__iter__',\n",
       " '__itruediv__',\n",
       " '__ixor__',\n",
       " '__le__',\n",
       " '__len__',\n",
       " '__long__',\n",
       " '__lt__',\n",
       " '__matmul__',\n",
       " '__mod__',\n",
       " '__module__',\n",
       " '__mul__',\n",
       " '__ne__',\n",
       " '__neg__',\n",
       " '__new__',\n",
       " '__nonzero__',\n",
       " '__or__',\n",
       " '__pos__',\n",
       " '__pow__',\n",
       " '__radd__',\n",
       " '__rand__',\n",
       " '__rdiv__',\n",
       " '__rdivmod__',\n",
       " '__reduce__',\n",
       " '__reduce_ex__',\n",
       " '__repr__',\n",
       " '__rfloordiv__',\n",
       " '__rmatmul__',\n",
       " '__rmod__',\n",
       " '__rmul__',\n",
       " '__ror__',\n",
       " '__round__',\n",
       " '__rpow__',\n",
       " '__rsub__',\n",
       " '__rtruediv__',\n",
       " '__rxor__',\n",
       " '__setattr__',\n",
       " '__setitem__',\n",
       " '__setstate__',\n",
       " '__sizeof__',\n",
       " '__str__',\n",
       " '__sub__',\n",
       " '__subclasshook__',\n",
       " '__truediv__',\n",
       " '__weakref__',\n",
       " '__xor__',\n",
       " '_accessors',\n",
       " '_add_numeric_operations',\n",
       " '_add_series_or_dataframe_operations',\n",
       " '_agg_by_level',\n",
       " '_agg_examples_doc',\n",
       " '_agg_see_also_doc',\n",
       " '_aggregate',\n",
       " '_aggregate_multiple_funcs',\n",
       " '_align_frame',\n",
       " '_align_series',\n",
       " '_binop',\n",
       " '_box_item_values',\n",
       " '_builtin_table',\n",
       " '_can_hold_na',\n",
       " '_check_inplace_setting',\n",
       " '_check_is_chained_assignment_possible',\n",
       " '_check_label_or_level_ambiguity',\n",
       " '_check_setitem_copy',\n",
       " '_clear_item_cache',\n",
       " '_clip_with_one_bound',\n",
       " '_clip_with_scalar',\n",
       " '_consolidate',\n",
       " '_consolidate_inplace',\n",
       " '_construct_axes_dict',\n",
       " '_construct_axes_dict_from',\n",
       " '_construct_axes_from_arguments',\n",
       " '_constructor',\n",
       " '_constructor_expanddim',\n",
       " '_constructor_sliced',\n",
       " '_convert',\n",
       " '_convert_dtypes',\n",
       " '_create_indexer',\n",
       " '_cython_table',\n",
       " '_deprecations',\n",
       " '_dir_additions',\n",
       " '_dir_deletions',\n",
       " '_drop_axis',\n",
       " '_drop_labels_or_levels',\n",
       " '_find_valid_index',\n",
       " '_from_axes',\n",
       " '_get_axis',\n",
       " '_get_axis_name',\n",
       " '_get_axis_number',\n",
       " '_get_axis_resolvers',\n",
       " '_get_block_manager_axis',\n",
       " '_get_bool_data',\n",
       " '_get_cacher',\n",
       " '_get_cleaned_column_resolvers',\n",
       " '_get_cython_func',\n",
       " '_get_index_resolvers',\n",
       " '_get_item_cache',\n",
       " '_get_label_or_level_values',\n",
       " '_get_numeric_data',\n",
       " '_get_value',\n",
       " '_get_values',\n",
       " '_get_values_tuple',\n",
       " '_get_with',\n",
       " '_gotitem',\n",
       " '_iget_item_cache',\n",
       " '_index',\n",
       " '_indexed_same',\n",
       " '_info_axis',\n",
       " '_info_axis_name',\n",
       " '_info_axis_number',\n",
       " '_init_dict',\n",
       " '_init_mgr',\n",
       " '_internal_get_values',\n",
       " '_internal_names',\n",
       " '_internal_names_set',\n",
       " '_is_builtin_func',\n",
       " '_is_cached',\n",
       " '_is_copy',\n",
       " '_is_datelike_mixed_type',\n",
       " '_is_label_or_level_reference',\n",
       " '_is_label_reference',\n",
       " '_is_level_reference',\n",
       " '_is_mixed_type',\n",
       " '_is_numeric_mixed_type',\n",
       " '_is_view',\n",
       " '_ix',\n",
       " '_ixs',\n",
       " '_map_values',\n",
       " '_maybe_cache_changed',\n",
       " '_maybe_update_cacher',\n",
       " '_metadata',\n",
       " '_ndarray_values',\n",
       " '_needs_reindex_multi',\n",
       " '_obj_with_exclusions',\n",
       " '_protect_consolidate',\n",
       " '_reduce',\n",
       " '_reindex_axes',\n",
       " '_reindex_indexer',\n",
       " '_reindex_multi',\n",
       " '_reindex_with_indexers',\n",
       " '_repr_data_resource_',\n",
       " '_repr_latex_',\n",
       " '_reset_cache',\n",
       " '_reset_cacher',\n",
       " '_selected_obj',\n",
       " '_selection',\n",
       " '_selection_list',\n",
       " '_selection_name',\n",
       " '_set_as_cached',\n",
       " '_set_axis',\n",
       " '_set_axis_name',\n",
       " '_set_is_copy',\n",
       " '_set_item',\n",
       " '_set_labels',\n",
       " '_set_name',\n",
       " '_set_subtyp',\n",
       " '_set_value',\n",
       " '_set_values',\n",
       " '_set_with',\n",
       " '_set_with_engine',\n",
       " '_setup_axes',\n",
       " '_slice',\n",
       " '_stat_axis',\n",
       " '_stat_axis_name',\n",
       " '_stat_axis_number',\n",
       " '_take_with_is_copy',\n",
       " '_to_dict_of_blocks',\n",
       " '_try_aggregate_string_function',\n",
       " '_typ',\n",
       " '_unpickle_series_compat',\n",
       " '_update_inplace',\n",
       " '_validate_dtype',\n",
       " '_values',\n",
       " '_where',\n",
       " '_xs',\n",
       " 'abs',\n",
       " 'add',\n",
       " 'add_prefix',\n",
       " 'add_suffix',\n",
       " 'agg',\n",
       " 'aggregate',\n",
       " 'align',\n",
       " 'all',\n",
       " 'any',\n",
       " 'append',\n",
       " 'apply',\n",
       " 'argmax',\n",
       " 'argmin',\n",
       " 'argsort',\n",
       " 'array',\n",
       " 'asfreq',\n",
       " 'asof',\n",
       " 'astype',\n",
       " 'at',\n",
       " 'at_time',\n",
       " 'attrs',\n",
       " 'autocorr',\n",
       " 'axes',\n",
       " 'between',\n",
       " 'between_time',\n",
       " 'bfill',\n",
       " 'bool',\n",
       " 'clip',\n",
       " 'combine',\n",
       " 'combine_first',\n",
       " 'convert_dtypes',\n",
       " 'copy',\n",
       " 'corr',\n",
       " 'count',\n",
       " 'cov',\n",
       " 'cummax',\n",
       " 'cummin',\n",
       " 'cumprod',\n",
       " 'cumsum',\n",
       " 'describe',\n",
       " 'diff',\n",
       " 'div',\n",
       " 'divide',\n",
       " 'divmod',\n",
       " 'dot',\n",
       " 'drop',\n",
       " 'drop_duplicates',\n",
       " 'droplevel',\n",
       " 'dropna',\n",
       " 'dtype',\n",
       " 'dtypes',\n",
       " 'duplicated',\n",
       " 'empty',\n",
       " 'eq',\n",
       " 'equals',\n",
       " 'ewm',\n",
       " 'expanding',\n",
       " 'explode',\n",
       " 'factorize',\n",
       " 'ffill',\n",
       " 'fillna',\n",
       " 'filter',\n",
       " 'first',\n",
       " 'first_valid_index',\n",
       " 'floordiv',\n",
       " 'ge',\n",
       " 'get',\n",
       " 'groupby',\n",
       " 'gt',\n",
       " 'hasnans',\n",
       " 'head',\n",
       " 'hist',\n",
       " 'iat',\n",
       " 'idxmax',\n",
       " 'idxmin',\n",
       " 'iloc',\n",
       " 'index',\n",
       " 'infer_objects',\n",
       " 'interpolate',\n",
       " 'is_monotonic',\n",
       " 'is_monotonic_decreasing',\n",
       " 'is_monotonic_increasing',\n",
       " 'is_unique',\n",
       " 'isin',\n",
       " 'isna',\n",
       " 'isnull',\n",
       " 'item',\n",
       " 'items',\n",
       " 'iteritems',\n",
       " 'keys',\n",
       " 'kurt',\n",
       " 'kurtosis',\n",
       " 'last',\n",
       " 'last_valid_index',\n",
       " 'le',\n",
       " 'loc',\n",
       " 'lt',\n",
       " 'mad',\n",
       " 'map',\n",
       " 'mask',\n",
       " 'max',\n",
       " 'mean',\n",
       " 'median',\n",
       " 'memory_usage',\n",
       " 'min',\n",
       " 'mod',\n",
       " 'mode',\n",
       " 'mul',\n",
       " 'multiply',\n",
       " 'name',\n",
       " 'nbytes',\n",
       " 'ndim',\n",
       " 'ne',\n",
       " 'nlargest',\n",
       " 'notna',\n",
       " 'notnull',\n",
       " 'nsmallest',\n",
       " 'nunique',\n",
       " 'pct_change',\n",
       " 'pipe',\n",
       " 'plot',\n",
       " 'pop',\n",
       " 'pow',\n",
       " 'prod',\n",
       " 'product',\n",
       " 'quantile',\n",
       " 'radd',\n",
       " 'rank',\n",
       " 'ravel',\n",
       " 'rdiv',\n",
       " 'rdivmod',\n",
       " 'reindex',\n",
       " 'reindex_like',\n",
       " 'rename',\n",
       " 'rename_axis',\n",
       " 'reorder_levels',\n",
       " 'repeat',\n",
       " 'replace',\n",
       " 'resample',\n",
       " 'reset_index',\n",
       " 'rfloordiv',\n",
       " 'rmod',\n",
       " 'rmul',\n",
       " 'rolling',\n",
       " 'round',\n",
       " 'rpow',\n",
       " 'rsub',\n",
       " 'rtruediv',\n",
       " 'sample',\n",
       " 'searchsorted',\n",
       " 'sem',\n",
       " 'set_axis',\n",
       " 'shape',\n",
       " 'shift',\n",
       " 'size',\n",
       " 'skew',\n",
       " 'slice_shift',\n",
       " 'sort_index',\n",
       " 'sort_values',\n",
       " 'squeeze',\n",
       " 'std',\n",
       " 'str',\n",
       " 'sub',\n",
       " 'subtract',\n",
       " 'sum',\n",
       " 'swapaxes',\n",
       " 'swaplevel',\n",
       " 'tail',\n",
       " 'take',\n",
       " 'to_clipboard',\n",
       " 'to_csv',\n",
       " 'to_dict',\n",
       " 'to_excel',\n",
       " 'to_frame',\n",
       " 'to_hdf',\n",
       " 'to_json',\n",
       " 'to_latex',\n",
       " 'to_list',\n",
       " 'to_markdown',\n",
       " 'to_numpy',\n",
       " 'to_period',\n",
       " 'to_pickle',\n",
       " 'to_sql',\n",
       " 'to_string',\n",
       " 'to_timestamp',\n",
       " 'to_xarray',\n",
       " 'transform',\n",
       " 'transpose',\n",
       " 'truediv',\n",
       " 'truncate',\n",
       " 'tshift',\n",
       " 'tz_convert',\n",
       " 'tz_localize',\n",
       " 'unique',\n",
       " 'unstack',\n",
       " 'update',\n",
       " 'value_counts',\n",
       " 'values',\n",
       " 'var',\n",
       " 'view',\n",
       " 'where',\n",
       " 'xs']"
      ]
     },
     "execution_count": 14,
     "metadata": {},
     "output_type": "execute_result"
    }
   ],
   "source": [
    "dir(pokemon)"
   ]
  },
  {
   "cell_type": "code",
   "execution_count": 17,
   "metadata": {
    "collapsed": true,
    "jupyter": {
     "outputs_hidden": true
    }
   },
   "outputs": [
    {
     "name": "stdout",
     "output_type": "stream",
     "text": [
      "<class 'list'>\n"
     ]
    },
    {
     "data": {
      "text/plain": [
       "[49.95,\n",
       " 50.07,\n",
       " 50.12,\n",
       " 50.7,\n",
       " 50.74,\n",
       " 50.95,\n",
       " 51.1,\n",
       " 51.1,\n",
       " 51.13,\n",
       " 52.38,\n",
       " 52.61,\n",
       " 52.95,\n",
       " 53.02,\n",
       " 53.7,\n",
       " 53.9,\n",
       " 54.1,\n",
       " 54.65,\n",
       " 55.69,\n",
       " 55.94,\n",
       " 56.93,\n",
       " 58.69,\n",
       " 58.86,\n",
       " 59.07,\n",
       " 59.13,\n",
       " 59.62,\n",
       " 59.86,\n",
       " 60.35,\n",
       " 63.37,\n",
       " 64.74,\n",
       " 65.47,\n",
       " 66.22,\n",
       " 67.46,\n",
       " 67.56,\n",
       " 68.47,\n",
       " 68.63,\n",
       " 68.8,\n",
       " 69.12,\n",
       " 69.36,\n",
       " 70.17,\n",
       " 70.38,\n",
       " 70.93,\n",
       " 71.98,\n",
       " 73.9,\n",
       " 74.51,\n",
       " 74.62,\n",
       " 82.47,\n",
       " 83.68,\n",
       " 83.69,\n",
       " 83.85,\n",
       " 84.27,\n",
       " 84.59,\n",
       " 84.62,\n",
       " 84.91,\n",
       " 85.14,\n",
       " 85.63,\n",
       " 85.74,\n",
       " 86.13,\n",
       " 86.16,\n",
       " 86.19,\n",
       " 86.19,\n",
       " 86.63,\n",
       " 87.29,\n",
       " 87.41,\n",
       " 87.71,\n",
       " 88.06,\n",
       " 88.15,\n",
       " 88.47,\n",
       " 88.81,\n",
       " 89.21,\n",
       " 89.22,\n",
       " 89.26,\n",
       " 89.4,\n",
       " 89.54,\n",
       " 89.56,\n",
       " 89.61,\n",
       " 89.61,\n",
       " 89.7,\n",
       " 89.8,\n",
       " 89.89,\n",
       " 89.9,\n",
       " 89.93,\n",
       " 89.93,\n",
       " 89.95,\n",
       " 90.11,\n",
       " 90.13,\n",
       " 90.16,\n",
       " 90.27,\n",
       " 90.35,\n",
       " 90.43,\n",
       " 90.58,\n",
       " 90.62,\n",
       " 90.81,\n",
       " 90.9,\n",
       " 90.91,\n",
       " 91.42,\n",
       " 91.78,\n",
       " 92.26,\n",
       " 92.34,\n",
       " 92.41,\n",
       " 92.42,\n",
       " 92.5,\n",
       " 92.51,\n",
       " 92.55,\n",
       " 92.84,\n",
       " 92.86,\n",
       " 92.89,\n",
       " 92.94,\n",
       " 93.06,\n",
       " 93.39,\n",
       " 93.41,\n",
       " 93.61,\n",
       " 93.61,\n",
       " 93.86,\n",
       " 93.9,\n",
       " 93.9,\n",
       " 93.95,\n",
       " 94.05,\n",
       " 94.18,\n",
       " 94.19,\n",
       " 94.31,\n",
       " 94.35,\n",
       " 94.52,\n",
       " 94.53,\n",
       " 95.07,\n",
       " 95.22,\n",
       " 95.59,\n",
       " 95.6,\n",
       " 95.63,\n",
       " 95.69,\n",
       " 95.74,\n",
       " 95.85,\n",
       " 95.86,\n",
       " 95.93,\n",
       " 96.28,\n",
       " 96.3,\n",
       " 96.35,\n",
       " 96.37,\n",
       " 96.4,\n",
       " 96.52,\n",
       " 96.55,\n",
       " 96.66,\n",
       " 96.67,\n",
       " 96.78,\n",
       " 96.83,\n",
       " 96.86,\n",
       " 96.88,\n",
       " 96.88,\n",
       " 97.15,\n",
       " 97.34,\n",
       " 97.43,\n",
       " 97.52,\n",
       " 97.57,\n",
       " 97.59,\n",
       " 97.71,\n",
       " 97.92,\n",
       " 97.92,\n",
       " 98.55,\n",
       " 98.7,\n",
       " 98.85,\n",
       " 98.88,\n",
       " 98.95,\n",
       " 99.11,\n",
       " 99.22,\n",
       " 99.89,\n",
       " 101.25,\n",
       " 101.85,\n",
       " 102.01,\n",
       " 102.08,\n",
       " 102.88,\n",
       " 105.32,\n",
       " 107.8,\n",
       " 109.27,\n",
       " 109.62,\n",
       " 109.78,\n",
       " 109.89,\n",
       " 111.03,\n",
       " 111.65,\n",
       " 112.9,\n",
       " 112.98,\n",
       " 113.38,\n",
       " 113.79,\n",
       " 113.9,\n",
       " 114.14,\n",
       " 114.25,\n",
       " 114.51,\n",
       " 115.41,\n",
       " 115.53,\n",
       " 116.45,\n",
       " 119.46,\n",
       " 119.47,\n",
       " 120.68,\n",
       " 127.6,\n",
       " 127.87,\n",
       " 128.59,\n",
       " 129.47,\n",
       " 129.65,\n",
       " 130.27,\n",
       " 131.08,\n",
       " 132.86,\n",
       " 132.87,\n",
       " 136.87,\n",
       " 137.03,\n",
       " 137.26,\n",
       " 137.42,\n",
       " 138.5,\n",
       " 138.58,\n",
       " 139.04,\n",
       " 139.58,\n",
       " 139.64,\n",
       " 139.65,\n",
       " 139.86,\n",
       " 139.86,\n",
       " 139.95,\n",
       " 139.99,\n",
       " 140.0,\n",
       " 140.88,\n",
       " 141.11,\n",
       " 141.14,\n",
       " 141.15,\n",
       " 141.23,\n",
       " 141.23,\n",
       " 141.65,\n",
       " 141.85,\n",
       " 141.86,\n",
       " 141.88,\n",
       " 142.41,\n",
       " 142.68,\n",
       " 142.7,\n",
       " 142.86,\n",
       " 142.98,\n",
       " 143.01,\n",
       " 143.21,\n",
       " 143.41,\n",
       " 143.49,\n",
       " 143.74,\n",
       " 143.78,\n",
       " 143.81,\n",
       " 143.86,\n",
       " 144.08,\n",
       " 144.08,\n",
       " 144.51,\n",
       " 144.71,\n",
       " 144.72,\n",
       " 145.3,\n",
       " 145.32,\n",
       " 145.35,\n",
       " 145.48,\n",
       " 145.48,\n",
       " 145.62,\n",
       " 145.64,\n",
       " 145.66,\n",
       " 145.75,\n",
       " 145.9,\n",
       " 146.03,\n",
       " 146.21,\n",
       " 146.33,\n",
       " 146.41,\n",
       " 146.53,\n",
       " 146.6,\n",
       " 146.93,\n",
       " 147.29,\n",
       " 147.55,\n",
       " 147.62,\n",
       " 147.71,\n",
       " 147.78,\n",
       " 147.9,\n",
       " 147.92,\n",
       " 147.97,\n",
       " 148.32,\n",
       " 148.41,\n",
       " 148.48,\n",
       " 148.5,\n",
       " 148.56,\n",
       " 148.56,\n",
       " 148.57,\n",
       " 148.72,\n",
       " 148.86,\n",
       " 149.28,\n",
       " 149.35,\n",
       " 149.4,\n",
       " 149.45,\n",
       " 149.62,\n",
       " 149.69,\n",
       " 149.91,\n",
       " 149.95,\n",
       " 149.96,\n",
       " 150.03,\n",
       " 150.29,\n",
       " 150.33,\n",
       " 150.33,\n",
       " 150.44,\n",
       " 150.85,\n",
       " 150.9,\n",
       " 151.05,\n",
       " 151.16,\n",
       " 151.32,\n",
       " 151.35,\n",
       " 151.39,\n",
       " 151.4,\n",
       " 151.45,\n",
       " 151.49,\n",
       " 151.74,\n",
       " 151.9,\n",
       " 152.35,\n",
       " 152.67,\n",
       " 152.83,\n",
       " 152.85,\n",
       " 152.9,\n",
       " 153.1,\n",
       " 153.67,\n",
       " 153.8,\n",
       " 153.93,\n",
       " 154.13,\n",
       " 154.2,\n",
       " 154.26,\n",
       " 154.66,\n",
       " 154.72,\n",
       " 154.8,\n",
       " 154.85,\n",
       " 154.93,\n",
       " 154.98,\n",
       " 155.17,\n",
       " 155.18,\n",
       " 155.2,\n",
       " 155.34,\n",
       " 155.53,\n",
       " 155.57,\n",
       " 155.68,\n",
       " 155.79,\n",
       " 155.84,\n",
       " 155.88,\n",
       " 156.19,\n",
       " 156.22,\n",
       " 156.34,\n",
       " 156.81,\n",
       " 156.81,\n",
       " 156.98,\n",
       " 157.0,\n",
       " 157.38,\n",
       " 157.46,\n",
       " 157.52,\n",
       " 157.72,\n",
       " 158.07,\n",
       " 158.8,\n",
       " 159.18,\n",
       " 159.23,\n",
       " 159.3,\n",
       " 159.69,\n",
       " 160.5,\n",
       " 160.84,\n",
       " 161.6,\n",
       " 161.77,\n",
       " 162.05,\n",
       " 162.19,\n",
       " 162.43,\n",
       " 162.48,\n",
       " 162.58,\n",
       " 163.42,\n",
       " 163.86,\n",
       " 164.33,\n",
       " 164.58,\n",
       " 164.81,\n",
       " 164.86,\n",
       " 164.91,\n",
       " 165.4,\n",
       " 165.44,\n",
       " 165.57,\n",
       " 165.83,\n",
       " 166.38,\n",
       " 166.86,\n",
       " 167.5,\n",
       " 168.36,\n",
       " 168.42,\n",
       " 168.58,\n",
       " 168.83,\n",
       " 168.89,\n",
       " 169.1,\n",
       " 169.22,\n",
       " 169.42,\n",
       " 169.48,\n",
       " 169.73,\n",
       " 169.78,\n",
       " 169.79,\n",
       " 169.94,\n",
       " 170.05,\n",
       " 170.11,\n",
       " 170.65,\n",
       " 170.77,\n",
       " 170.95,\n",
       " 171.02,\n",
       " 171.15,\n",
       " 171.16,\n",
       " 171.17,\n",
       " 171.33,\n",
       " 171.33,\n",
       " 171.49,\n",
       " 171.49,\n",
       " 171.86,\n",
       " 172.08,\n",
       " 172.55,\n",
       " 172.68,\n",
       " 172.83,\n",
       " 173.05,\n",
       " 173.07,\n",
       " 173.28,\n",
       " 173.41,\n",
       " 173.68,\n",
       " 173.86,\n",
       " 173.92,\n",
       " 174.13,\n",
       " 174.15,\n",
       " 174.16,\n",
       " 175.4,\n",
       " 175.98,\n",
       " 176.33,\n",
       " 176.35,\n",
       " 176.38,\n",
       " 176.47,\n",
       " 176.68,\n",
       " 176.76,\n",
       " 176.87,\n",
       " 177.54,\n",
       " 177.66,\n",
       " 178.66,\n",
       " 178.82,\n",
       " 178.84,\n",
       " 178.91,\n",
       " 179.08,\n",
       " 179.15,\n",
       " 179.21,\n",
       " 179.5,\n",
       " 179.67,\n",
       " 180.82,\n",
       " 181.07,\n",
       " 181.12,\n",
       " 181.13,\n",
       " 181.17,\n",
       " 181.19,\n",
       " 181.34,\n",
       " 182.04,\n",
       " 182.22,\n",
       " 182.56,\n",
       " 182.72,\n",
       " 183.05,\n",
       " 183.11,\n",
       " 183.29,\n",
       " 183.43,\n",
       " 183.78,\n",
       " 183.87,\n",
       " 183.94,\n",
       " 184.07,\n",
       " 184.19,\n",
       " 184.19,\n",
       " 184.27,\n",
       " 184.36,\n",
       " 184.53,\n",
       " 184.66,\n",
       " 184.71,\n",
       " 184.82,\n",
       " 185.29,\n",
       " 185.31,\n",
       " 185.42,\n",
       " 185.45,\n",
       " 185.46,\n",
       " 185.72,\n",
       " 185.78,\n",
       " 185.88,\n",
       " 186.06,\n",
       " 186.08,\n",
       " 186.44,\n",
       " 186.53,\n",
       " 186.68,\n",
       " 186.74,\n",
       " 186.88,\n",
       " 186.91,\n",
       " 187.03,\n",
       " 187.06,\n",
       " 187.51,\n",
       " 187.57,\n",
       " 187.6,\n",
       " 187.91,\n",
       " 188.04,\n",
       " 188.28,\n",
       " 188.41,\n",
       " 188.46,\n",
       " 188.51,\n",
       " 188.74,\n",
       " 188.79,\n",
       " 188.85,\n",
       " 188.87,\n",
       " 188.9,\n",
       " 188.96,\n",
       " 189.06,\n",
       " 189.08,\n",
       " 189.11,\n",
       " 189.2,\n",
       " 189.29,\n",
       " 189.39,\n",
       " 189.46,\n",
       " 189.47,\n",
       " 189.5,\n",
       " 189.53,\n",
       " 189.56,\n",
       " 189.65,\n",
       " 189.88,\n",
       " 190.18,\n",
       " 190.28,\n",
       " 190.29,\n",
       " 190.31,\n",
       " 190.31,\n",
       " 190.32,\n",
       " 190.43,\n",
       " 190.48,\n",
       " 190.54,\n",
       " 190.58,\n",
       " 190.59,\n",
       " 191.01,\n",
       " 191.12,\n",
       " 191.3,\n",
       " 191.49,\n",
       " 191.66,\n",
       " 191.74,\n",
       " 191.85,\n",
       " 191.99,\n",
       " 192.0,\n",
       " 192.15,\n",
       " 192.36,\n",
       " 192.56,\n",
       " 192.71,\n",
       " 192.78,\n",
       " 192.78,\n",
       " 193.06,\n",
       " 193.07,\n",
       " 193.09,\n",
       " 193.11,\n",
       " 193.26,\n",
       " 193.31,\n",
       " 193.37,\n",
       " 193.39,\n",
       " 193.56,\n",
       " 193.67,\n",
       " 193.87,\n",
       " 193.88,\n",
       " 194.03,\n",
       " 194.18,\n",
       " 194.49,\n",
       " 194.55,\n",
       " 194.58,\n",
       " 194.66,\n",
       " 194.76,\n",
       " 194.8,\n",
       " 194.8,\n",
       " 194.8,\n",
       " 194.86,\n",
       " 194.99,\n",
       " 195.0,\n",
       " 195.02,\n",
       " 195.05,\n",
       " 195.15,\n",
       " 195.25,\n",
       " 195.3,\n",
       " 195.35,\n",
       " 195.54,\n",
       " 195.75,\n",
       " 195.92,\n",
       " 196.2,\n",
       " 196.45,\n",
       " 196.55,\n",
       " 196.65,\n",
       " 196.89,\n",
       " 196.95,\n",
       " 197.18,\n",
       " 197.19,\n",
       " 197.2,\n",
       " 197.29,\n",
       " 197.32,\n",
       " 197.79,\n",
       " 197.82,\n",
       " 198.05,\n",
       " 198.11,\n",
       " 198.12,\n",
       " 198.22,\n",
       " 198.29,\n",
       " 198.3,\n",
       " 198.39,\n",
       " 198.88,\n",
       " 199.24,\n",
       " 199.25,\n",
       " 199.3,\n",
       " 199.31,\n",
       " 199.53,\n",
       " 199.78,\n",
       " 199.9,\n",
       " 200.06,\n",
       " 200.52,\n",
       " 200.69,\n",
       " 200.75,\n",
       " 200.79,\n",
       " 200.86,\n",
       " 200.88,\n",
       " 200.96,\n",
       " 201.04,\n",
       " 201.26,\n",
       " 201.29,\n",
       " 201.29,\n",
       " 201.32,\n",
       " 201.52,\n",
       " 201.53,\n",
       " 201.55,\n",
       " 201.57,\n",
       " 201.59,\n",
       " 201.69,\n",
       " 201.7,\n",
       " 201.79,\n",
       " 201.79,\n",
       " 201.82,\n",
       " 201.91,\n",
       " 201.91,\n",
       " 201.92,\n",
       " 201.97,\n",
       " 201.98,\n",
       " 202.07,\n",
       " 202.23,\n",
       " 202.25,\n",
       " 202.58,\n",
       " 202.64,\n",
       " 202.72,\n",
       " 202.85,\n",
       " 202.88,\n",
       " 203.08,\n",
       " 203.21,\n",
       " 203.22,\n",
       " 203.23,\n",
       " 203.46,\n",
       " 203.47,\n",
       " 203.74,\n",
       " 203.79,\n",
       " 203.79,\n",
       " 204.04,\n",
       " 204.2,\n",
       " 204.21,\n",
       " 204.27,\n",
       " 204.4,\n",
       " 204.44,\n",
       " 204.48,\n",
       " 204.6,\n",
       " 204.63,\n",
       " 204.74,\n",
       " 204.99,\n",
       " 204.99,\n",
       " 205.04,\n",
       " 205.12,\n",
       " 205.38,\n",
       " 205.65,\n",
       " 205.7,\n",
       " 206.1,\n",
       " 206.6,\n",
       " 206.82,\n",
       " 206.84,\n",
       " 206.87,\n",
       " 206.99,\n",
       " 207.04,\n",
       " 207.14,\n",
       " 207.22,\n",
       " 207.29,\n",
       " 207.37,\n",
       " 207.64,\n",
       " 207.68,\n",
       " 207.79,\n",
       " 207.98,\n",
       " 208.03,\n",
       " 208.18,\n",
       " 208.41,\n",
       " 208.42,\n",
       " 208.54,\n",
       " 208.64,\n",
       " 208.7,\n",
       " 208.76,\n",
       " 208.89,\n",
       " 209.12,\n",
       " 209.27,\n",
       " 209.29,\n",
       " 209.44,\n",
       " 209.46,\n",
       " 209.73,\n",
       " 209.76,\n",
       " 209.8,\n",
       " 209.83,\n",
       " 209.86,\n",
       " 210.01,\n",
       " 210.04,\n",
       " 210.11,\n",
       " 210.52,\n",
       " 210.58,\n",
       " 210.66,\n",
       " 211.05,\n",
       " 211.22,\n",
       " 211.38,\n",
       " 211.39,\n",
       " 211.53,\n",
       " 211.86,\n",
       " 211.94,\n",
       " 212.07,\n",
       " 212.09,\n",
       " 212.11,\n",
       " 212.13,\n",
       " 212.21,\n",
       " 212.45,\n",
       " 212.77,\n",
       " 212.82,\n",
       " 212.95,\n",
       " 213.04,\n",
       " 213.07,\n",
       " 213.11,\n",
       " 213.13,\n",
       " 213.2,\n",
       " 213.37,\n",
       " 213.44,\n",
       " 213.51,\n",
       " 213.54,\n",
       " 213.63,\n",
       " 213.74,\n",
       " 213.99,\n",
       " 214.1,\n",
       " 214.29,\n",
       " 214.29,\n",
       " 214.42,\n",
       " 214.66,\n",
       " 214.85,\n",
       " 214.86,\n",
       " 214.87,\n",
       " 214.91,\n",
       " 215.25,\n",
       " 215.3,\n",
       " 215.61,\n",
       " 215.78,\n",
       " 215.8,\n",
       " 216.08,\n",
       " 216.11,\n",
       " 216.13,\n",
       " 216.28,\n",
       " 216.46,\n",
       " 216.53,\n",
       " 216.56,\n",
       " 216.66,\n",
       " 216.71,\n",
       " 216.92,\n",
       " 217.34,\n",
       " 217.4,\n",
       " 217.59,\n",
       " 217.82,\n",
       " 217.9,\n",
       " 218.0,\n",
       " 218.06,\n",
       " 218.33,\n",
       " 218.45,\n",
       " 218.61,\n",
       " 218.74,\n",
       " 218.82,\n",
       " 218.87,\n",
       " 219.12,\n",
       " 219.17,\n",
       " 219.32,\n",
       " 219.36,\n",
       " 219.53,\n",
       " 219.58,\n",
       " 219.7,\n",
       " 219.71,\n",
       " 219.87,\n",
       " 219.92,\n",
       " 220.01,\n",
       " 220.03,\n",
       " 220.2,\n",
       " 220.25,\n",
       " 221.08,\n",
       " 221.24,\n",
       " 221.28,\n",
       " 221.29,\n",
       " 221.29,\n",
       " 221.3,\n",
       " 221.76,\n",
       " 221.82,\n",
       " 221.9,\n",
       " 221.94,\n",
       " 222.08,\n",
       " 222.18,\n",
       " 222.22,\n",
       " 222.23,\n",
       " 222.25,\n",
       " 222.4,\n",
       " 222.42,\n",
       " 222.42,\n",
       " 222.6,\n",
       " 222.87,\n",
       " 223.14,\n",
       " 223.2,\n",
       " 223.39,\n",
       " 223.63,\n",
       " 223.78,\n",
       " 223.89,\n",
       " 224.16,\n",
       " 224.35,\n",
       " 224.5,\n",
       " 224.55,\n",
       " 224.78,\n",
       " 224.87,\n",
       " 224.9,\n",
       " 224.95,\n",
       " 225.16,\n",
       " 225.26,\n",
       " 225.34,\n",
       " 225.39,\n",
       " 225.47,\n",
       " 225.6,\n",
       " 225.88,\n",
       " 226.12,\n",
       " 226.25,\n",
       " 226.28,\n",
       " 226.64,\n",
       " 226.74,\n",
       " 226.9,\n",
       " 227.08,\n",
       " 227.13,\n",
       " 227.15,\n",
       " 227.29,\n",
       " 227.33,\n",
       " 227.56,\n",
       " 227.59,\n",
       " 227.65,\n",
       " 227.87,\n",
       " 228.05,\n",
       " 228.05,\n",
       " 228.08,\n",
       " 228.28,\n",
       " 228.32,\n",
       " 228.5,\n",
       " 228.53,\n",
       " 228.54,\n",
       " 228.55,\n",
       " 228.77,\n",
       " 228.85,\n",
       " 228.87,\n",
       " 228.92,\n",
       " 229.04,\n",
       " 229.06,\n",
       " 229.08,\n",
       " 229.19,\n",
       " 229.32,\n",
       " 229.57,\n",
       " 229.61,\n",
       " 229.77,\n",
       " 229.94,\n",
       " 229.97,\n",
       " 230.01,\n",
       " 230.05,\n",
       " 230.23,\n",
       " 230.42,\n",
       " 230.5,\n",
       " 230.5,\n",
       " 230.6,\n",
       " 230.66,\n",
       " 230.68,\n",
       " 230.71,\n",
       " 230.71,\n",
       " 230.78,\n",
       " 230.79,\n",
       " 230.91,\n",
       " 231.05,\n",
       " 231.17,\n",
       " 231.22,\n",
       " 231.27,\n",
       " 231.36,\n",
       " 231.41,\n",
       " 231.58,\n",
       " 231.58,\n",
       " 231.75,\n",
       " 231.8,\n",
       " 231.86,\n",
       " 231.86,\n",
       " 231.97,\n",
       " 231.97,\n",
       " 232.03,\n",
       " 232.14,\n",
       " 232.23,\n",
       " 232.27,\n",
       " 232.39,\n",
       " 232.39,\n",
       " 232.6,\n",
       " 232.62,\n",
       " 232.62,\n",
       " 232.66,\n",
       " 232.73,\n",
       " 232.8,\n",
       " 232.86,\n",
       " 232.89,\n",
       " 232.91,\n",
       " 233.02,\n",
       " 233.14,\n",
       " 233.17,\n",
       " 233.22,\n",
       " 233.32,\n",
       " 233.35,\n",
       " 233.4,\n",
       " 233.46,\n",
       " 233.51,\n",
       " 233.52,\n",
       " 233.56,\n",
       " 233.67,\n",
       " 233.7,\n",
       " 233.75,\n",
       " 233.77,\n",
       " 233.78,\n",
       " 233.87,\n",
       " 234.06,\n",
       " 234.08,\n",
       " 234.13,\n",
       " 234.17,\n",
       " 234.27,\n",
       " 234.3,\n",
       " 234.39,\n",
       " 234.65,\n",
       " 234.72,\n",
       " 234.74,\n",
       " 234.77,\n",
       " 234.91,\n",
       " 234.92,\n",
       " 235.05,\n",
       " 235.06,\n",
       " 235.07,\n",
       " 235.23,\n",
       " 235.24,\n",
       " 235.27,\n",
       " 235.28,\n",
       " 235.31,\n",
       " 235.32,\n",
       " 235.35,\n",
       " 235.45,\n",
       " 235.45,\n",
       " 235.5,\n",
       " 235.52,\n",
       " 235.58,\n",
       " 235.59,\n",
       " 235.66,\n",
       " 235.79,\n",
       " 235.8,\n",
       " 235.81,\n",
       " 235.83,\n",
       " 236.05,\n",
       " 236.06,\n",
       " 236.07,\n",
       " 236.08,\n",
       " 236.1,\n",
       " 236.16,\n",
       " 236.19,\n",
       " 236.38,\n",
       " 236.42,\n",
       " 236.54,\n",
       " 236.64,\n",
       " 236.65,\n",
       " 236.75,\n",
       " 236.77,\n",
       " 236.84,\n",
       " 236.9,\n",
       " 236.93,\n",
       " 237.2,\n",
       " 237.26,\n",
       " 237.27,\n",
       " 237.31,\n",
       " 237.32,\n",
       " 237.36,\n",
       " 237.46,\n",
       " 237.5,\n",
       " 237.57,\n",
       " 237.68,\n",
       " 237.69,\n",
       " 237.69,\n",
       " 237.69,\n",
       " 237.77,\n",
       " 237.83,\n",
       " 237.85,\n",
       " 237.96,\n",
       " 238.05,\n",
       " 238.17,\n",
       " 238.24,\n",
       " 238.3,\n",
       " 238.32,\n",
       " 238.32,\n",
       " 238.34,\n",
       " 238.51,\n",
       " 238.53,\n",
       " 238.53,\n",
       " 238.76,\n",
       " 239.26,\n",
       " 239.27,\n",
       " 239.29,\n",
       " 239.3,\n",
       " 239.32,\n",
       " 239.69,\n",
       " 239.87,\n",
       " 239.91,\n",
       " ...]"
      ]
     },
     "execution_count": 17,
     "metadata": {},
     "output_type": "execute_result"
    }
   ],
   "source": [
    "print(type(sorted(pokemon)))\n",
    "sorted(pokemon)\n",
    "sorted(google)"
   ]
  },
  {
   "cell_type": "code",
   "execution_count": 61,
   "metadata": {
    "collapsed": true,
    "jupyter": {
     "outputs_hidden": true,
     "source_hidden": true
    }
   },
   "outputs": [
    {
     "data": {
      "text/plain": [
       "['Bulbasaur',\n",
       " 'Ivysaur',\n",
       " 'Venusaur',\n",
       " 'Charmander',\n",
       " 'Charmeleon',\n",
       " 'Charizard',\n",
       " 'Squirtle',\n",
       " 'Wartortle',\n",
       " 'Blastoise',\n",
       " 'Caterpie',\n",
       " 'Metapod',\n",
       " 'Butterfree',\n",
       " 'Weedle',\n",
       " 'Kakuna',\n",
       " 'Beedrill',\n",
       " 'Pidgey',\n",
       " 'Pidgeotto',\n",
       " 'Pidgeot',\n",
       " 'Rattata',\n",
       " 'Raticate',\n",
       " 'Spearow',\n",
       " 'Fearow',\n",
       " 'Ekans',\n",
       " 'Arbok',\n",
       " 'Pikachu',\n",
       " 'Raichu',\n",
       " 'Sandshrew',\n",
       " 'Sandslash',\n",
       " 'Nidoran',\n",
       " 'Nidorina',\n",
       " 'Nidoqueen',\n",
       " 'Nidoran♂',\n",
       " 'Nidorino',\n",
       " 'Nidoking',\n",
       " 'Clefairy',\n",
       " 'Clefable',\n",
       " 'Vulpix',\n",
       " 'Ninetales',\n",
       " 'Jigglypuff',\n",
       " 'Wigglytuff',\n",
       " 'Zubat',\n",
       " 'Golbat',\n",
       " 'Oddish',\n",
       " 'Gloom',\n",
       " 'Vileplume',\n",
       " 'Paras',\n",
       " 'Parasect',\n",
       " 'Venonat',\n",
       " 'Venomoth',\n",
       " 'Diglett',\n",
       " 'Dugtrio',\n",
       " 'Meowth',\n",
       " 'Persian',\n",
       " 'Psyduck',\n",
       " 'Golduck',\n",
       " 'Mankey',\n",
       " 'Primeape',\n",
       " 'Growlithe',\n",
       " 'Arcanine',\n",
       " 'Poliwag',\n",
       " 'Poliwhirl',\n",
       " 'Poliwrath',\n",
       " 'Abra',\n",
       " 'Kadabra',\n",
       " 'Alakazam',\n",
       " 'Machop',\n",
       " 'Machoke',\n",
       " 'Machamp',\n",
       " 'Bellsprout',\n",
       " 'Weepinbell',\n",
       " 'Victreebel',\n",
       " 'Tentacool',\n",
       " 'Tentacruel',\n",
       " 'Geodude',\n",
       " 'Graveler',\n",
       " 'Golem',\n",
       " 'Ponyta',\n",
       " 'Rapidash',\n",
       " 'Slowpoke',\n",
       " 'Slowbro',\n",
       " 'Magnemite',\n",
       " 'Magneton',\n",
       " \"Farfetch'd\",\n",
       " 'Doduo',\n",
       " 'Dodrio',\n",
       " 'Seel',\n",
       " 'Dewgong',\n",
       " 'Grimer',\n",
       " 'Muk',\n",
       " 'Shellder',\n",
       " 'Cloyster',\n",
       " 'Gastly',\n",
       " 'Haunter',\n",
       " 'Gengar',\n",
       " 'Onix',\n",
       " 'Drowzee',\n",
       " 'Hypno',\n",
       " 'Krabby',\n",
       " 'Kingler',\n",
       " 'Voltorb',\n",
       " 'Electrode',\n",
       " 'Exeggcute',\n",
       " 'Exeggutor',\n",
       " 'Cubone',\n",
       " 'Marowak',\n",
       " 'Hitmonlee',\n",
       " 'Hitmonchan',\n",
       " 'Lickitung',\n",
       " 'Koffing',\n",
       " 'Weezing',\n",
       " 'Rhyhorn',\n",
       " 'Rhydon',\n",
       " 'Chansey',\n",
       " 'Tangela',\n",
       " 'Kangaskhan',\n",
       " 'Horsea',\n",
       " 'Seadra',\n",
       " 'Goldeen',\n",
       " 'Seaking',\n",
       " 'Staryu',\n",
       " 'Starmie',\n",
       " 'Mr. Mime',\n",
       " 'Scyther',\n",
       " 'Jynx',\n",
       " 'Electabuzz',\n",
       " 'Magmar',\n",
       " 'Pinsir',\n",
       " 'Tauros',\n",
       " 'Magikarp',\n",
       " 'Gyarados',\n",
       " 'Lapras',\n",
       " 'Ditto',\n",
       " 'Eevee',\n",
       " 'Vaporeon',\n",
       " 'Jolteon',\n",
       " 'Flareon',\n",
       " 'Porygon',\n",
       " 'Omanyte',\n",
       " 'Omastar',\n",
       " 'Kabuto',\n",
       " 'Kabutops',\n",
       " 'Aerodactyl',\n",
       " 'Snorlax',\n",
       " 'Articuno',\n",
       " 'Zapdos',\n",
       " 'Moltres',\n",
       " 'Dratini',\n",
       " 'Dragonair',\n",
       " 'Dragonite',\n",
       " 'Mewtwo',\n",
       " 'Mew',\n",
       " 'Chikorita',\n",
       " 'Bayleef',\n",
       " 'Meganium',\n",
       " 'Cyndaquil',\n",
       " 'Quilava',\n",
       " 'Typhlosion',\n",
       " 'Totodile',\n",
       " 'Croconaw',\n",
       " 'Feraligatr',\n",
       " 'Sentret',\n",
       " 'Furret',\n",
       " 'Hoothoot',\n",
       " 'Noctowl',\n",
       " 'Ledyba',\n",
       " 'Ledian',\n",
       " 'Spinarak',\n",
       " 'Ariados',\n",
       " 'Crobat',\n",
       " 'Chinchou',\n",
       " 'Lanturn',\n",
       " 'Pichu',\n",
       " 'Cleffa',\n",
       " 'Igglybuff',\n",
       " 'Togepi',\n",
       " 'Togetic',\n",
       " 'Natu',\n",
       " 'Xatu',\n",
       " 'Mareep',\n",
       " 'Flaaffy',\n",
       " 'Ampharos',\n",
       " 'Bellossom',\n",
       " 'Marill',\n",
       " 'Azumarill',\n",
       " 'Sudowoodo',\n",
       " 'Politoed',\n",
       " 'Hoppip',\n",
       " 'Skiploom',\n",
       " 'Jumpluff',\n",
       " 'Aipom',\n",
       " 'Sunkern',\n",
       " 'Sunflora',\n",
       " 'Yanma',\n",
       " 'Wooper',\n",
       " 'Quagsire',\n",
       " 'Espeon',\n",
       " 'Umbreon',\n",
       " 'Murkrow',\n",
       " 'Slowking',\n",
       " 'Misdreavus',\n",
       " 'Unown',\n",
       " 'Wobbuffet',\n",
       " 'Girafarig',\n",
       " 'Pineco',\n",
       " 'Forretress',\n",
       " 'Dunsparce',\n",
       " 'Gligar',\n",
       " 'Steelix',\n",
       " 'Snubbull',\n",
       " 'Granbull',\n",
       " 'Qwilfish',\n",
       " 'Scizor',\n",
       " 'Shuckle',\n",
       " 'Heracross',\n",
       " 'Sneasel',\n",
       " 'Teddiursa',\n",
       " 'Ursaring',\n",
       " 'Slugma',\n",
       " 'Magcargo',\n",
       " 'Swinub',\n",
       " 'Piloswine',\n",
       " 'Corsola',\n",
       " 'Remoraid',\n",
       " 'Octillery',\n",
       " 'Delibird',\n",
       " 'Mantine',\n",
       " 'Skarmory',\n",
       " 'Houndour',\n",
       " 'Houndoom',\n",
       " 'Kingdra',\n",
       " 'Phanpy',\n",
       " 'Donphan',\n",
       " 'Porygon2',\n",
       " 'Stantler',\n",
       " 'Smeargle',\n",
       " 'Tyrogue',\n",
       " 'Hitmontop',\n",
       " 'Smoochum',\n",
       " 'Elekid',\n",
       " 'Magby',\n",
       " 'Miltank',\n",
       " 'Blissey',\n",
       " 'Raikou',\n",
       " 'Entei',\n",
       " 'Suicune',\n",
       " 'Larvitar',\n",
       " 'Pupitar',\n",
       " 'Tyranitar',\n",
       " 'Lugia',\n",
       " 'Ho-oh',\n",
       " 'Celebi',\n",
       " 'Treecko',\n",
       " 'Grovyle',\n",
       " 'Sceptile',\n",
       " 'Torchic',\n",
       " 'Combusken',\n",
       " 'Blaziken',\n",
       " 'Mudkip',\n",
       " 'Marshtomp',\n",
       " 'Swampert',\n",
       " 'Poochyena',\n",
       " 'Mightyena',\n",
       " 'Zigzagoon',\n",
       " 'Linoone',\n",
       " 'Wurmple',\n",
       " 'Silcoon',\n",
       " 'Beautifly',\n",
       " 'Cascoon',\n",
       " 'Dustox',\n",
       " 'Lotad',\n",
       " 'Lombre',\n",
       " 'Ludicolo',\n",
       " 'Seedot',\n",
       " 'Nuzleaf',\n",
       " 'Shiftry',\n",
       " 'Taillow',\n",
       " 'Swellow',\n",
       " 'Wingull',\n",
       " 'Pelipper',\n",
       " 'Ralts',\n",
       " 'Kirlia',\n",
       " 'Gardevoir',\n",
       " 'Surskit',\n",
       " 'Masquerain',\n",
       " 'Shroomish',\n",
       " 'Breloom',\n",
       " 'Slakoth',\n",
       " 'Vigoroth',\n",
       " 'Slaking',\n",
       " 'Nincada',\n",
       " 'Ninjask',\n",
       " 'Shedinja',\n",
       " 'Whismur',\n",
       " 'Loudred',\n",
       " 'Exploud',\n",
       " 'Makuhita',\n",
       " 'Hariyama',\n",
       " 'Azurill',\n",
       " 'Nosepass',\n",
       " 'Skitty',\n",
       " 'Delcatty',\n",
       " 'Sableye',\n",
       " 'Mawile',\n",
       " 'Aron',\n",
       " 'Lairon',\n",
       " 'Aggron',\n",
       " 'Meditite',\n",
       " 'Medicham',\n",
       " 'Electrike',\n",
       " 'Manectric',\n",
       " 'Plusle',\n",
       " 'Minun',\n",
       " 'Volbeat',\n",
       " 'Illumise',\n",
       " 'Roselia',\n",
       " 'Gulpin',\n",
       " 'Swalot',\n",
       " 'Carvanha',\n",
       " 'Sharpedo',\n",
       " 'Wailmer',\n",
       " 'Wailord',\n",
       " 'Numel',\n",
       " 'Camerupt',\n",
       " 'Torkoal',\n",
       " 'Spoink',\n",
       " 'Grumpig',\n",
       " 'Spinda',\n",
       " 'Trapinch',\n",
       " 'Vibrava',\n",
       " 'Flygon',\n",
       " 'Cacnea',\n",
       " 'Cacturne',\n",
       " 'Swablu',\n",
       " 'Altaria',\n",
       " 'Zangoose',\n",
       " 'Seviper',\n",
       " 'Lunatone',\n",
       " 'Solrock',\n",
       " 'Barboach',\n",
       " 'Whiscash',\n",
       " 'Corphish',\n",
       " 'Crawdaunt',\n",
       " 'Baltoy',\n",
       " 'Claydol',\n",
       " 'Lileep',\n",
       " 'Cradily',\n",
       " 'Anorith',\n",
       " 'Armaldo',\n",
       " 'Feebas',\n",
       " 'Milotic',\n",
       " 'Castform',\n",
       " 'Kecleon',\n",
       " 'Shuppet',\n",
       " 'Banette',\n",
       " 'Duskull',\n",
       " 'Dusclops',\n",
       " 'Tropius',\n",
       " 'Chimecho',\n",
       " 'Absol',\n",
       " 'Wynaut',\n",
       " 'Snorunt',\n",
       " 'Glalie',\n",
       " 'Spheal',\n",
       " 'Sealeo',\n",
       " 'Walrein',\n",
       " 'Clamperl',\n",
       " 'Huntail',\n",
       " 'Gorebyss',\n",
       " 'Relicanth',\n",
       " 'Luvdisc',\n",
       " 'Bagon',\n",
       " 'Shelgon',\n",
       " 'Salamence',\n",
       " 'Beldum',\n",
       " 'Metang',\n",
       " 'Metagross',\n",
       " 'Regirock',\n",
       " 'Regice',\n",
       " 'Registeel',\n",
       " 'Latias',\n",
       " 'Latios',\n",
       " 'Kyogre',\n",
       " 'Groudon',\n",
       " 'Rayquaza',\n",
       " 'Jirachi',\n",
       " 'Deoxys',\n",
       " 'Turtwig',\n",
       " 'Grotle',\n",
       " 'Torterra',\n",
       " 'Chimchar',\n",
       " 'Monferno',\n",
       " 'Infernape',\n",
       " 'Piplup',\n",
       " 'Prinplup',\n",
       " 'Empoleon',\n",
       " 'Starly',\n",
       " 'Staravia',\n",
       " 'Staraptor',\n",
       " 'Bidoof',\n",
       " 'Bibarel',\n",
       " 'Kricketot',\n",
       " 'Kricketune',\n",
       " 'Shinx',\n",
       " 'Luxio',\n",
       " 'Luxray',\n",
       " 'Budew',\n",
       " 'Roserade',\n",
       " 'Cranidos',\n",
       " 'Rampardos',\n",
       " 'Shieldon',\n",
       " 'Bastiodon',\n",
       " 'Burmy',\n",
       " 'Wormadam',\n",
       " 'Mothim',\n",
       " 'Combee',\n",
       " 'Vespiquen',\n",
       " 'Pachirisu',\n",
       " 'Buizel',\n",
       " 'Floatzel',\n",
       " 'Cherubi',\n",
       " 'Cherrim',\n",
       " 'Shellos',\n",
       " 'Gastrodon',\n",
       " 'Ambipom',\n",
       " 'Drifloon',\n",
       " 'Drifblim',\n",
       " 'Buneary',\n",
       " 'Lopunny',\n",
       " 'Mismagius',\n",
       " 'Honchkrow',\n",
       " 'Glameow',\n",
       " 'Purugly',\n",
       " 'Chingling',\n",
       " 'Stunky',\n",
       " 'Skuntank',\n",
       " 'Bronzor',\n",
       " 'Bronzong',\n",
       " 'Bonsly',\n",
       " 'Mime Jr.',\n",
       " 'Happiny',\n",
       " 'Chatot',\n",
       " 'Spiritomb',\n",
       " 'Gible',\n",
       " 'Gabite',\n",
       " 'Garchomp',\n",
       " 'Munchlax',\n",
       " 'Riolu',\n",
       " 'Lucario',\n",
       " 'Hippopotas',\n",
       " 'Hippowdon',\n",
       " 'Skorupi',\n",
       " 'Drapion',\n",
       " 'Croagunk',\n",
       " 'Toxicroak',\n",
       " 'Carnivine',\n",
       " 'Finneon',\n",
       " 'Lumineon',\n",
       " 'Mantyke',\n",
       " 'Snover',\n",
       " 'Abomasnow',\n",
       " 'Weavile',\n",
       " 'Magnezone',\n",
       " 'Lickilicky',\n",
       " 'Rhyperior',\n",
       " 'Tangrowth',\n",
       " 'Electivire',\n",
       " 'Magmortar',\n",
       " 'Togekiss',\n",
       " 'Yanmega',\n",
       " 'Leafeon',\n",
       " 'Glaceon',\n",
       " 'Gliscor',\n",
       " 'Mamoswine',\n",
       " 'Porygon-Z',\n",
       " 'Gallade',\n",
       " 'Probopass',\n",
       " 'Dusknoir',\n",
       " 'Froslass',\n",
       " 'Rotom',\n",
       " 'Uxie',\n",
       " 'Mesprit',\n",
       " 'Azelf',\n",
       " 'Dialga',\n",
       " 'Palkia',\n",
       " 'Heatran',\n",
       " 'Regigigas',\n",
       " 'Giratina',\n",
       " 'Cresselia',\n",
       " 'Phione',\n",
       " 'Manaphy',\n",
       " 'Darkrai',\n",
       " 'Shaymin',\n",
       " 'Arceus',\n",
       " 'Victini',\n",
       " 'Snivy',\n",
       " 'Servine',\n",
       " 'Serperior',\n",
       " 'Tepig',\n",
       " 'Pignite',\n",
       " 'Emboar',\n",
       " 'Oshawott',\n",
       " 'Dewott',\n",
       " 'Samurott',\n",
       " 'Patrat',\n",
       " 'Watchog',\n",
       " 'Lillipup',\n",
       " 'Herdier',\n",
       " 'Stoutland',\n",
       " 'Purrloin',\n",
       " 'Liepard',\n",
       " 'Pansage',\n",
       " 'Simisage',\n",
       " 'Pansear',\n",
       " 'Simisear',\n",
       " 'Panpour',\n",
       " 'Simipour',\n",
       " 'Munna',\n",
       " 'Musharna',\n",
       " 'Pidove',\n",
       " 'Tranquill',\n",
       " 'Unfezant',\n",
       " 'Blitzle',\n",
       " 'Zebstrika',\n",
       " 'Roggenrola',\n",
       " 'Boldore',\n",
       " 'Gigalith',\n",
       " 'Woobat',\n",
       " 'Swoobat',\n",
       " 'Drilbur',\n",
       " 'Excadrill',\n",
       " 'Audino',\n",
       " 'Timburr',\n",
       " 'Gurdurr',\n",
       " 'Conkeldurr',\n",
       " 'Tympole',\n",
       " 'Palpitoad',\n",
       " 'Seismitoad',\n",
       " 'Throh',\n",
       " 'Sawk',\n",
       " 'Sewaddle',\n",
       " 'Swadloon',\n",
       " 'Leavanny',\n",
       " 'Venipede',\n",
       " 'Whirlipede',\n",
       " 'Scolipede',\n",
       " 'Cottonee',\n",
       " 'Whimsicott',\n",
       " 'Petilil',\n",
       " 'Lilligant',\n",
       " 'Basculin',\n",
       " 'Sandile',\n",
       " 'Krokorok',\n",
       " 'Krookodile',\n",
       " 'Darumaka',\n",
       " 'Darmanitan',\n",
       " 'Maractus',\n",
       " 'Dwebble',\n",
       " 'Crustle',\n",
       " 'Scraggy',\n",
       " 'Scrafty',\n",
       " 'Sigilyph',\n",
       " 'Yamask',\n",
       " 'Cofagrigus',\n",
       " 'Tirtouga',\n",
       " 'Carracosta',\n",
       " 'Archen',\n",
       " 'Archeops',\n",
       " 'Trubbish',\n",
       " 'Garbodor',\n",
       " 'Zorua',\n",
       " 'Zoroark',\n",
       " 'Minccino',\n",
       " 'Cinccino',\n",
       " 'Gothita',\n",
       " 'Gothorita',\n",
       " 'Gothitelle',\n",
       " 'Solosis',\n",
       " 'Duosion',\n",
       " 'Reuniclus',\n",
       " 'Ducklett',\n",
       " 'Swanna',\n",
       " 'Vanillite',\n",
       " 'Vanillish',\n",
       " 'Vanilluxe',\n",
       " 'Deerling',\n",
       " 'Sawsbuck',\n",
       " 'Emolga',\n",
       " 'Karrablast',\n",
       " 'Escavalier',\n",
       " 'Foongus',\n",
       " 'Amoonguss',\n",
       " 'Frillish',\n",
       " 'Jellicent',\n",
       " 'Alomomola',\n",
       " 'Joltik',\n",
       " 'Galvantula',\n",
       " 'Ferroseed',\n",
       " 'Ferrothorn',\n",
       " 'Klink',\n",
       " 'Klang',\n",
       " 'Klinklang',\n",
       " 'Tynamo',\n",
       " 'Eelektrik',\n",
       " 'Eelektross',\n",
       " 'Elgyem',\n",
       " 'Beheeyem',\n",
       " 'Litwick',\n",
       " 'Lampent',\n",
       " 'Chandelure',\n",
       " 'Axew',\n",
       " 'Fraxure',\n",
       " 'Haxorus',\n",
       " 'Cubchoo',\n",
       " 'Beartic',\n",
       " 'Cryogonal',\n",
       " 'Shelmet',\n",
       " 'Accelgor',\n",
       " 'Stunfisk',\n",
       " 'Mienfoo',\n",
       " 'Mienshao',\n",
       " 'Druddigon',\n",
       " 'Golett',\n",
       " 'Golurk',\n",
       " 'Pawniard',\n",
       " 'Bisharp',\n",
       " 'Bouffalant',\n",
       " 'Rufflet',\n",
       " 'Braviary',\n",
       " 'Vullaby',\n",
       " 'Mandibuzz',\n",
       " 'Heatmor',\n",
       " 'Durant',\n",
       " 'Deino',\n",
       " 'Zweilous',\n",
       " 'Hydreigon',\n",
       " 'Larvesta',\n",
       " 'Volcarona',\n",
       " 'Cobalion',\n",
       " 'Terrakion',\n",
       " 'Virizion',\n",
       " 'Tornadus',\n",
       " 'Thundurus',\n",
       " 'Reshiram',\n",
       " 'Zekrom',\n",
       " 'Landorus',\n",
       " 'Kyurem',\n",
       " 'Keldeo',\n",
       " 'Meloetta',\n",
       " 'Genesect',\n",
       " 'Chespin',\n",
       " 'Quilladin',\n",
       " 'Chesnaught',\n",
       " 'Fennekin',\n",
       " 'Braixen',\n",
       " 'Delphox',\n",
       " 'Froakie',\n",
       " 'Frogadier',\n",
       " 'Greninja',\n",
       " 'Bunnelby',\n",
       " 'Diggersby',\n",
       " 'Fletchling',\n",
       " 'Fletchinder',\n",
       " 'Talonflame',\n",
       " 'Scatterbug',\n",
       " 'Spewpa',\n",
       " 'Vivillon',\n",
       " 'Litleo',\n",
       " 'Pyroar',\n",
       " 'Flabébé',\n",
       " 'Floette',\n",
       " 'Florges',\n",
       " 'Skiddo',\n",
       " 'Gogoat',\n",
       " 'Pancham',\n",
       " 'Pangoro',\n",
       " 'Furfrou',\n",
       " 'Espurr',\n",
       " 'Meowstic',\n",
       " 'Honedge',\n",
       " 'Doublade',\n",
       " 'Aegislash',\n",
       " 'Spritzee',\n",
       " 'Aromatisse',\n",
       " 'Swirlix',\n",
       " 'Slurpuff',\n",
       " 'Inkay',\n",
       " 'Malamar',\n",
       " 'Binacle',\n",
       " 'Barbaracle',\n",
       " 'Skrelp',\n",
       " 'Dragalge',\n",
       " 'Clauncher',\n",
       " 'Clawitzer',\n",
       " 'Helioptile',\n",
       " 'Heliolisk',\n",
       " 'Tyrunt',\n",
       " 'Tyrantrum',\n",
       " 'Amaura',\n",
       " 'Aurorus',\n",
       " 'Sylveon',\n",
       " 'Hawlucha',\n",
       " 'Dedenne',\n",
       " 'Carbink',\n",
       " 'Goomy',\n",
       " 'Sliggoo',\n",
       " 'Goodra',\n",
       " 'Klefki',\n",
       " 'Phantump',\n",
       " 'Trevenant',\n",
       " 'Pumpkaboo',\n",
       " 'Gourgeist',\n",
       " 'Bergmite',\n",
       " 'Avalugg',\n",
       " 'Noibat',\n",
       " 'Noivern',\n",
       " 'Xerneas',\n",
       " 'Yveltal',\n",
       " 'Zygarde',\n",
       " 'Diancie',\n",
       " 'Hoopa',\n",
       " 'Volcanion']"
      ]
     },
     "execution_count": 61,
     "metadata": {},
     "output_type": "execute_result"
    }
   ],
   "source": [
    "list(pokemon)"
   ]
  },
  {
   "cell_type": "code",
   "execution_count": null,
   "metadata": {},
   "outputs": [],
   "source": [
    "list(google)"
   ]
  },
  {
   "cell_type": "code",
   "execution_count": 62,
   "metadata": {
    "collapsed": true,
    "jupyter": {
     "outputs_hidden": true
    }
   },
   "outputs": [
    {
     "data": {
      "text/plain": [
       "{0: 50.119999999999997,\n",
       " 1: 54.100000000000001,\n",
       " 2: 54.649999999999999,\n",
       " 3: 52.380000000000003,\n",
       " 4: 52.950000000000003,\n",
       " 5: 53.899999999999999,\n",
       " 6: 53.020000000000003,\n",
       " 7: 50.950000000000003,\n",
       " 8: 51.130000000000003,\n",
       " 9: 50.07,\n",
       " 10: 50.700000000000003,\n",
       " 11: 49.950000000000003,\n",
       " 12: 50.740000000000002,\n",
       " 13: 51.100000000000001,\n",
       " 14: 51.100000000000001,\n",
       " 15: 52.609999999999999,\n",
       " 16: 53.700000000000003,\n",
       " 17: 55.689999999999998,\n",
       " 18: 55.939999999999998,\n",
       " 19: 56.93,\n",
       " 20: 58.689999999999998,\n",
       " 21: 59.619999999999997,\n",
       " 22: 58.859999999999999,\n",
       " 23: 59.130000000000003,\n",
       " 24: 60.350000000000001,\n",
       " 25: 59.859999999999999,\n",
       " 26: 59.07,\n",
       " 27: 63.369999999999997,\n",
       " 28: 65.469999999999999,\n",
       " 29: 64.739999999999995,\n",
       " 30: 66.219999999999999,\n",
       " 31: 67.459999999999994,\n",
       " 32: 69.120000000000005,\n",
       " 33: 68.469999999999999,\n",
       " 34: 69.359999999999999,\n",
       " 35: 68.799999999999997,\n",
       " 36: 67.560000000000002,\n",
       " 37: 68.629999999999995,\n",
       " 38: 70.379999999999995,\n",
       " 39: 70.930000000000007,\n",
       " 40: 71.980000000000004,\n",
       " 41: 74.510000000000005,\n",
       " 42: 73.900000000000006,\n",
       " 43: 70.170000000000002,\n",
       " 44: 74.620000000000005,\n",
       " 45: 86.129999999999995,\n",
       " 46: 93.609999999999999,\n",
       " 47: 90.810000000000002,\n",
       " 48: 92.890000000000001,\n",
       " 49: 96.549999999999997,\n",
       " 50: 95.219999999999999,\n",
       " 51: 97.920000000000002,\n",
       " 52: 97.340000000000003,\n",
       " 53: 95.739999999999995,\n",
       " 54: 92.260000000000005,\n",
       " 55: 84.590000000000003,\n",
       " 56: 86.189999999999998,\n",
       " 57: 84.269999999999996,\n",
       " 58: 83.849999999999994,\n",
       " 59: 91.420000000000002,\n",
       " 60: 90.909999999999997,\n",
       " 61: 92.340000000000003,\n",
       " 62: 86.189999999999998,\n",
       " 63: 86.159999999999997,\n",
       " 64: 83.689999999999998,\n",
       " 65: 84.620000000000005,\n",
       " 66: 82.469999999999999,\n",
       " 67: 83.680000000000007,\n",
       " 68: 87.290000000000006,\n",
       " 69: 89.609999999999999,\n",
       " 70: 90.430000000000007,\n",
       " 71: 90.900000000000006,\n",
       " 72: 89.890000000000001,\n",
       " 73: 89.609999999999999,\n",
       " 74: 90.109999999999999,\n",
       " 75: 88.060000000000002,\n",
       " 76: 85.629999999999995,\n",
       " 77: 84.909999999999997,\n",
       " 78: 86.629999999999995,\n",
       " 79: 85.739999999999995,\n",
       " 80: 85.140000000000001,\n",
       " 81: 89.260000000000005,\n",
       " 82: 89.799999999999997,\n",
       " 83: 88.150000000000006,\n",
       " 84: 89.950000000000003,\n",
       " 85: 92.420000000000002,\n",
       " 86: 91.780000000000001,\n",
       " 87: 93.060000000000002,\n",
       " 88: 93.859999999999999,\n",
       " 89: 95.859999999999999,\n",
       " 90: 96.280000000000001,\n",
       " 91: 96.349999999999994,\n",
       " 92: 98.700000000000003,\n",
       " 93: 96.299999999999997,\n",
       " 94: 101.25,\n",
       " 95: 97.150000000000006,\n",
       " 96: 96.659999999999997,\n",
       " 97: 94.180000000000007,\n",
       " 98: 96.829999999999998,\n",
       " 99: 97.430000000000007,\n",
       " 100: 96.670000000000002,\n",
       " 101: 97.590000000000003,\n",
       " 102: 97.569999999999993,\n",
       " 103: 99.890000000000001,\n",
       " 104: 101.84999999999999,\n",
       " 105: 98.549999999999997,\n",
       " 106: 96.859999999999999,\n",
       " 107: 94.049999999999997,\n",
       " 108: 90.269999999999996,\n",
       " 109: 88.469999999999999,\n",
       " 110: 94.530000000000001,\n",
       " 111: 93.950000000000003,\n",
       " 112: 95.069999999999993,\n",
       " 113: 97.709999999999994,\n",
       " 114: 95.849999999999994,\n",
       " 115: 102.88,\n",
       " 116: 105.31999999999999,\n",
       " 117: 102.08,\n",
       " 118: 97.920000000000002,\n",
       " 119: 99.219999999999999,\n",
       " 120: 95.689999999999998,\n",
       " 121: 93.900000000000006,\n",
       " 122: 93.609999999999999,\n",
       " 123: 96.400000000000006,\n",
       " 124: 97.519999999999996,\n",
       " 125: 99.109999999999999,\n",
       " 126: 98.849999999999994,\n",
       " 127: 98.879999999999995,\n",
       " 128: 95.590000000000003,\n",
       " 129: 96.879999999999995,\n",
       " 130: 94.349999999999994,\n",
       " 131: 92.840000000000003,\n",
       " 132: 93.900000000000006,\n",
       " 133: 92.939999999999998,\n",
       " 134: 92.5,\n",
       " 135: 93.409999999999997,\n",
       " 136: 92.859999999999999,\n",
       " 137: 94.310000000000002,\n",
       " 138: 92.510000000000005,\n",
       " 139: 90.579999999999998,\n",
       " 140: 89.900000000000006,\n",
       " 141: 88.810000000000002,\n",
       " 142: 87.409999999999997,\n",
       " 143: 89.219999999999999,\n",
       " 144: 87.709999999999994,\n",
       " 145: 89.560000000000002,\n",
       " 146: 89.930000000000007,\n",
       " 147: 90.349999999999994,\n",
       " 148: 89.209999999999994,\n",
       " 149: 89.400000000000006,\n",
       " 150: 89.540000000000006,\n",
       " 151: 90.620000000000005,\n",
       " 152: 89.700000000000003,\n",
       " 153: 90.129999999999995,\n",
       " 154: 90.159999999999997,\n",
       " 155: 89.930000000000007,\n",
       " 156: 92.549999999999997,\n",
       " 157: 94.189999999999998,\n",
       " 158: 94.519999999999996,\n",
       " 159: 96.780000000000001,\n",
       " 160: 95.930000000000007,\n",
       " 161: 96.519999999999996,\n",
       " 162: 96.879999999999995,\n",
       " 163: 96.370000000000005,\n",
       " 164: 95.629999999999995,\n",
       " 165: 92.409999999999997,\n",
       " 166: 93.390000000000001,\n",
       " 167: 95.599999999999994,\n",
       " 168: 98.950000000000003,\n",
       " 169: 102.01000000000001,\n",
       " 170: 107.8,\n",
       " 171: 111.65000000000001,\n",
       " 172: 109.27,\n",
       " 173: 109.78,\n",
       " 174: 109.62,\n",
       " 175: 109.89,\n",
       " 176: 111.03,\n",
       " 177: 112.98,\n",
       " 178: 114.14,\n",
       " 179: 113.38,\n",
       " 180: 113.90000000000001,\n",
       " 181: 112.90000000000001,\n",
       " 182: 113.79000000000001,\n",
       " 183: 115.53,\n",
       " 184: 114.25,\n",
       " 185: 114.51000000000001,\n",
       " 186: 115.41,\n",
       " 187: 116.45,\n",
       " 188: 119.45999999999999,\n",
       " 189: 119.47,\n",
       " 190: 120.68000000000001,\n",
       " 191: 127.59999999999999,\n",
       " 192: 127.87,\n",
       " 193: 130.27000000000001,\n",
       " 194: 129.47,\n",
       " 195: 132.87,\n",
       " 196: 138.5,\n",
       " 197: 143.86000000000001,\n",
       " 198: 143.81,\n",
       " 199: 139.99000000000001,\n",
       " 200: 145.31999999999999,\n",
       " 201: 146.41,\n",
       " 202: 139.63999999999999,\n",
       " 203: 143.00999999999999,\n",
       " 204: 141.11000000000001,\n",
       " 205: 141.22999999999999,\n",
       " 206: 139.03999999999999,\n",
       " 207: 137.25999999999999,\n",
       " 208: 138.58000000000001,\n",
       " 209: 140.0,\n",
       " 210: 143.21000000000001,\n",
       " 211: 143.78,\n",
       " 212: 144.50999999999999,\n",
       " 213: 144.71000000000001,\n",
       " 214: 148.47999999999999,\n",
       " 215: 151.90000000000001,\n",
       " 216: 150.84999999999999,\n",
       " 217: 146.21000000000001,\n",
       " 218: 146.93000000000001,\n",
       " 219: 145.47999999999999,\n",
       " 220: 147.71000000000001,\n",
       " 221: 145.62,\n",
       " 222: 147.62,\n",
       " 223: 147.97,\n",
       " 224: 146.53,\n",
       " 225: 145.75,\n",
       " 226: 149.28,\n",
       " 227: 150.28999999999999,\n",
       " 228: 150.44,\n",
       " 229: 149.62,\n",
       " 230: 154.80000000000001,\n",
       " 231: 155.84,\n",
       " 232: 156.81,\n",
       " 233: 151.05000000000001,\n",
       " 234: 147.78,\n",
       " 235: 147.90000000000001,\n",
       " 236: 148.31999999999999,\n",
       " 237: 146.59999999999999,\n",
       " 238: 143.74000000000001,\n",
       " 239: 145.66,\n",
       " 240: 149.44999999999999,\n",
       " 241: 148.5,\n",
       " 242: 148.72,\n",
       " 243: 146.03,\n",
       " 244: 145.47999999999999,\n",
       " 245: 145.63999999999999,\n",
       " 246: 142.69999999999999,\n",
       " 247: 141.88,\n",
       " 248: 144.72,\n",
       " 249: 141.86000000000001,\n",
       " 250: 142.68000000000001,\n",
       " 251: 142.41,\n",
       " 252: 139.86000000000001,\n",
       " 253: 139.86000000000001,\n",
       " 254: 136.87,\n",
       " 255: 139.65000000000001,\n",
       " 256: 141.13999999999999,\n",
       " 257: 141.15000000000001,\n",
       " 258: 141.65000000000001,\n",
       " 259: 144.08000000000001,\n",
       " 260: 143.49000000000001,\n",
       " 261: 142.86000000000001,\n",
       " 262: 142.97999999999999,\n",
       " 263: 144.08000000000001,\n",
       " 264: 143.41,\n",
       " 265: 147.28999999999999,\n",
       " 266: 147.55000000000001,\n",
       " 267: 149.40000000000001,\n",
       " 268: 154.72,\n",
       " 269: 155.68000000000001,\n",
       " 270: 151.34999999999999,\n",
       " 271: 151.16,\n",
       " 272: 149.94999999999999,\n",
       " 273: 151.74000000000001,\n",
       " 274: 153.80000000000001,\n",
       " 275: 155.78999999999999,\n",
       " 276: 155.53,\n",
       " 277: 157.52000000000001,\n",
       " 278: 156.97999999999999,\n",
       " 279: 156.81,\n",
       " 280: 152.84999999999999,\n",
       " 281: 154.66,\n",
       " 282: 158.06999999999999,\n",
       " 283: 159.18000000000001,\n",
       " 284: 155.34,\n",
       " 285: 155.19999999999999,\n",
       " 286: 156.22,\n",
       " 287: 156.34,\n",
       " 288: 155.16999999999999,\n",
       " 289: 152.90000000000001,\n",
       " 290: 150.33000000000001,\n",
       " 291: 148.56999999999999,\n",
       " 292: 147.91999999999999,\n",
       " 293: 152.34999999999999,\n",
       " 294: 151.49000000000001,\n",
       " 295: 154.19999999999999,\n",
       " 296: 151.44999999999999,\n",
       " 297: 169.78,\n",
       " 298: 174.15000000000001,\n",
       " 299: 173.28,\n",
       " 300: 177.53999999999999,\n",
       " 301: 176.34999999999999,\n",
       " 302: 178.91,\n",
       " 303: 185.88,\n",
       " 304: 189.5,\n",
       " 305: 189.65000000000001,\n",
       " 306: 192.78,\n",
       " 307: 195.02000000000001,\n",
       " 308: 197.31999999999999,\n",
       " 309: 194.75999999999999,\n",
       " 310: 189.38999999999999,\n",
       " 311: 195.34999999999999,\n",
       " 312: 195.0,\n",
       " 313: 198.28999999999999,\n",
       " 314: 196.19999999999999,\n",
       " 315: 198.88,\n",
       " 316: 201.52000000000001,\n",
       " 317: 199.90000000000001,\n",
       " 318: 204.47999999999999,\n",
       " 319: 208.03,\n",
       " 320: 211.22,\n",
       " 321: 214.09999999999999,\n",
       " 322: 211.53,\n",
       " 323: 201.56999999999999,\n",
       " 324: 202.25,\n",
       " 325: 206.84,\n",
       " 326: 208.63999999999999,\n",
       " 327: 202.72,\n",
       " 328: 202.06999999999999,\n",
       " 329: 201.91,\n",
       " 330: 205.12,\n",
       " 331: 204.40000000000001,\n",
       " 332: 206.09999999999999,\n",
       " 333: 208.53999999999999,\n",
       " 334: 209.27000000000001,\n",
       " 335: 211.05000000000001,\n",
       " 336: 214.86000000000001,\n",
       " 337: 212.09,\n",
       " 338: 214.66,\n",
       " 339: 212.94999999999999,\n",
       " 340: 215.80000000000001,\n",
       " 341: 215.25,\n",
       " 342: 212.11000000000001,\n",
       " 343: 213.13,\n",
       " 344: 209.86000000000001,\n",
       " 345: 207.22,\n",
       " 346: 217.40000000000001,\n",
       " 347: 222.40000000000001,\n",
       " 348: 225.38999999999999,\n",
       " 349: 232.59999999999999,\n",
       " 350: 233.22,\n",
       " 351: 234.65000000000001,\n",
       " 352: 235.58000000000001,\n",
       " 353: 231.58000000000001,\n",
       " 354: 232.88999999999999,\n",
       " 355: 233.31999999999999,\n",
       " 356: 222.22999999999999,\n",
       " 357: 218.0,\n",
       " 358: 199.53,\n",
       " 359: 213.53999999999999,\n",
       " 360: 221.28999999999999,\n",
       " 361: 216.28,\n",
       " 362: 216.91999999999999,\n",
       " 363: 216.53,\n",
       " 364: 213.19999999999999,\n",
       " 365: 216.11000000000001,\n",
       " 366: 200.69,\n",
       " 367: 197.81999999999999,\n",
       " 368: 190.59,\n",
       " 369: 192.36000000000001,\n",
       " 370: 183.78,\n",
       " 371: 184.36000000000001,\n",
       " 372: 179.21000000000001,\n",
       " 373: 181.12,\n",
       " 374: 172.68000000000001,\n",
       " 375: 171.49000000000001,\n",
       " 376: 171.02000000000001,\n",
       " 377: 183.05000000000001,\n",
       " 378: 184.19,\n",
       " 379: 183.11000000000001,\n",
       " 380: 182.56,\n",
       " 381: 188.84999999999999,\n",
       " 382: 188.50999999999999,\n",
       " 383: 194.99000000000001,\n",
       " 384: 181.13,\n",
       " 385: 182.22,\n",
       " 386: 188.03999999999999,\n",
       " 387: 188.90000000000001,\n",
       " 388: 183.87,\n",
       " 389: 182.03999999999999,\n",
       " 390: 176.75999999999999,\n",
       " 391: 171.33000000000001,\n",
       " 392: 168.58000000000001,\n",
       " 393: 168.36000000000001,\n",
       " 394: 175.40000000000001,\n",
       " 395: 172.08000000000001,\n",
       " 396: 169.22,\n",
       " 397: 169.72999999999999,\n",
       " 398: 173.91999999999999,\n",
       " 399: 169.78999999999999,\n",
       " 400: 169.94,\n",
       " 401: 170.77000000000001,\n",
       " 402: 182.72,\n",
       " 403: 184.66,\n",
       " 404: 188.41,\n",
       " 405: 197.28999999999999,\n",
       " 406: 194.03,\n",
       " 407: 194.80000000000001,\n",
       " 408: 194.66,\n",
       " 409: 201.97,\n",
       " 410: 203.78999999999999,\n",
       " 411: 205.38,\n",
       " 412: 202.88,\n",
       " 413: 207.97999999999999,\n",
       " 414: 204.63,\n",
       " 415: 204.27000000000001,\n",
       " 416: 200.88,\n",
       " 417: 203.21000000000001,\n",
       " 418: 201.91999999999999,\n",
       " 419: 205.03999999999999,\n",
       " 420: 207.28999999999999,\n",
       " 421: 218.33000000000001,\n",
       " 422: 220.03,\n",
       " 423: 213.37,\n",
       " 424: 212.77000000000001,\n",
       " 425: 209.80000000000001,\n",
       " 426: 208.75999999999999,\n",
       " 427: 199.25,\n",
       " 428: 197.19999999999999,\n",
       " 429: 196.88999999999999,\n",
       " 430: 197.18000000000001,\n",
       " 431: 196.94999999999999,\n",
       " 432: 197.19,\n",
       " 433: 204.19999999999999,\n",
       " 434: 201.28999999999999,\n",
       " 435: 193.31,\n",
       " 436: 186.88,\n",
       " 437: 187.91,\n",
       " 438: 185.46000000000001,\n",
       " 439: 187.06,\n",
       " 440: 185.31,\n",
       " 441: 184.81999999999999,\n",
       " 442: 185.28999999999999,\n",
       " 443: 187.59999999999999,\n",
       " 444: 190.43000000000001,\n",
       " 445: 191.30000000000001,\n",
       " 446: 190.47999999999999,\n",
       " 447: 185.78,\n",
       " 448: 185.72,\n",
       " 449: 191.12,\n",
       " 450: 189.53,\n",
       " 451: 187.03,\n",
       " 452: 194.80000000000001,\n",
       " 453: 193.06,\n",
       " 454: 196.44999999999999,\n",
       " 455: 193.09,\n",
       " 456: 190.58000000000001,\n",
       " 457: 193.06999999999999,\n",
       " 458: 192.0,\n",
       " 459: 195.30000000000001,\n",
       " 460: 195.15000000000001,\n",
       " 461: 193.88,\n",
       " 462: 193.38999999999999,\n",
       " 463: 200.86000000000001,\n",
       " 464: 199.78,\n",
       " 465: 202.22999999999999,\n",
       " 466: 201.91,\n",
       " 467: 200.96000000000001,\n",
       " 468: 202.84999999999999,\n",
       " 469: 208.69999999999999,\n",
       " 470: 209.46000000000001,\n",
       " 471: 211.38999999999999,\n",
       " 472: 210.52000000000001,\n",
       " 473: 211.38,\n",
       " 474: 210.00999999999999,\n",
       " 475: 208.88999999999999,\n",
       " 476: 212.06999999999999,\n",
       " 477: 208.41999999999999,\n",
       " 478: 204.21000000000001,\n",
       " 479: 201.55000000000001,\n",
       " 480: 203.74000000000001,\n",
       " 481: 201.31999999999999,\n",
       " 482: 199.30000000000001,\n",
       " 483: 193.37,\n",
       " 484: 194.86000000000001,\n",
       " 485: 195.25,\n",
       " 486: 194.49000000000001,\n",
       " 487: 192.56,\n",
       " 488: 191.00999999999999,\n",
       " 489: 193.87,\n",
       " 490: 193.11000000000001,\n",
       " 491: 187.56999999999999,\n",
       " 492: 183.43000000000001,\n",
       " 493: 187.50999999999999,\n",
       " 494: 186.74000000000001,\n",
       " 495: 188.78999999999999,\n",
       " 496: 190.31,\n",
       " 497: 188.28,\n",
       " 498: 186.91,\n",
       " 499: 184.06999999999999,\n",
       " 500: 184.53,\n",
       " 501: 190.28999999999999,\n",
       " 502: 193.66999999999999,\n",
       " 503: 192.71000000000001,\n",
       " 504: 191.49000000000001,\n",
       " 505: 188.46000000000001,\n",
       " 506: 188.96000000000001,\n",
       " 507: 186.53,\n",
       " 508: 186.68000000000001,\n",
       " 509: 186.44,\n",
       " 510: 190.28,\n",
       " 511: 189.28999999999999,\n",
       " 512: 190.18000000000001,\n",
       " 513: 189.08000000000001,\n",
       " 514: 189.11000000000001,\n",
       " 515: 191.99000000000001,\n",
       " 516: 189.88,\n",
       " 517: 189.06,\n",
       " 518: 188.74000000000001,\n",
       " 519: 191.84999999999999,\n",
       " 520: 195.75,\n",
       " 521: 203.08000000000001,\n",
       " 522: 201.78999999999999,\n",
       " 523: 204.74000000000001,\n",
       " 524: 207.13999999999999,\n",
       " 525: 201.69999999999999,\n",
       " 526: 198.30000000000001,\n",
       " 527: 203.22,\n",
       " 528: 201.69,\n",
       " 529: 201.78999999999999,\n",
       " 530: 203.22999999999999,\n",
       " 531: 201.25999999999999,\n",
       " 532: 201.59,\n",
       " 533: 200.75,\n",
       " 534: 200.52000000000001,\n",
       " 535: 201.81999999999999,\n",
       " 536: 207.63999999999999,\n",
       " 537: 205.69999999999999,\n",
       " 538: 210.03999999999999,\n",
       " 539: 214.28999999999999,\n",
       " 540: 213.11000000000001,\n",
       " 541: 213.03999999999999,\n",
       " 542: 213.50999999999999,\n",
       " 543: 213.44,\n",
       " 544: 210.66,\n",
       " 545: 210.11000000000001,\n",
       " 546: 209.44,\n",
       " 547: 212.81999999999999,\n",
       " 548: 229.61000000000001,\n",
       " 549: 240.15000000000001,\n",
       " 550: 236.41999999999999,\n",
       " 551: 243.06,\n",
       " 552: 242.31,\n",
       " 553: 237.36000000000001,\n",
       " 554: 238.05000000000001,\n",
       " 555: 237.96000000000001,\n",
       " 556: 233.52000000000001,\n",
       " 557: 234.72,\n",
       " 558: 235.66,\n",
       " 559: 238.24000000000001,\n",
       " 560: 236.05000000000001,\n",
       " 561: 237.25999999999999,\n",
       " 562: 236.08000000000001,\n",
       " 563: 236.53999999999999,\n",
       " 564: 240.27000000000001,\n",
       " 565: 244.41,\n",
       " 566: 245.72,\n",
       " 567: 247.69999999999999,\n",
       " 568: 249.15000000000001,\n",
       " 569: 247.28,\n",
       " 570: 254.56999999999999,\n",
       " 571: 253.75,\n",
       " 572: 252.19999999999999,\n",
       " 573: 242.13,\n",
       " 574: 244.50999999999999,\n",
       " 575: 242.08000000000001,\n",
       " 576: 242.16,\n",
       " 577: 240.16,\n",
       " 578: 242.18000000000001,\n",
       " 579: 243.25999999999999,\n",
       " 580: 244.11000000000001,\n",
       " 581: 241.08000000000001,\n",
       " 582: 241.81,\n",
       " 583: 241.72,\n",
       " 584: 240.65000000000001,\n",
       " 585: 239.25999999999999,\n",
       " 586: 240.81999999999999,\n",
       " 587: 239.91,\n",
       " 588: 231.16999999999999,\n",
       " 589: 234.08000000000001,\n",
       " 590: 231.22,\n",
       " 591: 227.87,\n",
       " 592: 227.56,\n",
       " 593: 228.53999999999999,\n",
       " 594: 233.78,\n",
       " 595: 231.05000000000001,\n",
       " 596: 230.00999999999999,\n",
       " 597: 233.56,\n",
       " 598: 241.38999999999999,\n",
       " 599: 243.34999999999999,\n",
       " 600: 241.55000000000001,\n",
       " 601: 242.50999999999999,\n",
       " 602: 244.49000000000001,\n",
       " 603: 249.61000000000001,\n",
       " 604: 252.25,\n",
       " 605: 251.88999999999999,\n",
       " 606: 248.38999999999999,\n",
       " 607: 243.66999999999999,\n",
       " 608: 244.63,\n",
       " 609: 240.18000000000001,\n",
       " 610: 239.28999999999999,\n",
       " 611: 249.28,\n",
       " 612: 243.80000000000001,\n",
       " 613: 247.66999999999999,\n",
       " 614: 245.99000000000001,\n",
       " 615: 246.91,\n",
       " 616: 250.5,\n",
       " 617: 240.63,\n",
       " 618: 240.50999999999999,\n",
       " 619: 233.34999999999999,\n",
       " 620: 235.5,\n",
       " 621: 234.77000000000001,\n",
       " 622: 235.28,\n",
       " 623: 230.71000000000001,\n",
       " 624: 228.91999999999999,\n",
       " 625: 229.31999999999999,\n",
       " 626: 232.72999999999999,\n",
       " 627: 230.5,\n",
       " 628: 234.74000000000001,\n",
       " 629: 235.81,\n",
       " 630: 237.69,\n",
       " 631: 237.69,\n",
       " 632: 235.06999999999999,\n",
       " 633: 232.22999999999999,\n",
       " 634: 224.16,\n",
       " 635: 224.5,\n",
       " 636: 223.88999999999999,\n",
       " 637: 219.12,\n",
       " 638: 220.25,\n",
       " 639: 228.55000000000001,\n",
       " 640: 227.59,\n",
       " 641: 227.13,\n",
       " 642: 226.25,\n",
       " 643: 227.15000000000001,\n",
       " 644: 221.28999999999999,\n",
       " 645: 223.78,\n",
       " 646: 222.87,\n",
       " 647: 220.19999999999999,\n",
       " 648: 223.38999999999999,\n",
       " 649: 222.41999999999999,\n",
       " 650: 228.05000000000001,\n",
       " 651: 230.78999999999999,\n",
       " 652: 230.68000000000001,\n",
       " 653: 232.27000000000001,\n",
       " 654: 231.58000000000001,\n",
       " 655: 230.71000000000001,\n",
       " 656: 230.22999999999999,\n",
       " 657: 228.84999999999999,\n",
       " 658: 229.03999999999999,\n",
       " 659: 236.06,\n",
       " 660: 235.27000000000001,\n",
       " 661: 235.52000000000001,\n",
       " 662: 233.87,\n",
       " 663: 233.02000000000001,\n",
       " 664: 232.03,\n",
       " 665: 233.46000000000001,\n",
       " 666: 232.91,\n",
       " 667: 236.90000000000001,\n",
       " 668: 236.16,\n",
       " 669: 237.77000000000001,\n",
       " 670: 235.59,\n",
       " 671: 241.0,\n",
       " 672: 239.30000000000001,\n",
       " 673: 238.53,\n",
       " 674: 238.75999999999999,\n",
       " 675: 240.34999999999999,\n",
       " 676: 239.27000000000001,\n",
       " 677: 235.44999999999999,\n",
       " 678: 234.27000000000001,\n",
       " 679: 232.66,\n",
       " 680: 236.38,\n",
       " 681: 235.31999999999999,\n",
       " 682: 233.40000000000001,\n",
       " 683: 233.16999999999999,\n",
       " 684: 234.38999999999999,\n",
       " 685: 230.5,\n",
       " 686: 233.13999999999999,\n",
       " 687: 230.66,\n",
       " 688: 228.77000000000001,\n",
       " 689: 236.06999999999999,\n",
       " 690: 235.24000000000001,\n",
       " 691: 234.91999999999999,\n",
       " 692: 235.06,\n",
       " 693: 237.69,\n",
       " 694: 236.75,\n",
       " 695: 236.93000000000001,\n",
       " 696: 241.52000000000001,\n",
       " 697: 243.31,\n",
       " 698: 249.05000000000001,\n",
       " 699: 248.71000000000001,\n",
       " 700: 249.94999999999999,\n",
       " 701: 253.28,\n",
       " 702: 259.16000000000003,\n",
       " 703: 258.87,\n",
       " 704: 257.26999999999998,\n",
       " 705: 257.49000000000001,\n",
       " 706: 255.41,\n",
       " 707: 252.13,\n",
       " 708: 252.37,\n",
       " 709: 251.16999999999999,\n",
       " 710: 252.69,\n",
       " 711: 257.33999999999997,\n",
       " 712: 256.89999999999998,\n",
       " 713: 254.72999999999999,\n",
       " 714: 256.80000000000001,\n",
       " 715: 262.23000000000002,\n",
       " 716: 263.44999999999999,\n",
       " 717: 264.86000000000001,\n",
       " 718: 262.88,\n",
       " 719: 262.24000000000001,\n",
       " 720: 261.08999999999997,\n",
       " 721: 264.92000000000002,\n",
       " 722: 266.89999999999998,\n",
       " 723: 270.54000000000002,\n",
       " 724: 269.43000000000001,\n",
       " 725: 271.00999999999999,\n",
       " 726: 271.39999999999998,\n",
       " 727: 271.95999999999998,\n",
       " 728: 272.38999999999999,\n",
       " 729: 275.80000000000001,\n",
       " 730: 276.22000000000003,\n",
       " 731: 277.22000000000003,\n",
       " 732: 274.48000000000002,\n",
       " 733: 274.01999999999998,\n",
       " 734: 259.80000000000001,\n",
       " 735: 256.0,\n",
       " 736: 256.74000000000001,\n",
       " 737: 254.63,\n",
       " 738: 253.75,\n",
       " 739: 255.69,\n",
       " 740: 257.80000000000001,\n",
       " 741: 254.74000000000001,\n",
       " 742: 256.20999999999998,\n",
       " 743: 255.25,\n",
       " 744: 251.25,\n",
       " 745: 254.74000000000001,\n",
       " 746: 257.75,\n",
       " 747: 262.63,\n",
       " 748: 257.11000000000001,\n",
       " 749: 257.62,\n",
       " 750: 257.49000000000001,\n",
       " 751: 254.05000000000001,\n",
       " 752: 248.53,\n",
       " 753: 245.50999999999999,\n",
       " 754: 249.77000000000001,\n",
       " 755: 248.71000000000001,\n",
       " 756: 253.05000000000001,\n",
       " 757: 256.12,\n",
       " 758: 255.84,\n",
       " 759: 257.24000000000001,\n",
       " 760: 256.37,\n",
       " 761: 252.94999999999999,\n",
       " 762: 256.18000000000001,\n",
       " 763: 255.44,\n",
       " 764: 257.37,\n",
       " 765: 262.31,\n",
       " 766: 263.63999999999999,\n",
       " 767: 261.5,\n",
       " 768: 259.42000000000002,\n",
       " 769: 256.98000000000002,\n",
       " 770: 260.39999999999998,\n",
       " 771: 261.06,\n",
       " 772: 262.13,\n",
       " 773: 264.11000000000001,\n",
       " 774: 262.38999999999999,\n",
       " 775: 267.37,\n",
       " 776: 273.14999999999998,\n",
       " 777: 276.13999999999999,\n",
       " 778: 279.76999999999998,\n",
       " 779: 283.73000000000002,\n",
       " 780: 284.22000000000003,\n",
       " 781: 283.80000000000001,\n",
       " 782: 283.47000000000003,\n",
       " 783: 283.35000000000002,\n",
       " 784: 290.98000000000002,\n",
       " 785: 291.89999999999998,\n",
       " 786: 291.72000000000003,\n",
       " 787: 289.23000000000002,\n",
       " 788: 296.73000000000002,\n",
       " 789: 304.50999999999999,\n",
       " 790: 307.27999999999997,\n",
       " 791: 312.38,\n",
       " 792: 310.69,\n",
       " 793: 318.38,\n",
       " 794: 309.74000000000001,\n",
       " 795: 307.69,\n",
       " 796: 316.42000000000002,\n",
       " 797: 319.49000000000001,\n",
       " 798: 322.02999999999997,\n",
       " 799: 325.05000000000001,\n",
       " 800: 337.55000000000001,\n",
       " 801: 337.56999999999999,\n",
       " 802: 333.92000000000002,\n",
       " 803: 336.95999999999998,\n",
       " 804: 339.27999999999997,\n",
       " 805: 347.04000000000002,\n",
       " 806: 353.14999999999998,\n",
       " 807: 351.25,\n",
       " 808: 355.26999999999998,\n",
       " 809: 362.45999999999998,\n",
       " 810: 370.51999999999998,\n",
       " 811: 366.10000000000002,\n",
       " 812: 346.56999999999999,\n",
       " 813: 331.64999999999998,\n",
       " 814: 315.72000000000003,\n",
       " 815: 329.94,\n",
       " 816: 320.51999999999998,\n",
       " 817: 314.50999999999999,\n",
       " 818: 316.5,\n",
       " 819: 312.61000000000001,\n",
       " 820: 323.94999999999999,\n",
       " 821: 329.93000000000001,\n",
       " 822: 338.00999999999999,\n",
       " 823: 332.69999999999999,\n",
       " 824: 336.44999999999999,\n",
       " 825: 345.77999999999997,\n",
       " 826: 348.14999999999998,\n",
       " 827: 346.14999999999998,\n",
       " 828: 340.42000000000002,\n",
       " 829: 341.74000000000001,\n",
       " 830: 348.91000000000003,\n",
       " 831: 357.26999999999998,\n",
       " 832: 357.07999999999998,\n",
       " 833: 358.85000000000002,\n",
       " 834: 349.25,\n",
       " 835: 349.32999999999998,\n",
       " 836: 346.68000000000001,\n",
       " 837: 344.63999999999999,\n",
       " 838: 334.27999999999997,\n",
       " 839: 336.33999999999997,\n",
       " 840: 338.35000000000002,\n",
       " 841: 344.5,\n",
       " 842: 348.0,\n",
       " 843: 350.00999999999999,\n",
       " 844: 355.06,\n",
       " 845: 350.01999999999998,\n",
       " 846: 350.91000000000003,\n",
       " 847: 345.38999999999999,\n",
       " 848: 342.25,\n",
       " 849: 342.31999999999999,\n",
       " 850: 328.17000000000002,\n",
       " 851: 324.30000000000001,\n",
       " 852: 315.51999999999998,\n",
       " 853: 326.26999999999998,\n",
       " 854: 323.04000000000002,\n",
       " 855: 318.81,\n",
       " 856: 326.57999999999998,\n",
       " 857: 318.50999999999999,\n",
       " 858: 307.67000000000002,\n",
       " 859: 300.08999999999997,\n",
       " 860: 299.81999999999999,\n",
       " 861: 291.88,\n",
       " 862: 274.04000000000002,\n",
       " 863: 286.95999999999998,\n",
       " 864: 282.92000000000002,\n",
       " 865: 277.70999999999998,\n",
       " 866: 274.98000000000002,\n",
       " 867: 273.86000000000001,\n",
       " 868: 281.87,\n",
       " 869: 257.69,\n",
       " 870: 247.47,\n",
       " 871: 253.15000000000001,\n",
       " 872: 250.59999999999999,\n",
       " 873: 252.22,\n",
       " 874: 258.08999999999997,\n",
       " 875: 260.31999999999999,\n",
       " 876: 258.79000000000002,\n",
       " 877: 267.04000000000002,\n",
       " 878: 265.86000000000001,\n",
       " 879: 264.56,\n",
       " 880: 254.22,\n",
       " 881: 254.25,\n",
       " 882: 251.18000000000001,\n",
       " 883: 253.65000000000001,\n",
       " 884: 242.97999999999999,\n",
       " 885: 231.86000000000001,\n",
       " 886: 236.19,\n",
       " 887: 237.46000000000001,\n",
       " 888: 235.34999999999999,\n",
       " 889: 228.28,\n",
       " 890: 222.08000000000001,\n",
       " 891: 223.63,\n",
       " 892: 216.13,\n",
       " 893: 216.46000000000001,\n",
       " 894: 206.59999999999999,\n",
       " 895: 219.69999999999999,\n",
       " 896: 219.87,\n",
       " 897: 221.28,\n",
       " 898: 218.74000000000001,\n",
       " 899: 209.72999999999999,\n",
       " 900: 219.36000000000001,\n",
       " 901: 215.78,\n",
       " 902: 216.56,\n",
       " 903: 230.05000000000001,\n",
       " 904: 225.16,\n",
       " 905: 228.87,\n",
       " 906: 221.81999999999999,\n",
       " 907: 218.81999999999999,\n",
       " 908: 220.00999999999999,\n",
       " 909: 232.62,\n",
       " 910: 232.62,\n",
       " 911: 227.33000000000001,\n",
       " 912: 235.31,\n",
       " 913: 238.16999999999999,\n",
       " 914: 233.66999999999999,\n",
       " 915: 231.86000000000001,\n",
       " 916: 234.30000000000001,\n",
       " 917: 228.5,\n",
       " 918: 225.59999999999999,\n",
       " 919: 223.19999999999999,\n",
       " 920: 227.28999999999999,\n",
       " 921: 224.55000000000001,\n",
       " 922: 269.44,\n",
       " 923: 268.63,\n",
       " 924: 277.22000000000003,\n",
       " 925: 272.97000000000003,\n",
       " 926: 271.25,\n",
       " 927: 271.75999999999999,\n",
       " 928: 275.77999999999997,\n",
       " 929: 278.95999999999998,\n",
       " 930: 286.86000000000001,\n",
       " 931: 296.24000000000001,\n",
       " 932: 290.35000000000002,\n",
       " 933: 297.14999999999998,\n",
       " 934: 292.88999999999999,\n",
       " 935: 289.20999999999998,\n",
       " 936: 291.20999999999998,\n",
       " 937: 286.30000000000001,\n",
       " 938: 292.18000000000001,\n",
       " 939: 291.20999999999998,\n",
       " 940: 287.86000000000001,\n",
       " 941: 290.20999999999998,\n",
       " 942: 289.74000000000001,\n",
       " 943: 288.47000000000003,\n",
       " 944: 289.00999999999999,\n",
       " 945: 274.72000000000003,\n",
       " 946: 274.45999999999998,\n",
       " 947: 272.04000000000002,\n",
       " 948: 280.17000000000002,\n",
       " 949: 283.83999999999997,\n",
       " 950: 291.20999999999998,\n",
       " 951: 292.61000000000001,\n",
       " 952: 287.20999999999998,\n",
       " 953: 283.37,\n",
       " 954: 285.81999999999999,\n",
       " 955: 292.86000000000001,\n",
       " 956: 283.22000000000003,\n",
       " 957: 278.66000000000003,\n",
       " 958: 276.81,\n",
       " 959: 272.32999999999998,\n",
       " 960: 276.19999999999999,\n",
       " 961: 285.47000000000003,\n",
       " 962: 286.12,\n",
       " 963: 284.44999999999999,\n",
       " 964: 280.91000000000003,\n",
       " 965: 279.81999999999999,\n",
       " 966: 272.94,\n",
       " 967: 272.32999999999998,\n",
       " 968: 270.88,\n",
       " 969: 275.22000000000003,\n",
       " 970: 264.14999999999998,\n",
       " 971: 263.76999999999998,\n",
       " 972: 262.94999999999999,\n",
       " 973: 267.10000000000002,\n",
       " 974: 263.25999999999999,\n",
       " 975: 268.23000000000002,\n",
       " 976: 271.68000000000001,\n",
       " 977: 276.99000000000001,\n",
       " 978: 270.5,\n",
       " 979: 270.01999999999998,\n",
       " 980: 266.63,\n",
       " 981: 260.55000000000001,\n",
       " 982: 257.79000000000002,\n",
       " 983: 267.52999999999997,\n",
       " 984: 266.44999999999999,\n",
       " 985: 240.41999999999999,\n",
       " 986: 234.16999999999999,\n",
       " 987: 238.31999999999999,\n",
       " 988: 244.37,\n",
       " 989: 237.56999999999999,\n",
       " 990: 245.74000000000001,\n",
       " 991: 238.31999999999999,\n",
       " 992: 241.31,\n",
       " 993: 241.11000000000001,\n",
       " 994: 236.63999999999999,\n",
       " 995: 233.69999999999999,\n",
       " 996: 231.27000000000001,\n",
       " 997: 239.69,\n",
       " 998: 242.93000000000001,\n",
       " 999: 239.31999999999999,\n",
       " ...}"
      ]
     },
     "execution_count": 62,
     "metadata": {},
     "output_type": "execute_result"
    }
   ],
   "source": [
    "dict(google)"
   ]
  },
  {
   "cell_type": "code",
   "execution_count": 64,
   "metadata": {
    "collapsed": true,
    "jupyter": {
     "outputs_hidden": true
    }
   },
   "outputs": [
    {
     "data": {
      "text/plain": [
       "'Abomasnow'"
      ]
     },
     "execution_count": 64,
     "metadata": {},
     "output_type": "execute_result"
    }
   ],
   "source": [
    "max(pokemon)\n",
    "min(pokemon)"
   ]
  },
  {
   "cell_type": "code",
   "execution_count": 65,
   "metadata": {
    "collapsed": false,
    "jupyter": {
     "outputs_hidden": false
    }
   },
   "outputs": [
    {
     "data": {
      "text/plain": [
       "782.22000000000003"
      ]
     },
     "execution_count": 65,
     "metadata": {},
     "output_type": "execute_result"
    }
   ],
   "source": [
    "max(google)"
   ]
  },
  {
   "cell_type": "code",
   "execution_count": 66,
   "metadata": {
    "collapsed": false,
    "jupyter": {
     "outputs_hidden": false
    }
   },
   "outputs": [
    {
     "data": {
      "text/plain": [
       "49.950000000000003"
      ]
     },
     "execution_count": 66,
     "metadata": {},
     "output_type": "execute_result"
    }
   ],
   "source": [
    "min(google)"
   ]
  },
  {
   "cell_type": "markdown",
   "metadata": {},
   "source": [
    "## More `Series` Attributes"
   ]
  },
  {
   "cell_type": "code",
   "execution_count": 75,
   "metadata": {
    "collapsed": true,
    "jupyter": {
     "outputs_hidden": true
    }
   },
   "outputs": [],
   "source": [
    "pokemon = pd.read_csv(\"pokemon.csv\", usecols = [\"Pokemon\"], squeeze = True)\n",
    "google = pd.read_csv(\"google_stock_price.csv\", squeeze = True)"
   ]
  },
  {
   "cell_type": "markdown",
   "metadata": {},
   "source": [
    "#### The values attribute : Return Series as ndarray or ndarray-like depending on the dtype.\n",
    "#### The dtype attribute: Return the dtype object of the underlying data. Returns dtype('O') if the elements of the Series are Strings.\n",
    "#### The is_unique attribute: Return boolean True if values in the objects in Series are unique. Returns False when Series contains duplicate values.\n",
    "#### The ndim attribute: Number of dimensions of the underlying data (by definition 1 for a Series). Can also be used for dataframes.\n",
    "#### The shape attribute: Return a tuple of the shape of the underlying data. It indicates number of rows and columns. Makes more sense for multidimensional objects. For Series object, it returns a single element tuple. (3012,) indicates that Series has 3012 rows and 1 column. On a dataframe this returns 2 element tuple, with 1st element indicating the number of rows and othe indicating number of columns.\n",
    "#### The size attribute: Return the number of elements/cells in the underlying data. This attribute does count nulls values. If the csv being read has blank lines, the Series size attribute would still count it.\n",
    "#### The name attribute: Note that we also have a name attribute. This is taken from the top row of the input read(header in case of reading from csv). We can also see this name when the Series is displayed or when we perform head()/tail() on the Series. At the end, before the dtype value , we could see the name of the Series. Imp point is that we can assign a new value to this attribute in case we want to provide a new name."
   ]
  },
  {
   "cell_type": "code",
   "execution_count": 77,
   "metadata": {
    "collapsed": false,
    "jupyter": {
     "outputs_hidden": false
    }
   },
   "outputs": [
    {
     "data": {
      "text/plain": [
       "array([  50.12,   54.1 ,   54.65, ...,  773.18,  771.61,  782.22])"
      ]
     },
     "execution_count": 77,
     "metadata": {},
     "output_type": "execute_result"
    }
   ],
   "source": [
    "pokemon.values\n",
    "google.values"
   ]
  },
  {
   "cell_type": "code",
   "execution_count": 79,
   "metadata": {
    "collapsed": false,
    "jupyter": {
     "outputs_hidden": false
    }
   },
   "outputs": [
    {
     "data": {
      "text/plain": [
       "RangeIndex(start=0, stop=3012, step=1)"
      ]
     },
     "execution_count": 79,
     "metadata": {},
     "output_type": "execute_result"
    }
   ],
   "source": [
    "pokemon.index\n",
    "google.index"
   ]
  },
  {
   "cell_type": "code",
   "execution_count": 19,
   "metadata": {
    "collapsed": false,
    "jupyter": {
     "outputs_hidden": false
    }
   },
   "outputs": [
    {
     "name": "stdout",
     "output_type": "stream",
     "text": [
      "object\n",
      "float64\n"
     ]
    },
    {
     "data": {
      "text/plain": [
       "dtype('O')"
      ]
     },
     "execution_count": 19,
     "metadata": {},
     "output_type": "execute_result"
    }
   ],
   "source": [
    "\n",
    "print(pokemon.dtype)\n",
    "print(google.dtype)\n",
    "pokemon.dtype"
   ]
  },
  {
   "cell_type": "code",
   "execution_count": 83,
   "metadata": {
    "collapsed": false,
    "jupyter": {
     "outputs_hidden": false
    }
   },
   "outputs": [
    {
     "data": {
      "text/plain": [
       "False"
      ]
     },
     "execution_count": 83,
     "metadata": {},
     "output_type": "execute_result"
    }
   ],
   "source": [
    "pokemon.is_unique\n",
    "google.is_unique"
   ]
  },
  {
   "cell_type": "code",
   "execution_count": 85,
   "metadata": {
    "collapsed": false,
    "jupyter": {
     "outputs_hidden": false
    }
   },
   "outputs": [
    {
     "data": {
      "text/plain": [
       "1"
      ]
     },
     "execution_count": 85,
     "metadata": {},
     "output_type": "execute_result"
    }
   ],
   "source": [
    "pokemon.ndim\n",
    "google.ndim"
   ]
  },
  {
   "cell_type": "code",
   "execution_count": 87,
   "metadata": {
    "collapsed": false,
    "jupyter": {
     "outputs_hidden": false
    }
   },
   "outputs": [
    {
     "data": {
      "text/plain": [
       "(3012,)"
      ]
     },
     "execution_count": 87,
     "metadata": {},
     "output_type": "execute_result"
    }
   ],
   "source": [
    "pokemon.shape\n",
    "google.shape"
   ]
  },
  {
   "cell_type": "code",
   "execution_count": 89,
   "metadata": {
    "collapsed": false,
    "jupyter": {
     "outputs_hidden": false
    }
   },
   "outputs": [
    {
     "data": {
      "text/plain": [
       "3012"
      ]
     },
     "execution_count": 89,
     "metadata": {},
     "output_type": "execute_result"
    }
   ],
   "source": [
    "pokemon.size\n",
    "google.size"
   ]
  },
  {
   "cell_type": "code",
   "execution_count": 93,
   "metadata": {
    "collapsed": false,
    "jupyter": {
     "outputs_hidden": false
    }
   },
   "outputs": [],
   "source": [
    "pokemon.name = \"Pocket Monsters\""
   ]
  },
  {
   "cell_type": "code",
   "execution_count": 94,
   "metadata": {
    "collapsed": false,
    "jupyter": {
     "outputs_hidden": false
    }
   },
   "outputs": [
    {
     "data": {
      "text/plain": [
       "0     Bulbasaur\n",
       "1       Ivysaur\n",
       "2      Venusaur\n",
       "3    Charmander\n",
       "4    Charmeleon\n",
       "Name: Pocket Monsters, dtype: object"
      ]
     },
     "execution_count": 94,
     "metadata": {},
     "output_type": "execute_result"
    }
   ],
   "source": [
    "pokemon.head()"
   ]
  },
  {
   "cell_type": "markdown",
   "metadata": {},
   "source": [
    "## The `.sort_values()` Method"
   ]
  },
  {
   "cell_type": "code",
   "execution_count": 95,
   "metadata": {
    "collapsed": true,
    "jupyter": {
     "outputs_hidden": true
    }
   },
   "outputs": [],
   "source": [
    "pokemon = pd.read_csv(\"pokemon.csv\", usecols = [\"Pokemon\"], squeeze = True)\n",
    "google = pd.read_csv(\"google_stock_price.csv\", squeeze = True)"
   ]
  },
  {
   "cell_type": "markdown",
   "metadata": {},
   "source": [
    "#### **The sort_values() method on the Series:** Sort a Series in ascending or descending order by some criterion.\n",
    "\n",
    "`Signature:\n",
    "pokemon.sort_values(\n",
    "    axis=0,\n",
    "    ascending=True,\n",
    "    inplace=False,\n",
    "    kind='quicksort',\n",
    "    na_position='last',\n",
    "    ignore_index=False,\n",
    ")`\n",
    "\n",
    "`\n",
    "Parameters\n",
    "axis : {0 or 'index'}, default 0\n",
    "    Axis to direct sorting. The value 'index' is accepted for compatibility with DataFrame.sort_values.\n",
    "ascending : bool, default True\n",
    "    If True, sort values in ascending order, otherwise descending.\n",
    "inplace : bool, default False\n",
    "    If True, perform operation in-place.\n",
    "kind : {'quicksort', 'mergesort' or 'heapsort'}, default 'quicksort'\n",
    "    Choice of sorting algorithm. See also :func:`numpy.sort` for more information. 'mergesort' is the only stable  algorithm.\n",
    "na_position : {'first' or 'last'}, default 'last'\n",
    "    Argument 'first' puts NaNs at the beginning, 'last' puts NaNs at the end.\n",
    "ignore_index : bool, default False\n",
    "     If True, the resulting axis will be labeled 0, 1, …, n - 1.\n",
    "     `"
   ]
  },
  {
   "cell_type": "code",
   "execution_count": 20,
   "metadata": {
    "collapsed": false,
    "jupyter": {
     "outputs_hidden": false
    }
   },
   "outputs": [
    {
     "data": {
      "text/plain": [
       "459    Abomasnow\n",
       "62          Abra\n",
       "358        Absol\n",
       "616     Accelgor\n",
       "680    Aegislash\n",
       "Name: Pokemon, dtype: object"
      ]
     },
     "execution_count": 20,
     "metadata": {},
     "output_type": "execute_result"
    }
   ],
   "source": [
    "pokemon.sort_values().head() #Method Chaining.\n",
    "#The sort_values() returns a new Series. On this returned object we can invoke the head() method.\n",
    "# Notice that sorting on the values, messes the index order."
   ]
  },
  {
   "cell_type": "code",
   "execution_count": 100,
   "metadata": {
    "collapsed": false,
    "jupyter": {
     "outputs_hidden": false
    }
   },
   "outputs": [
    {
     "data": {
      "text/plain": [
       "680    Aegislash\n",
       "616     Accelgor\n",
       "358        Absol\n",
       "62          Abra\n",
       "459    Abomasnow\n",
       "Name: Pokemon, dtype: object"
      ]
     },
     "execution_count": 100,
     "metadata": {},
     "output_type": "execute_result"
    }
   ],
   "source": [
    "pokemon.sort_values(ascending = False).tail() #Default is ascending True. Use ascending=False to sort in descending manner."
   ]
  },
  {
   "cell_type": "code",
   "execution_count": null,
   "metadata": {},
   "outputs": [],
   "source": []
  },
  {
   "cell_type": "markdown",
   "metadata": {},
   "source": [
    "#### By default, calling sort_values() does not modify the original Series. Instead it creates a new sorted Series and returns it.\n",
    "#### To modifying the original Series in place, we should make use of the inplace parameter."
   ]
  },
  {
   "cell_type": "code",
   "execution_count": 21,
   "metadata": {
    "collapsed": false,
    "jupyter": {
     "outputs_hidden": false
    }
   },
   "outputs": [
    {
     "data": {
      "text/plain": [
       "3011    782.22\n",
       "Name: Stock Price, dtype: float64"
      ]
     },
     "execution_count": 21,
     "metadata": {},
     "output_type": "execute_result"
    }
   ],
   "source": [
    "google.sort_values(ascending = False).head(1)"
   ]
  },
  {
   "cell_type": "code",
   "execution_count": 22,
   "metadata": {
    "collapsed": false,
    "jupyter": {
     "outputs_hidden": false
    }
   },
   "outputs": [
    {
     "data": {
      "text/plain": [
       "0        50.12\n",
       "1        54.10\n",
       "2        54.65\n",
       "3        52.38\n",
       "4        52.95\n",
       "         ...  \n",
       "3007    772.88\n",
       "3008    771.07\n",
       "3009    773.18\n",
       "3010    771.61\n",
       "3011    782.22\n",
       "Name: Stock Price, Length: 3012, dtype: float64"
      ]
     },
     "execution_count": 22,
     "metadata": {},
     "output_type": "execute_result"
    }
   ],
   "source": [
    "google"
   ]
  },
  {
   "cell_type": "markdown",
   "metadata": {},
   "source": [
    "## The `inplace` Parameter"
   ]
  },
  {
   "cell_type": "code",
   "execution_count": 112,
   "metadata": {
    "collapsed": true,
    "jupyter": {
     "outputs_hidden": true
    }
   },
   "outputs": [],
   "source": [
    "pokemon = pd.read_csv(\"pokemon.csv\", usecols = [\"Pokemon\"], squeeze = True)\n",
    "google = pd.read_csv(\"google_stock_price.csv\", squeeze = True)"
   ]
  },
  {
   "cell_type": "code",
   "execution_count": 113,
   "metadata": {
    "collapsed": false,
    "jupyter": {
     "outputs_hidden": false
    }
   },
   "outputs": [
    {
     "data": {
      "text/plain": [
       "0    50.12\n",
       "1    54.10\n",
       "2    54.65\n",
       "Name: Stock Price, dtype: float64"
      ]
     },
     "execution_count": 113,
     "metadata": {},
     "output_type": "execute_result"
    }
   ],
   "source": [
    "google.head(3)"
   ]
  },
  {
   "cell_type": "code",
   "execution_count": 115,
   "metadata": {
    "collapsed": false,
    "jupyter": {
     "outputs_hidden": false
    }
   },
   "outputs": [],
   "source": [
    "google = google.sort_values()"
   ]
  },
  {
   "cell_type": "code",
   "execution_count": 118,
   "metadata": {
    "collapsed": false,
    "jupyter": {
     "outputs_hidden": false
    }
   },
   "outputs": [
    {
     "data": {
      "text/plain": [
       "11    49.95\n",
       "9     50.07\n",
       "0     50.12\n",
       "Name: Stock Price, dtype: float64"
      ]
     },
     "execution_count": 118,
     "metadata": {},
     "output_type": "execute_result"
    }
   ],
   "source": [
    "google.head(3)"
   ]
  },
  {
   "cell_type": "markdown",
   "metadata": {},
   "source": [
    "#### The inplace parameter is available with many pandas methods. This is equivalent to creating a new object from the operation and assigning it back to the same variable, thus giving us the feel that operation was performed in place.\n",
    "#### We can use the above approach to perform inplace changes, in case there is no `inplace` parameter available on the operation."
   ]
  },
  {
   "cell_type": "code",
   "execution_count": 119,
   "metadata": {
    "collapsed": false,
    "jupyter": {
     "outputs_hidden": false
    }
   },
   "outputs": [],
   "source": [
    "google.sort_values(ascending = False, inplace = True)"
   ]
  },
  {
   "cell_type": "code",
   "execution_count": 120,
   "metadata": {
    "collapsed": false,
    "jupyter": {
     "outputs_hidden": false
    }
   },
   "outputs": [
    {
     "data": {
      "text/plain": [
       "3011    782.22\n",
       "2859    776.60\n",
       "3009    773.18\n",
       "Name: Stock Price, dtype: float64"
      ]
     },
     "execution_count": 120,
     "metadata": {},
     "output_type": "execute_result"
    }
   ],
   "source": [
    "google.head(3)"
   ]
  },
  {
   "cell_type": "markdown",
   "metadata": {},
   "source": [
    "## The `.sort_index()` Method"
   ]
  },
  {
   "cell_type": "code",
   "execution_count": 23,
   "metadata": {},
   "outputs": [],
   "source": [
    "pokemon = pd.read_csv(\"pokemon.csv\", usecols = [\"Pokemon\"], squeeze = True)\n",
    "google = pd.read_csv(\"google_stock_price.csv\", squeeze = True)"
   ]
  },
  {
   "cell_type": "code",
   "execution_count": 24,
   "metadata": {
    "collapsed": false,
    "jupyter": {
     "outputs_hidden": false
    }
   },
   "outputs": [],
   "source": [
    "pokemon.sort_values(ascending = False, inplace = True)"
   ]
  },
  {
   "cell_type": "code",
   "execution_count": 25,
   "metadata": {
    "collapsed": false,
    "jupyter": {
     "outputs_hidden": false
    }
   },
   "outputs": [
    {
     "data": {
      "text/plain": [
       "717     Zygarde\n",
       "633    Zweilous\n",
       "40        Zubat\n",
       "Name: Pokemon, dtype: object"
      ]
     },
     "execution_count": 25,
     "metadata": {},
     "output_type": "execute_result"
    }
   ],
   "source": [
    "pokemon.head(3)"
   ]
  },
  {
   "cell_type": "markdown",
   "metadata": {},
   "source": [
    "#### Note that when we sort by values, the index labels are all put out of order. We can reorder the data using index labels using the sort_index method."
   ]
  },
  {
   "cell_type": "markdown",
   "metadata": {},
   "source": [
    "#### **The sort_index() method on Series**: Sort Series by index labels. Returns a new Series sorted by label if `inplace` argument is ``False``, otherwise updates the original series and returns None.\n",
    "\n",
    "`Signature:\n",
    "pokemon.sort_index(\n",
    "    axis=0,\n",
    "    level=None,\n",
    "    ascending=True,\n",
    "    inplace=False,\n",
    "    kind='quicksort',\n",
    "    na_position='last',\n",
    "    sort_remaining=True,\n",
    "    ignore_index: bool = False,\n",
    ")`\n",
    "\n",
    "\n",
    "`Parameters\n",
    "axis : int, default 0\n",
    "    Axis to direct sorting. This can only be 0 for Series.\n",
    "level : int, optional\n",
    "    If not None, sort on values in specified index level(s).\n",
    "ascending : bool, default true\n",
    "    Sort ascending vs. descending.\n",
    "inplace : bool, default False\n",
    "    If True, perform operation in-place.\n",
    "kind : {'quicksort', 'mergesort', 'heapsort'}, default 'quicksort'\n",
    "    Choice of sorting algorithm. See also :func:`numpy.sort` for more information.  'mergesort' is the only stable algorithm. For DataFrames, this option is only applied when sorting on a single column or label.\n",
    "na_position : {'first', 'last'}, default 'last'\n",
    "    If 'first' puts NaNs at the beginning, 'last' puts NaNs at the end.\n",
    "    Not implemented for MultiIndex.\n",
    "sort_remaining : bool, default True\n",
    "    If True and sorting by level and index is multilevel, sort by other levels too (in order) after sorting by specified level.\n",
    "ignore_index : bool, default False\n",
    "    If True, the resulting axis will be labeled 0, 1, …, n - 1.`"
   ]
  },
  {
   "cell_type": "code",
   "execution_count": 26,
   "metadata": {
    "collapsed": false,
    "jupyter": {
     "outputs_hidden": false
    }
   },
   "outputs": [],
   "source": [
    "pokemon.sort_index(ascending = True, inplace = True)"
   ]
  },
  {
   "cell_type": "markdown",
   "metadata": {},
   "source": [
    "## Python's `in` Keyword"
   ]
  },
  {
   "cell_type": "code",
   "execution_count": 149,
   "metadata": {
    "collapsed": true,
    "jupyter": {
     "outputs_hidden": true
    }
   },
   "outputs": [],
   "source": [
    "pokemon = pd.read_csv(\"pokemon.csv\", usecols = [\"Pokemon\"], squeeze = True)\n",
    "google = pd.read_csv(\"google_stock_price.csv\", squeeze = True)"
   ]
  },
  {
   "cell_type": "code",
   "execution_count": 151,
   "metadata": {
    "collapsed": false,
    "jupyter": {
     "outputs_hidden": false
    }
   },
   "outputs": [
    {
     "data": {
      "text/plain": [
       "False"
      ]
     },
     "execution_count": 151,
     "metadata": {},
     "output_type": "execute_result"
    }
   ],
   "source": [
    "100 in [1, 2, 3, 4, 5]"
   ]
  },
  {
   "cell_type": "code",
   "execution_count": 152,
   "metadata": {
    "collapsed": false,
    "jupyter": {
     "outputs_hidden": false
    }
   },
   "outputs": [
    {
     "data": {
      "text/plain": [
       "0    Bulbasaur\n",
       "1      Ivysaur\n",
       "2     Venusaur\n",
       "Name: Pokemon, dtype: object"
      ]
     },
     "execution_count": 152,
     "metadata": {},
     "output_type": "execute_result"
    }
   ],
   "source": [
    "pokemon.head(3)"
   ]
  },
  {
   "cell_type": "markdown",
   "metadata": {},
   "source": [
    "#### The python \"in\" keyword can be used with Series to containment check. By default, the \"in\" keyword searches in the index labels and not the values. That is what even when \"Venusaur\" is present in the Series, the statement `\"Venusaur\" in pokemon` returns False."
   ]
  },
  {
   "cell_type": "code",
   "execution_count": 27,
   "metadata": {},
   "outputs": [
    {
     "data": {
      "text/plain": [
       "False"
      ]
     },
     "execution_count": 27,
     "metadata": {},
     "output_type": "execute_result"
    }
   ],
   "source": [
    "\"Venusaur\" in pokemon"
   ]
  },
  {
   "cell_type": "markdown",
   "metadata": {},
   "source": [
    "#### Below shows that the index label 100 exists in the pokemon Series and since \"in\" looks within the index labels and not values, both the below statements are equivalent and return True"
   ]
  },
  {
   "cell_type": "code",
   "execution_count": 28,
   "metadata": {
    "collapsed": false,
    "jupyter": {
     "outputs_hidden": false
    }
   },
   "outputs": [
    {
     "name": "stdout",
     "output_type": "stream",
     "text": [
      "True\n",
      "True\n"
     ]
    }
   ],
   "source": [
    "print(100 in pokemon)\n",
    "print(100 in pokemon.index)"
   ]
  },
  {
   "cell_type": "code",
   "execution_count": 156,
   "metadata": {
    "collapsed": false,
    "jupyter": {
     "outputs_hidden": false
    }
   },
   "outputs": [
    {
     "data": {
      "text/plain": [
       "RangeIndex(start=0, stop=721, step=1)"
      ]
     },
     "execution_count": 156,
     "metadata": {},
     "output_type": "execute_result"
    }
   ],
   "source": [
    "pokemon.index"
   ]
  },
  {
   "cell_type": "markdown",
   "metadata": {},
   "source": [
    "#### To check if a value exists in a Series,we can use the `in` operator with the `.values` attribute"
   ]
  },
  {
   "cell_type": "code",
   "execution_count": 161,
   "metadata": {
    "collapsed": false,
    "jupyter": {
     "outputs_hidden": false
    }
   },
   "outputs": [
    {
     "data": {
      "text/plain": [
       "False"
      ]
     },
     "execution_count": 161,
     "metadata": {},
     "output_type": "execute_result"
    }
   ],
   "source": [
    "\"Digimon\" in pokemon.values"
   ]
  },
  {
   "cell_type": "markdown",
   "metadata": {},
   "source": [
    "## Extract Values by Index Position"
   ]
  },
  {
   "cell_type": "code",
   "execution_count": 162,
   "metadata": {
    "collapsed": true,
    "jupyter": {
     "outputs_hidden": true
    }
   },
   "outputs": [],
   "source": [
    "pokemon = pd.read_csv(\"pokemon.csv\", usecols = [\"Pokemon\"], squeeze = True)\n",
    "google = pd.read_csv(\"google_stock_price.csv\", squeeze = True)"
   ]
  },
  {
   "cell_type": "code",
   "execution_count": 163,
   "metadata": {
    "collapsed": false,
    "jupyter": {
     "outputs_hidden": false
    }
   },
   "outputs": [
    {
     "data": {
      "text/plain": [
       "0    Bulbasaur\n",
       "1      Ivysaur\n",
       "2     Venusaur\n",
       "Name: Pokemon, dtype: object"
      ]
     },
     "execution_count": 163,
     "metadata": {},
     "output_type": "execute_result"
    }
   ],
   "source": [
    "pokemon.head(3)"
   ]
  },
  {
   "cell_type": "markdown",
   "metadata": {},
   "source": [
    "#### To extract values from Series, we can use indexing just as we use with lists.\n",
    "#### For single value extraction, we can use seriesname[x] where x is the index position which we want to extract. This provides the actual value like String, int , float etc.\n",
    "\n",
    "#### To get multiple values at different index positions, we have 2 options - 1) provide a list with exact index positions 2) provide range using `:` .i.e Slicing. When using slicing we can use negative indexes as well. Also similar to list, extraction goes upto, but does not include the 2nd value provided in slicing. Both these options return a new Series with only the selected elements. When using slicing , we could also provide a step value"
   ]
  },
  {
   "cell_type": "code",
   "execution_count": 29,
   "metadata": {},
   "outputs": [
    {
     "data": {
      "text/plain": [
       "691     Clauncher\n",
       "692     Clawitzer\n",
       "693    Helioptile\n",
       "694     Heliolisk\n",
       "695        Tyrunt\n",
       "696     Tyrantrum\n",
       "697        Amaura\n",
       "698       Aurorus\n",
       "699       Sylveon\n",
       "700      Hawlucha\n",
       "701       Dedenne\n",
       "702       Carbink\n",
       "703         Goomy\n",
       "704       Sliggoo\n",
       "705        Goodra\n",
       "706        Klefki\n",
       "707      Phantump\n",
       "708     Trevenant\n",
       "709     Pumpkaboo\n",
       "710     Gourgeist\n",
       "Name: Pokemon, dtype: object"
      ]
     },
     "execution_count": 29,
     "metadata": {},
     "output_type": "execute_result"
    }
   ],
   "source": [
    "pokemon[1] #returns a single element at the given index position.\n",
    "\n",
    "pokemon[[100, 200, 300]] #Takes in a list of index positions to include in the output.\n",
    "\n",
    "pokemon[50:101] #2nd index position is not included in the result. \n",
    "\n",
    "pokemon[:50] #Does not include index position 50\n",
    "\n",
    "pokemon[-30:] #Negative indexes allowed\n",
    "\n",
    "pokemon[-30 : -10]"
   ]
  },
  {
   "cell_type": "markdown",
   "metadata": {},
   "source": [
    "## Extract Values by Index Label"
   ]
  },
  {
   "cell_type": "markdown",
   "metadata": {},
   "source": [
    "**index_col:** int, str, sequence of int / str, or False, default ``None``\n",
    "\n",
    "`Column(s) to use as the row labels of the ``DataFrame``, either given as string name or column index. If a sequence of int / str is given, a MultiIndex is used.\n",
    "Note: ``index_col=False`` can be used to force pandas to *not* use the first column as the index, e.g. when you have a malformed file with delimiters at the end of each line.`"
   ]
  },
  {
   "cell_type": "code",
   "execution_count": 33,
   "metadata": {
    "collapsed": false,
    "jupyter": {
     "outputs_hidden": false
    }
   },
   "outputs": [
    {
     "data": {
      "text/plain": [
       "Pokemon\n",
       "Bulbasaur    Grass\n",
       "Ivysaur      Grass\n",
       "Venusaur     Grass\n",
       "Name: Type, dtype: object"
      ]
     },
     "execution_count": 33,
     "metadata": {},
     "output_type": "execute_result"
    }
   ],
   "source": [
    "pokemon = pd.read_csv(\"pokemon.csv\", index_col = \"Pokemon\", squeeze = True)\n",
    "pokemon.head(3)"
   ]
  },
  {
   "cell_type": "markdown",
   "metadata": {},
   "source": [
    "#### Even if the index labels are not numeric or derived by default, each index label is still assigned an index position. So even if index labels are not numeric and sequential, we can access the elements of the Series using index positions as shown below.\n"
   ]
  },
  {
   "cell_type": "code",
   "execution_count": 34,
   "metadata": {
    "collapsed": false,
    "jupyter": {
     "outputs_hidden": false
    }
   },
   "outputs": [
    {
     "data": {
      "text/plain": [
       "Pokemon\n",
       "Electrode    Electric\n",
       "Jolteon      Electric\n",
       "Name: Type, dtype: object"
      ]
     },
     "execution_count": 34,
     "metadata": {},
     "output_type": "execute_result"
    }
   ],
   "source": [
    "pokemon[[100, 134]]"
   ]
  },
  {
   "cell_type": "markdown",
   "metadata": {},
   "source": [
    "#### Similar to when using index positions, we could use indexing and slicing with index labels. We could also pass a list of index labels to extract specific index labels. Point to note here is that when using slicing with index labels , the 2nd index label is included in the result (which is different from when we use index positions). When using slicing, we could also provide a step size."
   ]
  },
  {
   "cell_type": "code",
   "execution_count": 38,
   "metadata": {
    "collapsed": false,
    "jupyter": {
     "outputs_hidden": false
    }
   },
   "outputs": [
    {
     "data": {
      "text/plain": [
       "Pokemon\n",
       "Bulbasaur        Grass\n",
       "Venusaur         Grass\n",
       "Charmeleon        Fire\n",
       "Squirtle         Water\n",
       "Blastoise        Water\n",
       "Metapod            Bug\n",
       "Weedle             Bug\n",
       "Beedrill           Bug\n",
       "Pidgeotto       Normal\n",
       "Rattata         Normal\n",
       "Spearow         Normal\n",
       "Ekans           Poison\n",
       "Pikachu       Electric\n",
       "Name: Type, dtype: object"
      ]
     },
     "execution_count": 38,
     "metadata": {},
     "output_type": "execute_result"
    }
   ],
   "source": [
    "pokemon[\"Bulbasaur\"]\n",
    "pokemon[\"Ditto\"]\n",
    "#pokemon[[\"Charizard\", \"Jolteon\"]]\n",
    "pokemon[[\"Blastoise\", \"Venusaur\", \"Meowth\"]] #For extracting multiple values, we could also use a list\n",
    "\n",
    "#pokemon[[\"Pikachu\", \"Digimon\"]]\n",
    "\n",
    "pokemon[\"Bulbasaur\" : \"Pikachu\"] #slicing syntax also works with index labels. In this case the 2nd index label is included in the result.\n",
    "pokemon[\"Bulbasaur\":\"Pikachu\":2]"
   ]
  },
  {
   "cell_type": "markdown",
   "metadata": {},
   "source": [
    "#### If a index label used to fetch the value does not exist, we get an Error (Keyerror).\n",
    "#### Also note that when using a list of index labels, all the labels should exist in the Series. Even if a single label does not exist, we shall get an Error"
   ]
  },
  {
   "cell_type": "markdown",
   "metadata": {},
   "source": [
    "## The `.get()` Method on a `Series`"
   ]
  },
  {
   "cell_type": "code",
   "execution_count": 39,
   "metadata": {
    "collapsed": false,
    "jupyter": {
     "outputs_hidden": false
    }
   },
   "outputs": [
    {
     "data": {
      "text/plain": [
       "Pokemon\n",
       "Abomasnow      Grass\n",
       "Abra         Psychic\n",
       "Absol           Dark\n",
       "Name: Type, dtype: object"
      ]
     },
     "execution_count": 39,
     "metadata": {},
     "output_type": "execute_result"
    }
   ],
   "source": [
    "pokemon = pd.read_csv(\"pokemon.csv\", index_col = \"Pokemon\", squeeze = True)\n",
    "pokemon.sort_index(inplace = True) #Sorting helps fetching performance.\n",
    "pokemon.head(3)"
   ]
  },
  {
   "cell_type": "markdown",
   "metadata": {},
   "source": [
    "#### The get() method :Get item from object for given key (ex: DataFrame column). Returns default value if not found. \n",
    "`Signature: pokemon.get(key, default=None)`\n",
    "#### If the index position or label that we provide to the get method does not exist, we shall get nothing. However there wont be an error like in the case of using [] notation.\n",
    "#### For the key, we could also provide a list of index positions or labels. However we need to be careful that if even a single index label/position does not exist in the Series, the result would be the default value specified. If no default value is specified, None is returned. This means that even of other index labels/positions were present,result would still be the one specified by the `default` parameter."
   ]
  },
  {
   "cell_type": "code",
   "execution_count": 40,
   "metadata": {
    "collapsed": false,
    "jupyter": {
     "outputs_hidden": false
    }
   },
   "outputs": [
    {
     "data": {
      "text/plain": [
       "Pokemon\n",
       "Moltres      Fire\n",
       "Meowth     Normal\n",
       "Name: Type, dtype: object"
      ]
     },
     "execution_count": 40,
     "metadata": {},
     "output_type": "execute_result"
    }
   ],
   "source": [
    "pokemon.get(key = [\"Moltres\", \"Meowth\"]) #The get method could also take a list of index positions or labels."
   ]
  },
  {
   "cell_type": "code",
   "execution_count": 41,
   "metadata": {},
   "outputs": [],
   "source": [
    "pokemon.get(key = [\"Moltres\", \"Mth\"]) "
   ]
  },
  {
   "cell_type": "code",
   "execution_count": 42,
   "metadata": {},
   "outputs": [
    {
     "data": {
      "text/plain": [
       "'HHOHOH'"
      ]
     },
     "execution_count": 42,
     "metadata": {},
     "output_type": "execute_result"
    }
   ],
   "source": [
    "pokemon.get(key = [\"Moltres\", \"Mth\",\"Meowth\"],default=\"HHOHOH\") "
   ]
  },
  {
   "cell_type": "code",
   "execution_count": 199,
   "metadata": {
    "collapsed": false,
    "jupyter": {
     "outputs_hidden": false
    }
   },
   "outputs": [
    {
     "data": {
      "text/plain": [
       "'Fire'"
      ]
     },
     "execution_count": 199,
     "metadata": {},
     "output_type": "execute_result"
    }
   ],
   "source": [
    "pokemon.get(key = \"Charizard\", default = \"This is not a Pokemon\")"
   ]
  },
  {
   "cell_type": "code",
   "execution_count": 202,
   "metadata": {
    "collapsed": false,
    "jupyter": {
     "outputs_hidden": false
    }
   },
   "outputs": [
    {
     "data": {
      "text/plain": [
       "'This is not a Pokemon'"
      ]
     },
     "execution_count": 202,
     "metadata": {},
     "output_type": "execute_result"
    }
   ],
   "source": [
    "pokemon.get(key = \"jksajk\", default = \"This is not a Pokemon\")"
   ]
  },
  {
   "cell_type": "markdown",
   "metadata": {},
   "source": [
    "## Math Methods on `Series` Objects"
   ]
  },
  {
   "cell_type": "code",
   "execution_count": 43,
   "metadata": {
    "collapsed": false,
    "jupyter": {
     "outputs_hidden": false
    }
   },
   "outputs": [
    {
     "data": {
      "text/plain": [
       "0    50.12\n",
       "1    54.10\n",
       "2    54.65\n",
       "Name: Stock Price, dtype: float64"
      ]
     },
     "execution_count": 43,
     "metadata": {},
     "output_type": "execute_result"
    }
   ],
   "source": [
    "google = pd.read_csv(\"google_stock_price.csv\", squeeze = True)\n",
    "google.head(3)"
   ]
  },
  {
   "cell_type": "markdown",
   "metadata": {},
   "source": [
    "#### The count() method: Return number of non-NA/null observations in the Series.\n",
    "\n",
    "`Signature: google.count(level=None)`\n",
    "\n"
   ]
  },
  {
   "cell_type": "code",
   "execution_count": 44,
   "metadata": {
    "collapsed": false,
    "jupyter": {
     "outputs_hidden": false
    }
   },
   "outputs": [
    {
     "data": {
      "text/plain": [
       "3012"
      ]
     },
     "execution_count": 44,
     "metadata": {},
     "output_type": "execute_result"
    }
   ],
   "source": [
    "google.count()"
   ]
  },
  {
   "cell_type": "code",
   "execution_count": 45,
   "metadata": {
    "collapsed": false,
    "jupyter": {
     "outputs_hidden": false
    }
   },
   "outputs": [
    {
     "data": {
      "text/plain": [
       "3012"
      ]
     },
     "execution_count": 45,
     "metadata": {},
     "output_type": "execute_result"
    }
   ],
   "source": [
    "len(google)"
   ]
  },
  {
   "cell_type": "markdown",
   "metadata": {},
   "source": [
    "#### The sum() method:Return the sum of the values for the requested axis.\n",
    "\n",
    "`Signature:\n",
    "google.sum(\n",
    "    axis=None,\n",
    "    skipna=None,\n",
    "    level=None,\n",
    "    numeric_only=None,\n",
    "    min_count=0,\n",
    "    **kwargs,\n",
    ")`"
   ]
  },
  {
   "cell_type": "code",
   "execution_count": 222,
   "metadata": {
    "collapsed": false,
    "jupyter": {
     "outputs_hidden": false
    }
   },
   "outputs": [
    {
     "data": {
      "text/plain": [
       "1006942.0000000002"
      ]
     },
     "execution_count": 222,
     "metadata": {},
     "output_type": "execute_result"
    }
   ],
   "source": [
    "google.sum()"
   ]
  },
  {
   "cell_type": "markdown",
   "metadata": {},
   "source": [
    "#### The mean() method:  Return the mean of the values for the requested axis. \n",
    "\n",
    "`Signature:\n",
    "google.mean(\n",
    "    axis=None,\n",
    "    skipna=None,\n",
    "    level=None,\n",
    "    numeric_only=None,\n",
    "    **kwargs,\n",
    ")`\n"
   ]
  },
  {
   "cell_type": "code",
   "execution_count": 223,
   "metadata": {
    "collapsed": false,
    "jupyter": {
     "outputs_hidden": false
    }
   },
   "outputs": [
    {
     "data": {
      "text/plain": [
       "334.31009296148744"
      ]
     },
     "execution_count": 223,
     "metadata": {},
     "output_type": "execute_result"
    }
   ],
   "source": [
    "google.mean()"
   ]
  },
  {
   "cell_type": "code",
   "execution_count": 224,
   "metadata": {
    "collapsed": false,
    "jupyter": {
     "outputs_hidden": false
    }
   },
   "outputs": [
    {
     "data": {
      "text/plain": [
       "334.31009296148744"
      ]
     },
     "execution_count": 224,
     "metadata": {},
     "output_type": "execute_result"
    }
   ],
   "source": [
    "google.sum() / google.count()"
   ]
  },
  {
   "cell_type": "markdown",
   "metadata": {},
   "source": [
    "#### The std() method: Signature: Return sample standard deviation over requested axis. Normalized by N-1 by default. This can be changed using the ddof argument\n",
    "\n",
    "`Signature : google.std(\n",
    "    axis=None,\n",
    "    skipna=None,\n",
    "    level=None,\n",
    "    ddof=1,\n",
    "    numeric_only=None,\n",
    "    **kwargs,\n",
    ")`\n"
   ]
  },
  {
   "cell_type": "code",
   "execution_count": 225,
   "metadata": {
    "collapsed": false,
    "jupyter": {
     "outputs_hidden": false
    }
   },
   "outputs": [
    {
     "data": {
      "text/plain": [
       "173.18720477113106"
      ]
     },
     "execution_count": 225,
     "metadata": {},
     "output_type": "execute_result"
    }
   ],
   "source": [
    "google.std()"
   ]
  },
  {
   "cell_type": "markdown",
   "metadata": {},
   "source": [
    "#### The min() method: Return the minimum of the values for the requested axis.\n",
    "`Signature: google.min(axis=None, skipna=None, level=None, numeric_only=None, **kwargs)`\n",
    "\n",
    "#### The max() method: Return the maximum of the values for the requested axis.\n",
    "`Signature: google.max(axis=None, skipna=None, level=None, numeric_only=None, **kwargs)`\n",
    "\n",
    "#### The median() method: Return the median of the values for the requested axis.\n",
    "`Signature:\n",
    "google.median(\n",
    "    axis=None,\n",
    "    skipna=None,\n",
    "    level=None,\n",
    "    numeric_only=None,\n",
    "    **kwargs,\n",
    ")`\n"
   ]
  },
  {
   "cell_type": "code",
   "execution_count": 226,
   "metadata": {
    "collapsed": false,
    "jupyter": {
     "outputs_hidden": false
    }
   },
   "outputs": [
    {
     "data": {
      "text/plain": [
       "49.950000000000003"
      ]
     },
     "execution_count": 226,
     "metadata": {},
     "output_type": "execute_result"
    }
   ],
   "source": [
    "google.min()"
   ]
  },
  {
   "cell_type": "code",
   "execution_count": 227,
   "metadata": {
    "collapsed": false,
    "jupyter": {
     "outputs_hidden": false
    }
   },
   "outputs": [
    {
     "data": {
      "text/plain": [
       "782.22000000000003"
      ]
     },
     "execution_count": 227,
     "metadata": {},
     "output_type": "execute_result"
    }
   ],
   "source": [
    "google.max()"
   ]
  },
  {
   "cell_type": "code",
   "execution_count": 228,
   "metadata": {
    "collapsed": false,
    "jupyter": {
     "outputs_hidden": false
    }
   },
   "outputs": [
    {
     "data": {
      "text/plain": [
       "283.315"
      ]
     },
     "execution_count": 228,
     "metadata": {},
     "output_type": "execute_result"
    }
   ],
   "source": [
    "google.median()"
   ]
  },
  {
   "cell_type": "markdown",
   "metadata": {},
   "source": [
    "#### The mode() method: Return the mode(s) of the dataset. Always returns Series even if only one value is returned.\n",
    "`Signature: google.mode(dropna=True)`"
   ]
  },
  {
   "cell_type": "code",
   "execution_count": 229,
   "metadata": {
    "collapsed": false,
    "jupyter": {
     "outputs_hidden": false
    }
   },
   "outputs": [
    {
     "data": {
      "text/plain": [
       "0    291.21\n",
       "dtype: float64"
      ]
     },
     "execution_count": 229,
     "metadata": {},
     "output_type": "execute_result"
    }
   ],
   "source": [
    "google.mode()"
   ]
  },
  {
   "cell_type": "markdown",
   "metadata": {},
   "source": [
    "#### The describe() method : Generate descriptive statistics. Descriptive statistics include those that summarize the central tendency, dispersion and shape of a dataset's distribution, excluding ``NaN`` values. Analyzes both numeric and object series, as well as ``DataFrame`` column sets of mixed data types. The output will vary depending on what is provided.\n",
    "\n",
    "`Signature: google.describe(percentiles=None, include=None, exclude=None) -> ~FrameOrSeries`"
   ]
  },
  {
   "cell_type": "code",
   "execution_count": 230,
   "metadata": {
    "collapsed": false,
    "jupyter": {
     "outputs_hidden": false
    }
   },
   "outputs": [
    {
     "data": {
      "text/plain": [
       "count    3012.000000\n",
       "mean      334.310093\n",
       "std       173.187205\n",
       "min        49.950000\n",
       "25%       218.045000\n",
       "50%       283.315000\n",
       "75%       443.000000\n",
       "max       782.220000\n",
       "Name: Stock Price, dtype: float64"
      ]
     },
     "execution_count": 230,
     "metadata": {},
     "output_type": "execute_result"
    }
   ],
   "source": [
    "google.describe()"
   ]
  },
  {
   "cell_type": "markdown",
   "metadata": {},
   "source": [
    "## The `.idxmax()` and `.idxmin()` Methods"
   ]
  },
  {
   "cell_type": "code",
   "execution_count": 46,
   "metadata": {},
   "outputs": [],
   "source": [
    "google = pd.read_csv(\"google_stock_price.csv\", squeeze = True)"
   ]
  },
  {
   "cell_type": "code",
   "execution_count": 47,
   "metadata": {
    "collapsed": false,
    "jupyter": {
     "outputs_hidden": false
    }
   },
   "outputs": [
    {
     "data": {
      "text/plain": [
       "782.22"
      ]
     },
     "execution_count": 47,
     "metadata": {},
     "output_type": "execute_result"
    }
   ],
   "source": [
    "google.max()"
   ]
  },
  {
   "cell_type": "code",
   "execution_count": 48,
   "metadata": {
    "collapsed": false,
    "jupyter": {
     "outputs_hidden": false
    }
   },
   "outputs": [
    {
     "data": {
      "text/plain": [
       "49.95"
      ]
     },
     "execution_count": 48,
     "metadata": {},
     "output_type": "execute_result"
    }
   ],
   "source": [
    "google.min()"
   ]
  },
  {
   "cell_type": "markdown",
   "metadata": {},
   "source": [
    "\n",
    "#### The idxmax() method: Return the row label of the maximum value. If multiple values equal the maximum, the first row label with that value is returned.Raises ValueError if the Series is empty.\n",
    "\n",
    "`Signature: google.idxmax(axis=0, skipna=True, *args, **kwargs)`\n",
    "\n",
    "`axis : int, default 0\n",
    "    For compatibility with DataFrame.idxmax. Redundant for application on Series.\n",
    "skipna : bool, default True\n",
    "    Exclude NA/null values. If the entire Series is NA, the result will be NA.\n",
    "*args, **kwargs\n",
    "    Additional arguments and keywords have no effect but might be accepted for compatibility with NumPy.`\n",
    "\n"
   ]
  },
  {
   "cell_type": "code",
   "execution_count": 235,
   "metadata": {
    "collapsed": false,
    "jupyter": {
     "outputs_hidden": false
    }
   },
   "outputs": [
    {
     "data": {
      "text/plain": [
       "3011"
      ]
     },
     "execution_count": 235,
     "metadata": {},
     "output_type": "execute_result"
    }
   ],
   "source": [
    "google.idxmax()"
   ]
  },
  {
   "cell_type": "code",
   "execution_count": 236,
   "metadata": {
    "collapsed": false,
    "jupyter": {
     "outputs_hidden": false
    }
   },
   "outputs": [
    {
     "data": {
      "text/plain": [
       "782.22000000000003"
      ]
     },
     "execution_count": 236,
     "metadata": {},
     "output_type": "execute_result"
    }
   ],
   "source": [
    "google[3011]"
   ]
  },
  {
   "cell_type": "markdown",
   "metadata": {},
   "source": [
    "#### The idxmin() method : Return the row label of the minimum value. If multiple values equal the minimum, the first row label with that value is returned. Raises ValueError if the Series is empty.\n",
    "\n",
    "`Signature: google.idxmin(axis=0, skipna=True, *args, **kwargs)`\n",
    "\n",
    "`axis : int, default 0\n",
    "    For compatibility with DataFrame.idxmin. Redundant for application on Series.\n",
    "skipna : bool, default True\n",
    "    Exclude NA/null values. If the entire Series is NA, the result will be NA.\n",
    "*args, **kwargs\n",
    "    Additional arguments and keywords have no effect but might be accepted for compatibility with NumPy.`\n",
    "\n"
   ]
  },
  {
   "cell_type": "code",
   "execution_count": 237,
   "metadata": {
    "collapsed": false,
    "jupyter": {
     "outputs_hidden": false
    }
   },
   "outputs": [
    {
     "data": {
      "text/plain": [
       "11"
      ]
     },
     "execution_count": 237,
     "metadata": {},
     "output_type": "execute_result"
    }
   ],
   "source": [
    "google.idxmin()"
   ]
  },
  {
   "cell_type": "code",
   "execution_count": 238,
   "metadata": {
    "collapsed": false,
    "jupyter": {
     "outputs_hidden": false
    }
   },
   "outputs": [
    {
     "data": {
      "text/plain": [
       "49.950000000000003"
      ]
     },
     "execution_count": 238,
     "metadata": {},
     "output_type": "execute_result"
    }
   ],
   "source": [
    "google[11]"
   ]
  },
  {
   "cell_type": "code",
   "execution_count": 239,
   "metadata": {
    "collapsed": false,
    "jupyter": {
     "outputs_hidden": false
    }
   },
   "outputs": [
    {
     "data": {
      "text/plain": [
       "49.950000000000003"
      ]
     },
     "execution_count": 239,
     "metadata": {},
     "output_type": "execute_result"
    }
   ],
   "source": [
    "google[google.idxmin()]"
   ]
  },
  {
   "cell_type": "markdown",
   "metadata": {},
   "source": [
    "## The `.value_counts()` Method"
   ]
  },
  {
   "cell_type": "code",
   "execution_count": 49,
   "metadata": {
    "collapsed": false,
    "jupyter": {
     "outputs_hidden": false
    }
   },
   "outputs": [
    {
     "data": {
      "text/plain": [
       "Pokemon\n",
       "Bulbasaur    Grass\n",
       "Ivysaur      Grass\n",
       "Venusaur     Grass\n",
       "Name: Type, dtype: object"
      ]
     },
     "execution_count": 49,
     "metadata": {},
     "output_type": "execute_result"
    }
   ],
   "source": [
    "pokemon = pd.read_csv(\"pokemon.csv\", index_col = \"Pokemon\", squeeze = True)\n",
    "pokemon.head(3)"
   ]
  },
  {
   "cell_type": "markdown",
   "metadata": {},
   "source": [
    "#### The value_counts() method: Return a Series containing counts of unique values.The resulting object will be in descending order so that the first element is the most frequently-occurring element. Excludes NA values by default.\n",
    "\n",
    "`Signature:\n",
    "pokemon.value_counts(\n",
    "    normalize=False,\n",
    "    sort=True,\n",
    "    ascending=False,\n",
    "    bins=None,\n",
    "    dropna=True,\n",
    ")`\n",
    "\n",
    "`normalize : bool, default False\n",
    "    If True then the object returned will contain the relative frequencies of the unique values.\n",
    "sort : bool, default True\n",
    "    Sort by frequencies.\n",
    "ascending : bool, default False\n",
    "    Sort in ascending order.\n",
    "bins : int, optional\n",
    "    Rather than count values, group them into half-open bins, a convenience for ``pd.cut``, only works with numeric data.\n",
    "dropna : bool, default True\n",
    "    Don't include counts of NaN.`"
   ]
  },
  {
   "cell_type": "code",
   "execution_count": 242,
   "metadata": {
    "collapsed": false,
    "jupyter": {
     "outputs_hidden": false
    }
   },
   "outputs": [
    {
     "data": {
      "text/plain": [
       "721"
      ]
     },
     "execution_count": 242,
     "metadata": {},
     "output_type": "execute_result"
    }
   ],
   "source": [
    "pokemon.value_counts().sum()"
   ]
  },
  {
   "cell_type": "code",
   "execution_count": 243,
   "metadata": {
    "collapsed": false,
    "jupyter": {
     "outputs_hidden": false
    }
   },
   "outputs": [
    {
     "data": {
      "text/plain": [
       "721"
      ]
     },
     "execution_count": 243,
     "metadata": {},
     "output_type": "execute_result"
    }
   ],
   "source": [
    "pokemon.count()"
   ]
  },
  {
   "cell_type": "code",
   "execution_count": 246,
   "metadata": {
    "collapsed": false,
    "jupyter": {
     "outputs_hidden": false
    }
   },
   "outputs": [
    {
     "data": {
      "text/plain": [
       "Flying        3\n",
       "Fairy        17\n",
       "Steel        22\n",
       "Ice          23\n",
       "Ghost        23\n",
       "Dragon       24\n",
       "Fighting     25\n",
       "Dark         28\n",
       "Poison       28\n",
       "Ground       30\n",
       "Electric     36\n",
       "Rock         41\n",
       "Psychic      47\n",
       "Fire         47\n",
       "Bug          63\n",
       "Grass        66\n",
       "Normal       93\n",
       "Water       105\n",
       "Name: Type, dtype: int64"
      ]
     },
     "execution_count": 246,
     "metadata": {},
     "output_type": "execute_result"
    }
   ],
   "source": [
    "pokemon.value_counts(ascending = True) #Gives results in reverse order."
   ]
  },
  {
   "cell_type": "markdown",
   "metadata": {},
   "source": [
    "## The `.apply()` Method"
   ]
  },
  {
   "cell_type": "code",
   "execution_count": 255,
   "metadata": {
    "collapsed": false,
    "jupyter": {
     "outputs_hidden": false
    }
   },
   "outputs": [
    {
     "data": {
      "text/plain": [
       "0    50.12\n",
       "1    54.10\n",
       "2    54.65\n",
       "3    52.38\n",
       "4    52.95\n",
       "5    53.90\n",
       "Name: Stock Price, dtype: float64"
      ]
     },
     "execution_count": 255,
     "metadata": {},
     "output_type": "execute_result"
    }
   ],
   "source": [
    "google = pd.read_csv(\"google_stock_price.csv\", squeeze = True)\n",
    "google.head(6)"
   ]
  },
  {
   "cell_type": "code",
   "execution_count": 256,
   "metadata": {
    "collapsed": true,
    "jupyter": {
     "outputs_hidden": true
    }
   },
   "outputs": [],
   "source": [
    "def classify_performance(number):\n",
    "    if number < 300:\n",
    "        return \"OK\"\n",
    "    elif number >= 300 and number < 650:\n",
    "        return \"Satisfactory\"\n",
    "    else:\n",
    "        return \"Incredible!\""
   ]
  },
  {
   "cell_type": "markdown",
   "metadata": {},
   "source": [
    "#### The apply() method: Invoke function on values of Series. Can be ufunc (a NumPy function that applies to the entire Series) or a Python function that only works on single values.\n",
    "`Signature: google.apply(func, convert_dtype=True, args=(), **kwds)`\n",
    "\n",
    "`func : function\n",
    "    Python function or NumPy ufunc to apply.\n",
    "convert_dtype : bool, default True\n",
    "    Try to find better dtype for elementwise function results. If\n",
    "    False, leave as dtype=object.\n",
    "args : tuple\n",
    "    Positional arguments passed to func after the series value.\n",
    "**kwds\n",
    "    Additional keyword arguments passed to func.`"
   ]
  },
  {
   "cell_type": "code",
   "execution_count": 258,
   "metadata": {
    "collapsed": false,
    "jupyter": {
     "outputs_hidden": false
    }
   },
   "outputs": [
    {
     "data": {
      "text/plain": [
       "3007    Incredible!\n",
       "3008    Incredible!\n",
       "3009    Incredible!\n",
       "3010    Incredible!\n",
       "3011    Incredible!\n",
       "Name: Stock Price, dtype: object"
      ]
     },
     "execution_count": 258,
     "metadata": {},
     "output_type": "execute_result"
    }
   ],
   "source": [
    "google.apply(classify_performance).tail()"
   ]
  },
  {
   "cell_type": "code",
   "execution_count": 259,
   "metadata": {
    "collapsed": false,
    "jupyter": {
     "outputs_hidden": false
    }
   },
   "outputs": [
    {
     "data": {
      "text/plain": [
       "0    50.12\n",
       "1    54.10\n",
       "2    54.65\n",
       "3    52.38\n",
       "4    52.95\n",
       "5    53.90\n",
       "Name: Stock Price, dtype: float64"
      ]
     },
     "execution_count": 259,
     "metadata": {},
     "output_type": "execute_result"
    }
   ],
   "source": [
    "google.head(6)"
   ]
  },
  {
   "cell_type": "code",
   "execution_count": 50,
   "metadata": {
    "collapsed": false,
    "jupyter": {
     "outputs_hidden": false
    }
   },
   "outputs": [
    {
     "data": {
      "text/plain": [
       "0        51.12\n",
       "1        55.10\n",
       "2        55.65\n",
       "3        53.38\n",
       "4        53.95\n",
       "         ...  \n",
       "3007    773.88\n",
       "3008    772.07\n",
       "3009    774.18\n",
       "3010    772.61\n",
       "3011    783.22\n",
       "Name: Stock Price, Length: 3012, dtype: float64"
      ]
     },
     "execution_count": 50,
     "metadata": {},
     "output_type": "execute_result"
    }
   ],
   "source": [
    "google.apply(lambda stock_price : stock_price + 1)"
   ]
  },
  {
   "cell_type": "markdown",
   "metadata": {},
   "source": [
    "## The `.map()` Method"
   ]
  },
  {
   "cell_type": "code",
   "execution_count": 51,
   "metadata": {
    "collapsed": false,
    "jupyter": {
     "outputs_hidden": false
    }
   },
   "outputs": [
    {
     "data": {
      "text/plain": [
       "0    Bulbasaur\n",
       "1      Ivysaur\n",
       "2     Venusaur\n",
       "Name: Pokemon, dtype: object"
      ]
     },
     "execution_count": 51,
     "metadata": {},
     "output_type": "execute_result"
    }
   ],
   "source": [
    "pokemon_names = pd.read_csv(\"pokemon.csv\", usecols = [\"Pokemon\"], squeeze = True)\n",
    "pokemon_names.head(3)"
   ]
  },
  {
   "cell_type": "code",
   "execution_count": 52,
   "metadata": {
    "collapsed": false,
    "jupyter": {
     "outputs_hidden": false
    }
   },
   "outputs": [
    {
     "data": {
      "text/plain": [
       "Pokemon\n",
       "Bulbasaur    Grass\n",
       "Ivysaur      Grass\n",
       "Venusaur     Grass\n",
       "Name: Type, dtype: object"
      ]
     },
     "execution_count": 52,
     "metadata": {},
     "output_type": "execute_result"
    }
   ],
   "source": [
    "pokemon_types = pd.read_csv(\"pokemon.csv\", index_col = \"Pokemon\", squeeze = True)\n",
    "pokemon_types.head(3)"
   ]
  },
  {
   "cell_type": "markdown",
   "metadata": {},
   "source": [
    "#### The map() method:  Map values of Series according to input correspondence. Used for substituting each value in a Series with another value, that may be derived from a function, a ``dict`` or a :class:`Series`. It returns a new Series with same index as the caller.\n",
    "`Signature: pokemon_names.map(arg, na_action=None)`\n",
    "\n",
    "`arg : function, collections.abc.Mapping subclass or Series Mapping correspondence.\n",
    "na_action : {None, 'ignore'}, default None\n",
    "    If 'ignore', propagate NaN values, without passing them to the mapping correspondence.`\n",
    "\n"
   ]
  },
  {
   "cell_type": "code",
   "execution_count": 53,
   "metadata": {},
   "outputs": [
    {
     "data": {
      "text/plain": [
       "0        Grass\n",
       "1        Grass\n",
       "2        Grass\n",
       "3         Fire\n",
       "4         Fire\n",
       "        ...   \n",
       "716       Dark\n",
       "717     Dragon\n",
       "718       Rock\n",
       "719    Psychic\n",
       "720       Fire\n",
       "Name: Pokemon, Length: 721, dtype: object"
      ]
     },
     "execution_count": 53,
     "metadata": {},
     "output_type": "execute_result"
    }
   ],
   "source": [
    "pokemon_names.map(pokemon_types)"
   ]
  },
  {
   "cell_type": "code",
   "execution_count": 54,
   "metadata": {},
   "outputs": [],
   "source": [
    "pokemon_names = pd.read_csv(\"pokemon.csv\", usecols = [\"Pokemon\"], squeeze = True)\n",
    "pokemon_types = pd.read_csv(\"pokemon.csv\", index_col = \"Pokemon\", squeeze = True).to_dict()"
   ]
  },
  {
   "cell_type": "code",
   "execution_count": 55,
   "metadata": {
    "collapsed": false,
    "jupyter": {
     "outputs_hidden": false
    }
   },
   "outputs": [
    {
     "data": {
      "text/plain": [
       "0     Bulbasaur\n",
       "1       Ivysaur\n",
       "2      Venusaur\n",
       "3    Charmander\n",
       "4    Charmeleon\n",
       "Name: Pokemon, dtype: object"
      ]
     },
     "execution_count": 55,
     "metadata": {},
     "output_type": "execute_result"
    }
   ],
   "source": [
    "pokemon_names.head()"
   ]
  },
  {
   "cell_type": "code",
   "execution_count": 56,
   "metadata": {},
   "outputs": [
    {
     "data": {
      "text/plain": [
       "{'Bulbasaur': 'Grass',\n",
       " 'Ivysaur': 'Grass',\n",
       " 'Venusaur': 'Grass',\n",
       " 'Charmander': 'Fire',\n",
       " 'Charmeleon': 'Fire',\n",
       " 'Charizard': 'Fire',\n",
       " 'Squirtle': 'Water',\n",
       " 'Wartortle': 'Water',\n",
       " 'Blastoise': 'Water',\n",
       " 'Caterpie': 'Bug',\n",
       " 'Metapod': 'Bug',\n",
       " 'Butterfree': 'Bug',\n",
       " 'Weedle': 'Bug',\n",
       " 'Kakuna': 'Bug',\n",
       " 'Beedrill': 'Bug',\n",
       " 'Pidgey': 'Normal',\n",
       " 'Pidgeotto': 'Normal',\n",
       " 'Pidgeot': 'Normal',\n",
       " 'Rattata': 'Normal',\n",
       " 'Raticate': 'Normal',\n",
       " 'Spearow': 'Normal',\n",
       " 'Fearow': 'Normal',\n",
       " 'Ekans': 'Poison',\n",
       " 'Arbok': 'Poison',\n",
       " 'Pikachu': 'Electric',\n",
       " 'Raichu': 'Electric',\n",
       " 'Sandshrew': 'Ground',\n",
       " 'Sandslash': 'Ground',\n",
       " 'Nidoran': 'Poison',\n",
       " 'Nidorina': 'Poison',\n",
       " 'Nidoqueen': 'Poison',\n",
       " 'Nidoran♂': 'Poison',\n",
       " 'Nidorino': 'Poison',\n",
       " 'Nidoking': 'Poison',\n",
       " 'Clefairy': 'Fairy',\n",
       " 'Clefable': 'Fairy',\n",
       " 'Vulpix': 'Fire',\n",
       " 'Ninetales': 'Fire',\n",
       " 'Jigglypuff': 'Normal',\n",
       " 'Wigglytuff': 'Normal',\n",
       " 'Zubat': 'Poison',\n",
       " 'Golbat': 'Poison',\n",
       " 'Oddish': 'Grass',\n",
       " 'Gloom': 'Grass',\n",
       " 'Vileplume': 'Grass',\n",
       " 'Paras': 'Bug',\n",
       " 'Parasect': 'Bug',\n",
       " 'Venonat': 'Bug',\n",
       " 'Venomoth': 'Bug',\n",
       " 'Diglett': 'Ground',\n",
       " 'Dugtrio': 'Ground',\n",
       " 'Meowth': 'Normal',\n",
       " 'Persian': 'Normal',\n",
       " 'Psyduck': 'Water',\n",
       " 'Golduck': 'Water',\n",
       " 'Mankey': 'Fighting',\n",
       " 'Primeape': 'Fighting',\n",
       " 'Growlithe': 'Fire',\n",
       " 'Arcanine': 'Fire',\n",
       " 'Poliwag': 'Water',\n",
       " 'Poliwhirl': 'Water',\n",
       " 'Poliwrath': 'Water',\n",
       " 'Abra': 'Psychic',\n",
       " 'Kadabra': 'Psychic',\n",
       " 'Alakazam': 'Psychic',\n",
       " 'Machop': 'Fighting',\n",
       " 'Machoke': 'Fighting',\n",
       " 'Machamp': 'Fighting',\n",
       " 'Bellsprout': 'Grass',\n",
       " 'Weepinbell': 'Grass',\n",
       " 'Victreebel': 'Grass',\n",
       " 'Tentacool': 'Water',\n",
       " 'Tentacruel': 'Water',\n",
       " 'Geodude': 'Rock',\n",
       " 'Graveler': 'Rock',\n",
       " 'Golem': 'Rock',\n",
       " 'Ponyta': 'Fire',\n",
       " 'Rapidash': 'Fire',\n",
       " 'Slowpoke': 'Water',\n",
       " 'Slowbro': 'Water',\n",
       " 'Magnemite': 'Electric',\n",
       " 'Magneton': 'Electric',\n",
       " \"Farfetch'd\": 'Normal',\n",
       " 'Doduo': 'Normal',\n",
       " 'Dodrio': 'Normal',\n",
       " 'Seel': 'Water',\n",
       " 'Dewgong': 'Water',\n",
       " 'Grimer': 'Poison',\n",
       " 'Muk': 'Poison',\n",
       " 'Shellder': 'Water',\n",
       " 'Cloyster': 'Water',\n",
       " 'Gastly': 'Ghost',\n",
       " 'Haunter': 'Ghost',\n",
       " 'Gengar': 'Ghost',\n",
       " 'Onix': 'Rock',\n",
       " 'Drowzee': 'Psychic',\n",
       " 'Hypno': 'Psychic',\n",
       " 'Krabby': 'Water',\n",
       " 'Kingler': 'Water',\n",
       " 'Voltorb': 'Electric',\n",
       " 'Electrode': 'Electric',\n",
       " 'Exeggcute': 'Grass',\n",
       " 'Exeggutor': 'Grass',\n",
       " 'Cubone': 'Ground',\n",
       " 'Marowak': 'Ground',\n",
       " 'Hitmonlee': 'Fighting',\n",
       " 'Hitmonchan': 'Fighting',\n",
       " 'Lickitung': 'Normal',\n",
       " 'Koffing': 'Poison',\n",
       " 'Weezing': 'Poison',\n",
       " 'Rhyhorn': 'Ground',\n",
       " 'Rhydon': 'Ground',\n",
       " 'Chansey': 'Normal',\n",
       " 'Tangela': 'Grass',\n",
       " 'Kangaskhan': 'Normal',\n",
       " 'Horsea': 'Water',\n",
       " 'Seadra': 'Water',\n",
       " 'Goldeen': 'Water',\n",
       " 'Seaking': 'Water',\n",
       " 'Staryu': 'Water',\n",
       " 'Starmie': 'Water',\n",
       " 'Mr. Mime': 'Psychic',\n",
       " 'Scyther': 'Bug',\n",
       " 'Jynx': 'Ice',\n",
       " 'Electabuzz': 'Electric',\n",
       " 'Magmar': 'Fire',\n",
       " 'Pinsir': 'Bug',\n",
       " 'Tauros': 'Normal',\n",
       " 'Magikarp': 'Water',\n",
       " 'Gyarados': 'Water',\n",
       " 'Lapras': 'Water',\n",
       " 'Ditto': 'Normal',\n",
       " 'Eevee': 'Normal',\n",
       " 'Vaporeon': 'Water',\n",
       " 'Jolteon': 'Electric',\n",
       " 'Flareon': 'Fire',\n",
       " 'Porygon': 'Normal',\n",
       " 'Omanyte': 'Rock',\n",
       " 'Omastar': 'Rock',\n",
       " 'Kabuto': 'Rock',\n",
       " 'Kabutops': 'Rock',\n",
       " 'Aerodactyl': 'Rock',\n",
       " 'Snorlax': 'Normal',\n",
       " 'Articuno': 'Ice',\n",
       " 'Zapdos': 'Electric',\n",
       " 'Moltres': 'Fire',\n",
       " 'Dratini': 'Dragon',\n",
       " 'Dragonair': 'Dragon',\n",
       " 'Dragonite': 'Dragon',\n",
       " 'Mewtwo': 'Psychic',\n",
       " 'Mew': 'Psychic',\n",
       " 'Chikorita': 'Grass',\n",
       " 'Bayleef': 'Grass',\n",
       " 'Meganium': 'Grass',\n",
       " 'Cyndaquil': 'Fire',\n",
       " 'Quilava': 'Fire',\n",
       " 'Typhlosion': 'Fire',\n",
       " 'Totodile': 'Water',\n",
       " 'Croconaw': 'Water',\n",
       " 'Feraligatr': 'Water',\n",
       " 'Sentret': 'Normal',\n",
       " 'Furret': 'Normal',\n",
       " 'Hoothoot': 'Normal',\n",
       " 'Noctowl': 'Normal',\n",
       " 'Ledyba': 'Bug',\n",
       " 'Ledian': 'Bug',\n",
       " 'Spinarak': 'Bug',\n",
       " 'Ariados': 'Bug',\n",
       " 'Crobat': 'Poison',\n",
       " 'Chinchou': 'Water',\n",
       " 'Lanturn': 'Water',\n",
       " 'Pichu': 'Electric',\n",
       " 'Cleffa': 'Fairy',\n",
       " 'Igglybuff': 'Normal',\n",
       " 'Togepi': 'Fairy',\n",
       " 'Togetic': 'Fairy',\n",
       " 'Natu': 'Psychic',\n",
       " 'Xatu': 'Psychic',\n",
       " 'Mareep': 'Electric',\n",
       " 'Flaaffy': 'Electric',\n",
       " 'Ampharos': 'Electric',\n",
       " 'Bellossom': 'Grass',\n",
       " 'Marill': 'Water',\n",
       " 'Azumarill': 'Water',\n",
       " 'Sudowoodo': 'Rock',\n",
       " 'Politoed': 'Water',\n",
       " 'Hoppip': 'Grass',\n",
       " 'Skiploom': 'Grass',\n",
       " 'Jumpluff': 'Grass',\n",
       " 'Aipom': 'Normal',\n",
       " 'Sunkern': 'Grass',\n",
       " 'Sunflora': 'Grass',\n",
       " 'Yanma': 'Bug',\n",
       " 'Wooper': 'Water',\n",
       " 'Quagsire': 'Water',\n",
       " 'Espeon': 'Psychic',\n",
       " 'Umbreon': 'Dark',\n",
       " 'Murkrow': 'Dark',\n",
       " 'Slowking': 'Water',\n",
       " 'Misdreavus': 'Ghost',\n",
       " 'Unown': 'Psychic',\n",
       " 'Wobbuffet': 'Psychic',\n",
       " 'Girafarig': 'Normal',\n",
       " 'Pineco': 'Bug',\n",
       " 'Forretress': 'Bug',\n",
       " 'Dunsparce': 'Normal',\n",
       " 'Gligar': 'Ground',\n",
       " 'Steelix': 'Steel',\n",
       " 'Snubbull': 'Fairy',\n",
       " 'Granbull': 'Fairy',\n",
       " 'Qwilfish': 'Water',\n",
       " 'Scizor': 'Bug',\n",
       " 'Shuckle': 'Bug',\n",
       " 'Heracross': 'Bug',\n",
       " 'Sneasel': 'Dark',\n",
       " 'Teddiursa': 'Normal',\n",
       " 'Ursaring': 'Normal',\n",
       " 'Slugma': 'Fire',\n",
       " 'Magcargo': 'Fire',\n",
       " 'Swinub': 'Ice',\n",
       " 'Piloswine': 'Ice',\n",
       " 'Corsola': 'Water',\n",
       " 'Remoraid': 'Water',\n",
       " 'Octillery': 'Water',\n",
       " 'Delibird': 'Ice',\n",
       " 'Mantine': 'Water',\n",
       " 'Skarmory': 'Steel',\n",
       " 'Houndour': 'Dark',\n",
       " 'Houndoom': 'Dark',\n",
       " 'Kingdra': 'Water',\n",
       " 'Phanpy': 'Ground',\n",
       " 'Donphan': 'Ground',\n",
       " 'Porygon2': 'Normal',\n",
       " 'Stantler': 'Normal',\n",
       " 'Smeargle': 'Normal',\n",
       " 'Tyrogue': 'Fighting',\n",
       " 'Hitmontop': 'Fighting',\n",
       " 'Smoochum': 'Ice',\n",
       " 'Elekid': 'Electric',\n",
       " 'Magby': 'Fire',\n",
       " 'Miltank': 'Normal',\n",
       " 'Blissey': 'Normal',\n",
       " 'Raikou': 'Electric',\n",
       " 'Entei': 'Fire',\n",
       " 'Suicune': 'Water',\n",
       " 'Larvitar': 'Rock',\n",
       " 'Pupitar': 'Rock',\n",
       " 'Tyranitar': 'Rock',\n",
       " 'Lugia': 'Psychic',\n",
       " 'Ho-oh': 'Fire',\n",
       " 'Celebi': 'Psychic',\n",
       " 'Treecko': 'Grass',\n",
       " 'Grovyle': 'Grass',\n",
       " 'Sceptile': 'Grass',\n",
       " 'Torchic': 'Fire',\n",
       " 'Combusken': 'Fire',\n",
       " 'Blaziken': 'Fire',\n",
       " 'Mudkip': 'Water',\n",
       " 'Marshtomp': 'Water',\n",
       " 'Swampert': 'Water',\n",
       " 'Poochyena': 'Dark',\n",
       " 'Mightyena': 'Dark',\n",
       " 'Zigzagoon': 'Normal',\n",
       " 'Linoone': 'Normal',\n",
       " 'Wurmple': 'Bug',\n",
       " 'Silcoon': 'Bug',\n",
       " 'Beautifly': 'Bug',\n",
       " 'Cascoon': 'Bug',\n",
       " 'Dustox': 'Bug',\n",
       " 'Lotad': 'Water',\n",
       " 'Lombre': 'Water',\n",
       " 'Ludicolo': 'Water',\n",
       " 'Seedot': 'Grass',\n",
       " 'Nuzleaf': 'Grass',\n",
       " 'Shiftry': 'Grass',\n",
       " 'Taillow': 'Normal',\n",
       " 'Swellow': 'Normal',\n",
       " 'Wingull': 'Water',\n",
       " 'Pelipper': 'Water',\n",
       " 'Ralts': 'Psychic',\n",
       " 'Kirlia': 'Psychic',\n",
       " 'Gardevoir': 'Psychic',\n",
       " 'Surskit': 'Bug',\n",
       " 'Masquerain': 'Bug',\n",
       " 'Shroomish': 'Grass',\n",
       " 'Breloom': 'Grass',\n",
       " 'Slakoth': 'Normal',\n",
       " 'Vigoroth': 'Normal',\n",
       " 'Slaking': 'Normal',\n",
       " 'Nincada': 'Bug',\n",
       " 'Ninjask': 'Bug',\n",
       " 'Shedinja': 'Bug',\n",
       " 'Whismur': 'Normal',\n",
       " 'Loudred': 'Normal',\n",
       " 'Exploud': 'Normal',\n",
       " 'Makuhita': 'Fighting',\n",
       " 'Hariyama': 'Fighting',\n",
       " 'Azurill': 'Normal',\n",
       " 'Nosepass': 'Rock',\n",
       " 'Skitty': 'Normal',\n",
       " 'Delcatty': 'Normal',\n",
       " 'Sableye': 'Dark',\n",
       " 'Mawile': 'Steel',\n",
       " 'Aron': 'Steel',\n",
       " 'Lairon': 'Steel',\n",
       " 'Aggron': 'Steel',\n",
       " 'Meditite': 'Fighting',\n",
       " 'Medicham': 'Fighting',\n",
       " 'Electrike': 'Electric',\n",
       " 'Manectric': 'Electric',\n",
       " 'Plusle': 'Electric',\n",
       " 'Minun': 'Electric',\n",
       " 'Volbeat': 'Bug',\n",
       " 'Illumise': 'Bug',\n",
       " 'Roselia': 'Grass',\n",
       " 'Gulpin': 'Poison',\n",
       " 'Swalot': 'Poison',\n",
       " 'Carvanha': 'Water',\n",
       " 'Sharpedo': 'Water',\n",
       " 'Wailmer': 'Water',\n",
       " 'Wailord': 'Water',\n",
       " 'Numel': 'Fire',\n",
       " 'Camerupt': 'Fire',\n",
       " 'Torkoal': 'Fire',\n",
       " 'Spoink': 'Psychic',\n",
       " 'Grumpig': 'Psychic',\n",
       " 'Spinda': 'Normal',\n",
       " 'Trapinch': 'Ground',\n",
       " 'Vibrava': 'Ground',\n",
       " 'Flygon': 'Ground',\n",
       " 'Cacnea': 'Grass',\n",
       " 'Cacturne': 'Grass',\n",
       " 'Swablu': 'Normal',\n",
       " 'Altaria': 'Dragon',\n",
       " 'Zangoose': 'Normal',\n",
       " 'Seviper': 'Poison',\n",
       " 'Lunatone': 'Rock',\n",
       " 'Solrock': 'Rock',\n",
       " 'Barboach': 'Water',\n",
       " 'Whiscash': 'Water',\n",
       " 'Corphish': 'Water',\n",
       " 'Crawdaunt': 'Water',\n",
       " 'Baltoy': 'Ground',\n",
       " 'Claydol': 'Ground',\n",
       " 'Lileep': 'Rock',\n",
       " 'Cradily': 'Rock',\n",
       " 'Anorith': 'Rock',\n",
       " 'Armaldo': 'Rock',\n",
       " 'Feebas': 'Water',\n",
       " 'Milotic': 'Water',\n",
       " 'Castform': 'Normal',\n",
       " 'Kecleon': 'Normal',\n",
       " 'Shuppet': 'Ghost',\n",
       " 'Banette': 'Ghost',\n",
       " 'Duskull': 'Ghost',\n",
       " 'Dusclops': 'Ghost',\n",
       " 'Tropius': 'Grass',\n",
       " 'Chimecho': 'Psychic',\n",
       " 'Absol': 'Dark',\n",
       " 'Wynaut': 'Psychic',\n",
       " 'Snorunt': 'Ice',\n",
       " 'Glalie': 'Ice',\n",
       " 'Spheal': 'Ice',\n",
       " 'Sealeo': 'Ice',\n",
       " 'Walrein': 'Ice',\n",
       " 'Clamperl': 'Water',\n",
       " 'Huntail': 'Water',\n",
       " 'Gorebyss': 'Water',\n",
       " 'Relicanth': 'Water',\n",
       " 'Luvdisc': 'Water',\n",
       " 'Bagon': 'Dragon',\n",
       " 'Shelgon': 'Dragon',\n",
       " 'Salamence': 'Dragon',\n",
       " 'Beldum': 'Steel',\n",
       " 'Metang': 'Steel',\n",
       " 'Metagross': 'Steel',\n",
       " 'Regirock': 'Rock',\n",
       " 'Regice': 'Ice',\n",
       " 'Registeel': 'Steel',\n",
       " 'Latias': 'Dragon',\n",
       " 'Latios': 'Dragon',\n",
       " 'Kyogre': 'Water',\n",
       " 'Groudon': 'Ground',\n",
       " 'Rayquaza': 'Dragon',\n",
       " 'Jirachi': 'Steel',\n",
       " 'Deoxys': 'Psychic',\n",
       " 'Turtwig': 'Grass',\n",
       " 'Grotle': 'Grass',\n",
       " 'Torterra': 'Grass',\n",
       " 'Chimchar': 'Fire',\n",
       " 'Monferno': 'Fire',\n",
       " 'Infernape': 'Fire',\n",
       " 'Piplup': 'Water',\n",
       " 'Prinplup': 'Water',\n",
       " 'Empoleon': 'Water',\n",
       " 'Starly': 'Normal',\n",
       " 'Staravia': 'Normal',\n",
       " 'Staraptor': 'Normal',\n",
       " 'Bidoof': 'Normal',\n",
       " 'Bibarel': 'Normal',\n",
       " 'Kricketot': 'Bug',\n",
       " 'Kricketune': 'Bug',\n",
       " 'Shinx': 'Electric',\n",
       " 'Luxio': 'Electric',\n",
       " 'Luxray': 'Electric',\n",
       " 'Budew': 'Grass',\n",
       " 'Roserade': 'Grass',\n",
       " 'Cranidos': 'Rock',\n",
       " 'Rampardos': 'Rock',\n",
       " 'Shieldon': 'Rock',\n",
       " 'Bastiodon': 'Rock',\n",
       " 'Burmy': 'Bug',\n",
       " 'Wormadam': 'Bug',\n",
       " 'Mothim': 'Bug',\n",
       " 'Combee': 'Bug',\n",
       " 'Vespiquen': 'Bug',\n",
       " 'Pachirisu': 'Electric',\n",
       " 'Buizel': 'Water',\n",
       " 'Floatzel': 'Water',\n",
       " 'Cherubi': 'Grass',\n",
       " 'Cherrim': 'Grass',\n",
       " 'Shellos': 'Water',\n",
       " 'Gastrodon': 'Water',\n",
       " 'Ambipom': 'Normal',\n",
       " 'Drifloon': 'Ghost',\n",
       " 'Drifblim': 'Ghost',\n",
       " 'Buneary': 'Normal',\n",
       " 'Lopunny': 'Normal',\n",
       " 'Mismagius': 'Ghost',\n",
       " 'Honchkrow': 'Dark',\n",
       " 'Glameow': 'Normal',\n",
       " 'Purugly': 'Normal',\n",
       " 'Chingling': 'Psychic',\n",
       " 'Stunky': 'Poison',\n",
       " 'Skuntank': 'Poison',\n",
       " 'Bronzor': 'Steel',\n",
       " 'Bronzong': 'Steel',\n",
       " 'Bonsly': 'Rock',\n",
       " 'Mime Jr.': 'Psychic',\n",
       " 'Happiny': 'Normal',\n",
       " 'Chatot': 'Normal',\n",
       " 'Spiritomb': 'Ghost',\n",
       " 'Gible': 'Dragon',\n",
       " 'Gabite': 'Dragon',\n",
       " 'Garchomp': 'Dragon',\n",
       " 'Munchlax': 'Normal',\n",
       " 'Riolu': 'Fighting',\n",
       " 'Lucario': 'Fighting',\n",
       " 'Hippopotas': 'Ground',\n",
       " 'Hippowdon': 'Ground',\n",
       " 'Skorupi': 'Poison',\n",
       " 'Drapion': 'Poison',\n",
       " 'Croagunk': 'Poison',\n",
       " 'Toxicroak': 'Poison',\n",
       " 'Carnivine': 'Grass',\n",
       " 'Finneon': 'Water',\n",
       " 'Lumineon': 'Water',\n",
       " 'Mantyke': 'Water',\n",
       " 'Snover': 'Grass',\n",
       " 'Abomasnow': 'Grass',\n",
       " 'Weavile': 'Dark',\n",
       " 'Magnezone': 'Electric',\n",
       " 'Lickilicky': 'Normal',\n",
       " 'Rhyperior': 'Ground',\n",
       " 'Tangrowth': 'Grass',\n",
       " 'Electivire': 'Electric',\n",
       " 'Magmortar': 'Fire',\n",
       " 'Togekiss': 'Fairy',\n",
       " 'Yanmega': 'Bug',\n",
       " 'Leafeon': 'Grass',\n",
       " 'Glaceon': 'Ice',\n",
       " 'Gliscor': 'Ground',\n",
       " 'Mamoswine': 'Ice',\n",
       " 'Porygon-Z': 'Normal',\n",
       " 'Gallade': 'Psychic',\n",
       " 'Probopass': 'Rock',\n",
       " 'Dusknoir': 'Ghost',\n",
       " 'Froslass': 'Ice',\n",
       " 'Rotom': 'Electric',\n",
       " 'Uxie': 'Psychic',\n",
       " 'Mesprit': 'Psychic',\n",
       " 'Azelf': 'Psychic',\n",
       " 'Dialga': 'Steel',\n",
       " 'Palkia': 'Water',\n",
       " 'Heatran': 'Fire',\n",
       " 'Regigigas': 'Normal',\n",
       " 'Giratina': 'Ghost',\n",
       " 'Cresselia': 'Psychic',\n",
       " 'Phione': 'Water',\n",
       " 'Manaphy': 'Water',\n",
       " 'Darkrai': 'Dark',\n",
       " 'Shaymin': 'Grass',\n",
       " 'Arceus': 'Normal',\n",
       " 'Victini': 'Psychic',\n",
       " 'Snivy': 'Grass',\n",
       " 'Servine': 'Grass',\n",
       " 'Serperior': 'Grass',\n",
       " 'Tepig': 'Fire',\n",
       " 'Pignite': 'Fire',\n",
       " 'Emboar': 'Fire',\n",
       " 'Oshawott': 'Water',\n",
       " 'Dewott': 'Water',\n",
       " 'Samurott': 'Water',\n",
       " 'Patrat': 'Normal',\n",
       " 'Watchog': 'Normal',\n",
       " 'Lillipup': 'Normal',\n",
       " 'Herdier': 'Normal',\n",
       " 'Stoutland': 'Normal',\n",
       " 'Purrloin': 'Dark',\n",
       " 'Liepard': 'Dark',\n",
       " 'Pansage': 'Grass',\n",
       " 'Simisage': 'Grass',\n",
       " 'Pansear': 'Fire',\n",
       " 'Simisear': 'Fire',\n",
       " 'Panpour': 'Water',\n",
       " 'Simipour': 'Water',\n",
       " 'Munna': 'Psychic',\n",
       " 'Musharna': 'Psychic',\n",
       " 'Pidove': 'Normal',\n",
       " 'Tranquill': 'Normal',\n",
       " 'Unfezant': 'Normal',\n",
       " 'Blitzle': 'Electric',\n",
       " 'Zebstrika': 'Electric',\n",
       " 'Roggenrola': 'Rock',\n",
       " 'Boldore': 'Rock',\n",
       " 'Gigalith': 'Rock',\n",
       " 'Woobat': 'Psychic',\n",
       " 'Swoobat': 'Psychic',\n",
       " 'Drilbur': 'Ground',\n",
       " 'Excadrill': 'Ground',\n",
       " 'Audino': 'Normal',\n",
       " 'Timburr': 'Fighting',\n",
       " 'Gurdurr': 'Fighting',\n",
       " 'Conkeldurr': 'Fighting',\n",
       " 'Tympole': 'Water',\n",
       " 'Palpitoad': 'Water',\n",
       " 'Seismitoad': 'Water',\n",
       " 'Throh': 'Fighting',\n",
       " 'Sawk': 'Fighting',\n",
       " 'Sewaddle': 'Bug',\n",
       " 'Swadloon': 'Bug',\n",
       " 'Leavanny': 'Bug',\n",
       " 'Venipede': 'Bug',\n",
       " 'Whirlipede': 'Bug',\n",
       " 'Scolipede': 'Bug',\n",
       " 'Cottonee': 'Grass',\n",
       " 'Whimsicott': 'Grass',\n",
       " 'Petilil': 'Grass',\n",
       " 'Lilligant': 'Grass',\n",
       " 'Basculin': 'Water',\n",
       " 'Sandile': 'Ground',\n",
       " 'Krokorok': 'Ground',\n",
       " 'Krookodile': 'Ground',\n",
       " 'Darumaka': 'Fire',\n",
       " 'Darmanitan': 'Fire',\n",
       " 'Maractus': 'Grass',\n",
       " 'Dwebble': 'Bug',\n",
       " 'Crustle': 'Bug',\n",
       " 'Scraggy': 'Dark',\n",
       " 'Scrafty': 'Dark',\n",
       " 'Sigilyph': 'Psychic',\n",
       " 'Yamask': 'Ghost',\n",
       " 'Cofagrigus': 'Ghost',\n",
       " 'Tirtouga': 'Water',\n",
       " 'Carracosta': 'Water',\n",
       " 'Archen': 'Rock',\n",
       " 'Archeops': 'Rock',\n",
       " 'Trubbish': 'Poison',\n",
       " 'Garbodor': 'Poison',\n",
       " 'Zorua': 'Dark',\n",
       " 'Zoroark': 'Dark',\n",
       " 'Minccino': 'Normal',\n",
       " 'Cinccino': 'Normal',\n",
       " 'Gothita': 'Psychic',\n",
       " 'Gothorita': 'Psychic',\n",
       " 'Gothitelle': 'Psychic',\n",
       " 'Solosis': 'Psychic',\n",
       " 'Duosion': 'Psychic',\n",
       " 'Reuniclus': 'Psychic',\n",
       " 'Ducklett': 'Water',\n",
       " 'Swanna': 'Water',\n",
       " 'Vanillite': 'Ice',\n",
       " 'Vanillish': 'Ice',\n",
       " 'Vanilluxe': 'Ice',\n",
       " 'Deerling': 'Normal',\n",
       " 'Sawsbuck': 'Normal',\n",
       " 'Emolga': 'Electric',\n",
       " 'Karrablast': 'Bug',\n",
       " 'Escavalier': 'Bug',\n",
       " 'Foongus': 'Grass',\n",
       " 'Amoonguss': 'Grass',\n",
       " 'Frillish': 'Water',\n",
       " 'Jellicent': 'Water',\n",
       " 'Alomomola': 'Water',\n",
       " 'Joltik': 'Bug',\n",
       " 'Galvantula': 'Bug',\n",
       " 'Ferroseed': 'Grass',\n",
       " 'Ferrothorn': 'Grass',\n",
       " 'Klink': 'Steel',\n",
       " 'Klang': 'Steel',\n",
       " 'Klinklang': 'Steel',\n",
       " 'Tynamo': 'Electric',\n",
       " 'Eelektrik': 'Electric',\n",
       " 'Eelektross': 'Electric',\n",
       " 'Elgyem': 'Psychic',\n",
       " 'Beheeyem': 'Psychic',\n",
       " 'Litwick': 'Ghost',\n",
       " 'Lampent': 'Ghost',\n",
       " 'Chandelure': 'Ghost',\n",
       " 'Axew': 'Dragon',\n",
       " 'Fraxure': 'Dragon',\n",
       " 'Haxorus': 'Dragon',\n",
       " 'Cubchoo': 'Ice',\n",
       " 'Beartic': 'Ice',\n",
       " 'Cryogonal': 'Ice',\n",
       " 'Shelmet': 'Bug',\n",
       " 'Accelgor': 'Bug',\n",
       " 'Stunfisk': 'Ground',\n",
       " 'Mienfoo': 'Fighting',\n",
       " 'Mienshao': 'Fighting',\n",
       " 'Druddigon': 'Dragon',\n",
       " 'Golett': 'Ground',\n",
       " 'Golurk': 'Ground',\n",
       " 'Pawniard': 'Dark',\n",
       " 'Bisharp': 'Dark',\n",
       " 'Bouffalant': 'Normal',\n",
       " 'Rufflet': 'Normal',\n",
       " 'Braviary': 'Normal',\n",
       " 'Vullaby': 'Dark',\n",
       " 'Mandibuzz': 'Dark',\n",
       " 'Heatmor': 'Fire',\n",
       " 'Durant': 'Bug',\n",
       " 'Deino': 'Dark',\n",
       " 'Zweilous': 'Dark',\n",
       " 'Hydreigon': 'Dark',\n",
       " 'Larvesta': 'Bug',\n",
       " 'Volcarona': 'Bug',\n",
       " 'Cobalion': 'Steel',\n",
       " 'Terrakion': 'Rock',\n",
       " 'Virizion': 'Grass',\n",
       " 'Tornadus': 'Flying',\n",
       " 'Thundurus': 'Electric',\n",
       " 'Reshiram': 'Dragon',\n",
       " 'Zekrom': 'Dragon',\n",
       " 'Landorus': 'Ground',\n",
       " 'Kyurem': 'Dragon',\n",
       " 'Keldeo': 'Water',\n",
       " 'Meloetta': 'Normal',\n",
       " 'Genesect': 'Bug',\n",
       " 'Chespin': 'Grass',\n",
       " 'Quilladin': 'Grass',\n",
       " 'Chesnaught': 'Grass',\n",
       " 'Fennekin': 'Fire',\n",
       " 'Braixen': 'Fire',\n",
       " 'Delphox': 'Fire',\n",
       " 'Froakie': 'Water',\n",
       " 'Frogadier': 'Water',\n",
       " 'Greninja': 'Water',\n",
       " 'Bunnelby': 'Normal',\n",
       " 'Diggersby': 'Normal',\n",
       " 'Fletchling': 'Normal',\n",
       " 'Fletchinder': 'Fire',\n",
       " 'Talonflame': 'Fire',\n",
       " 'Scatterbug': 'Bug',\n",
       " 'Spewpa': 'Bug',\n",
       " 'Vivillon': 'Bug',\n",
       " 'Litleo': 'Fire',\n",
       " 'Pyroar': 'Fire',\n",
       " 'Flabébé': 'Fairy',\n",
       " 'Floette': 'Fairy',\n",
       " 'Florges': 'Fairy',\n",
       " 'Skiddo': 'Grass',\n",
       " 'Gogoat': 'Grass',\n",
       " 'Pancham': 'Fighting',\n",
       " 'Pangoro': 'Fighting',\n",
       " 'Furfrou': 'Normal',\n",
       " 'Espurr': 'Psychic',\n",
       " 'Meowstic': 'Psychic',\n",
       " 'Honedge': 'Steel',\n",
       " 'Doublade': 'Steel',\n",
       " 'Aegislash': 'Steel',\n",
       " 'Spritzee': 'Fairy',\n",
       " 'Aromatisse': 'Fairy',\n",
       " 'Swirlix': 'Fairy',\n",
       " 'Slurpuff': 'Fairy',\n",
       " 'Inkay': 'Dark',\n",
       " 'Malamar': 'Dark',\n",
       " 'Binacle': 'Rock',\n",
       " 'Barbaracle': 'Rock',\n",
       " 'Skrelp': 'Poison',\n",
       " 'Dragalge': 'Poison',\n",
       " 'Clauncher': 'Water',\n",
       " 'Clawitzer': 'Water',\n",
       " 'Helioptile': 'Electric',\n",
       " 'Heliolisk': 'Electric',\n",
       " 'Tyrunt': 'Rock',\n",
       " 'Tyrantrum': 'Rock',\n",
       " 'Amaura': 'Rock',\n",
       " 'Aurorus': 'Rock',\n",
       " 'Sylveon': 'Fairy',\n",
       " 'Hawlucha': 'Fighting',\n",
       " 'Dedenne': 'Electric',\n",
       " 'Carbink': 'Rock',\n",
       " 'Goomy': 'Dragon',\n",
       " 'Sliggoo': 'Dragon',\n",
       " 'Goodra': 'Dragon',\n",
       " 'Klefki': 'Steel',\n",
       " 'Phantump': 'Ghost',\n",
       " 'Trevenant': 'Ghost',\n",
       " 'Pumpkaboo': 'Ghost',\n",
       " 'Gourgeist': 'Ghost',\n",
       " 'Bergmite': 'Ice',\n",
       " 'Avalugg': 'Ice',\n",
       " 'Noibat': 'Flying',\n",
       " 'Noivern': 'Flying',\n",
       " 'Xerneas': 'Fairy',\n",
       " 'Yveltal': 'Dark',\n",
       " 'Zygarde': 'Dragon',\n",
       " 'Diancie': 'Rock',\n",
       " 'Hoopa': 'Psychic',\n",
       " 'Volcanion': 'Fire'}"
      ]
     },
     "execution_count": 56,
     "metadata": {},
     "output_type": "execute_result"
    }
   ],
   "source": [
    "pokemon_types"
   ]
  },
  {
   "cell_type": "code",
   "execution_count": 57,
   "metadata": {
    "collapsed": false,
    "jupyter": {
     "outputs_hidden": false
    }
   },
   "outputs": [
    {
     "data": {
      "text/plain": [
       "0        Grass\n",
       "1        Grass\n",
       "2        Grass\n",
       "3         Fire\n",
       "4         Fire\n",
       "        ...   \n",
       "716       Dark\n",
       "717     Dragon\n",
       "718       Rock\n",
       "719    Psychic\n",
       "720       Fire\n",
       "Name: Pokemon, Length: 721, dtype: object"
      ]
     },
     "execution_count": 57,
     "metadata": {},
     "output_type": "execute_result"
    }
   ],
   "source": [
    "pokemon_names.map(pokemon_types)"
   ]
  }
 ],
 "metadata": {
  "anaconda-cloud": {},
  "kernelspec": {
   "display_name": "Python 3",
   "language": "python",
   "name": "python3"
  },
  "language_info": {
   "codemirror_mode": {
    "name": "ipython",
    "version": 3
   },
   "file_extension": ".py",
   "mimetype": "text/x-python",
   "name": "python",
   "nbconvert_exporter": "python",
   "pygments_lexer": "ipython3",
   "version": "3.8.3"
  }
 },
 "nbformat": 4,
 "nbformat_minor": 4
}
